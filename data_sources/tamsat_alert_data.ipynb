{
 "cells": [
  {
   "cell_type": "code",
   "execution_count": 2,
   "id": "e61f4aa6",
   "metadata": {},
   "outputs": [],
   "source": [
    "from bs4 import BeautifulSoup\n",
    "from urllib.request import Request, urlopen\n",
    "import re\n",
    "import contextlib\n",
    "\n",
    "#req = Request(f'http://{url}/IGAD_Combined_Drought_Indicator/CHIRPS/', headers={'User-Agent': 'Mozilla/5.0'})\n",
    "\n",
    "req = Request('https://gws-access.jasmin.ac.uk/public/odanceo/tamsat_alert/historical/', headers={'User-Agent': 'Mozilla/5.0'})\n",
    "\n",
    "\n",
    "\n",
    "with contextlib.closing(urlopen(req)) as x:\n",
    "    html_page = x.read()\n",
    "\n",
    "soup = BeautifulSoup(html_page, 'html.parser')\n",
    "links = []\n",
    "for table in soup.findAll('table'):\n",
    "    for tr in table.findAll('tr'):\n",
    "        for a in tr.findAll('a'):\n",
    "            flname=a['href']\n",
    "            if '.nc' in flname:\n",
    "                links.append(flname)\n",
    "            else:\n",
    "                pass"
   ]
  },
  {
   "cell_type": "code",
   "execution_count": 4,
   "id": "7a9134c6",
   "metadata": {},
   "outputs": [
    {
     "name": "stdout",
     "output_type": "stream",
     "text": [
      "https://gws-access.jasmin.ac.uk/public/odanceo/tamsat_alert/historical/sm_data.daily.1999.nc\n",
      "https://gws-access.jasmin.ac.uk/public/odanceo/tamsat_alert/historical/sm_data.daily.2000.nc\n",
      "https://gws-access.jasmin.ac.uk/public/odanceo/tamsat_alert/historical/sm_data.daily.2001.nc\n",
      "https://gws-access.jasmin.ac.uk/public/odanceo/tamsat_alert/historical/sm_data.daily.2002.nc\n",
      "https://gws-access.jasmin.ac.uk/public/odanceo/tamsat_alert/historical/sm_data.daily.2003.nc\n",
      "https://gws-access.jasmin.ac.uk/public/odanceo/tamsat_alert/historical/sm_data.daily.2004.nc\n",
      "https://gws-access.jasmin.ac.uk/public/odanceo/tamsat_alert/historical/sm_data.daily.2005.nc\n",
      "https://gws-access.jasmin.ac.uk/public/odanceo/tamsat_alert/historical/sm_data.daily.2006.nc\n",
      "https://gws-access.jasmin.ac.uk/public/odanceo/tamsat_alert/historical/sm_data.daily.2007.nc\n",
      "https://gws-access.jasmin.ac.uk/public/odanceo/tamsat_alert/historical/sm_data.daily.2008.nc\n",
      "https://gws-access.jasmin.ac.uk/public/odanceo/tamsat_alert/historical/sm_data.daily.2009.nc\n",
      "https://gws-access.jasmin.ac.uk/public/odanceo/tamsat_alert/historical/sm_data.daily.2010.nc\n",
      "https://gws-access.jasmin.ac.uk/public/odanceo/tamsat_alert/historical/sm_data.daily.2011.nc\n",
      "https://gws-access.jasmin.ac.uk/public/odanceo/tamsat_alert/historical/sm_data.daily.2012.nc\n",
      "https://gws-access.jasmin.ac.uk/public/odanceo/tamsat_alert/historical/sm_data.daily.2013.nc\n",
      "https://gws-access.jasmin.ac.uk/public/odanceo/tamsat_alert/historical/sm_data.daily.2014.nc\n",
      "https://gws-access.jasmin.ac.uk/public/odanceo/tamsat_alert/historical/sm_data.daily.2015.nc\n",
      "https://gws-access.jasmin.ac.uk/public/odanceo/tamsat_alert/historical/sm_data.daily.2016.nc\n",
      "https://gws-access.jasmin.ac.uk/public/odanceo/tamsat_alert/historical/sm_data.daily.2017.nc\n",
      "https://gws-access.jasmin.ac.uk/public/odanceo/tamsat_alert/historical/sm_data.daily.2018.nc\n",
      "https://gws-access.jasmin.ac.uk/public/odanceo/tamsat_alert/historical/sm_data.daily.2019.nc\n",
      "https://gws-access.jasmin.ac.uk/public/odanceo/tamsat_alert/historical/sm_data.daily.2020.nc\n",
      "https://gws-access.jasmin.ac.uk/public/odanceo/tamsat_alert/historical/sm_data.daily.2021.nc\n",
      "https://gws-access.jasmin.ac.uk/public/odanceo/tamsat_alert/historical/test2021_v1p0p1.nc\n"
     ]
    }
   ],
   "source": [
    "for link in links:\n",
    "    print(f'https://gws-access.jasmin.ac.uk/public/odanceo/tamsat_alert/historical/{link}')"
   ]
  },
  {
   "cell_type": "code",
   "execution_count": null,
   "id": "6b8af005",
   "metadata": {},
   "outputs": [],
   "source": []
  }
 ],
 "metadata": {
  "kernelspec": {
   "display_name": "Python 3 (ipykernel)",
   "language": "python",
   "name": "python3"
  },
  "language_info": {
   "codemirror_mode": {
    "name": "ipython",
    "version": 3
   },
   "file_extension": ".py",
   "mimetype": "text/x-python",
   "name": "python",
   "nbconvert_exporter": "python",
   "pygments_lexer": "ipython3",
   "version": "3.8.13"
  }
 },
 "nbformat": 4,
 "nbformat_minor": 5
}

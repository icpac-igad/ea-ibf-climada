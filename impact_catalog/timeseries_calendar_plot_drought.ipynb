{
 "cells": [
  {
   "cell_type": "code",
   "execution_count": null,
   "id": "9cf586de",
   "metadata": {
    "ExecuteTime": {
     "end_time": "2022-10-10T21:29:22.089701Z",
     "start_time": "2022-10-10T21:29:20.551687Z"
    }
   },
   "outputs": [],
   "source": [
    "import pandas as pd\n",
    "from datetime import datetime\n",
    "import numpy as np\n",
    "\n",
    "em_data_filepath='emdat_public_2022_08_11_query_uid-IKGfZc.xlsx'\n",
    "\n",
    "dfb = pd.read_excel(em_data_filepath, engine='openpyxl',skiprows=6,sheet_name = 'emdat data')"
   ]
  },
  {
   "cell_type": "markdown",
   "id": "e5cf74df",
   "metadata": {},
   "source": [
    "## East Africa Drought"
   ]
  },
  {
   "cell_type": "code",
   "execution_count": null,
   "id": "2b2bc97e",
   "metadata": {
    "ExecuteTime": {
     "end_time": "2022-10-10T20:19:34.176044Z",
     "start_time": "2022-10-10T20:19:34.150590Z"
    }
   },
   "outputs": [],
   "source": [
    "dfb_dr=dfb[dfb['Disaster Type']=='Drought']\n",
    "\n",
    "ea_cntr=['Djibouti', 'Eritrea','Ethiopia','Kenya','Rwanda', 'Somalia','South Sudan','Sudan (the)','Tanzania, United Republic of']\n",
    "\n",
    "#dfb1_ea=dfb1[dfb1['Country'].str.contains(ea_cntr)]\n",
    "dfb_dr_ea=dfb_dr[dfb_dr['Country'].isin(ea_cntr)]\n",
    "dfb_dr_ea.info()"
   ]
  },
  {
   "cell_type": "code",
   "execution_count": null,
   "id": "51ffe231",
   "metadata": {
    "ExecuteTime": {
     "end_time": "2022-10-10T21:28:50.348197Z",
     "start_time": "2022-10-10T21:28:50.335892Z"
    }
   },
   "outputs": [],
   "source": [
    "dfb_dr_ea_time=dfb_dr_ea[['Dis No','Start Year', 'Start Month', 'Start Day', 'End Year', 'End Month','End Day']]\n",
    "\n",
    "dfb_dr_ea_time.info()\n",
    "#pd.set_option('display.max_columns', 8)\n",
    "#pd.set_option('display.max_rows', 200)"
   ]
  },
  {
   "cell_type": "code",
   "execution_count": null,
   "id": "5069b193",
   "metadata": {
    "ExecuteTime": {
     "end_time": "2022-10-10T21:28:54.201293Z",
     "start_time": "2022-10-10T21:28:54.162472Z"
    }
   },
   "outputs": [],
   "source": [
    "\n",
    "\n",
    "dfb_dr_ea_time=dfb_dr_ea[['Dis No','Start Year', 'Start Month', 'Start Day', 'End Year', 'End Month','End Day']]\n",
    "#dfb_dr_ea_time['Start Month'].tolist()\n",
    "dfb_dr_ea_time['Start Month']=dfb_dr_ea_time['Start Month'].fillna(1.0)\n",
    "dfb_dr_ea_time['Start Day']=dfb_dr_ea_time['Start Day'].fillna(1.0)\n",
    "\n",
    "dfb_dr_ea_time['End Month']=dfb_dr_ea_time['End Month'].fillna(12.0)\n",
    "\n",
    "def last_day_month(row):\n",
    "    firstday_month = datetime(int(row['End Year']), int(row['End Month']), 1)\n",
    "    lastday_month = firstday_month + pd.DateOffset(months=1) - pd.DateOffset(days=1)\n",
    "    lastday_month_str =lastday_month.strftime(\"%d\")\n",
    "    return lastday_month_str\n",
    "\n",
    " \n",
    "for idx,row in dfb_dr_ea_time.iterrows():\n",
    "    dfb_dr_ea_time.loc[idx,'End Day'] = last_day_month(row)    \n",
    "    #dfb_dr_ea_time.loc[idx,'end_day'] = last_day_month(row)    \n",
    "\n",
    "    \n",
    "#dfb_dr_ea_time['End Day']=dfb_dr_ea_time['Start Day'].fillna(28.0)\n",
    "\n",
    "\n",
    "dfb_dr_ea_time['Start Year']=dfb_dr_ea_time[\"Start Year\"].astype(str)\n",
    "#dfb_dr_ea_time['Start Month']=dfb_dr_ea_time[\"Start Month\"].astype(str)\n",
    "dfb_dr_ea_time['Start Month']=dfb_dr_ea_time[\"Start Month\"].apply(lambda x: str(int(x)).zfill(2))\n",
    "dfb_dr_ea_time['End Year']=dfb_dr_ea_time[\"End Year\"].astype(str)\n",
    "#dfb_dr_ea_time['End Month']=dfb_dr_ea_time[\"End Month\"].astype(str)\n",
    "dfb_dr_ea_time['End Month']=dfb_dr_ea_time[\"End Month\"].apply(lambda x: str(int(x)).zfill(2))"
   ]
  },
  {
   "cell_type": "code",
   "execution_count": null,
   "id": "7930f22a",
   "metadata": {
    "ExecuteTime": {
     "end_time": "2022-10-10T21:29:00.165122Z",
     "start_time": "2022-10-10T21:29:00.012965Z"
    }
   },
   "outputs": [],
   "source": [
    "#pd.date_range('2014-10-10','2016-01-07', freq='MS').strftime(\"%Y-%m\").tolist()\n",
    "\n",
    "def create_daterange_list(row):\n",
    "    start_date_str=row['Start Year']+'-'+row['Start Month']+'-'+str(int(row['Start Day']))\n",
    "    end_date_str=row['End Year']+'-'+row['End Month']+'-'+row['End Day']\n",
    "    date_str_list=pd.date_range(start_date_str,end_date_str, freq='D').strftime(\"%Y-%m-%d\").tolist()\n",
    "    return date_str_list\n",
    "\n",
    "\n",
    "date_str_list_cont=[]\n",
    "for idx,row in dfb_dr_ea_time.iterrows():\n",
    "    #dfb_dr_ea_time.at[idx,'date_str_list'] = create_daterange_list(row)\n",
    "    #print(idx)\n",
    "    #print(row)\n",
    "    date_str_list=create_daterange_list(row)\n",
    "    date_str_list_cont.append(date_str_list)\n",
    "    \n",
    "#dfb_dr_ea_time\n",
    "\n",
    "#df_dr=dfb_dr_ea_time.explode('date_str_list')\n",
    "\n",
    "#df_dr1=df_dr.drop_duplicates('date_str_list')\n",
    "dfb_dr_ea_time['date_str_list']=date_str_list_cont\n",
    "df_dr=dfb_dr_ea_time.explode('date_str_list')\n",
    "df_dr1=df_dr.drop_duplicates('date_str_list')"
   ]
  },
  {
   "cell_type": "code",
   "execution_count": null,
   "id": "bd98f4e8",
   "metadata": {
    "ExecuteTime": {
     "end_time": "2022-10-10T21:30:12.440927Z",
     "start_time": "2022-10-10T21:30:11.780580Z"
    }
   },
   "outputs": [],
   "source": [
    "df_dr1['dr']=1\n",
    "#df_dr1=df_dr.drop_duplicates('date_str_list')\n",
    "df_dr1['date']=df_dr1['date_str_list'].apply(pd.to_datetime)\n",
    "df_dr1['doy']=df_dr1['date'].dt.dayofyear\n",
    "df_dr1['year']=df_dr1['date'].dt.year\n",
    "df_dr2=df_dr1[['year','doy','dr']]\n",
    "df=pd.pivot_table(df_dr2, values='dr', index=['year'],columns=['doy'])\n",
    "df1=df.rename_axis(None)\n",
    "\n",
    "df2=df1.fillna(2)\n",
    "\n",
    "cols=df2.columns\n",
    "df2[cols] = df2[cols].applymap(np.int64)\n",
    "df3=df2.iloc[:, 0:60]\n",
    "df4=df3.reset_index()"
   ]
  },
  {
   "cell_type": "code",
   "execution_count": null,
   "id": "93af5775",
   "metadata": {
    "ExecuteTime": {
     "end_time": "2022-10-10T21:30:17.780260Z",
     "start_time": "2022-10-10T21:30:17.595611Z"
    }
   },
   "outputs": [],
   "source": [
    "import pandas as pd\n",
    "import numpy as np\n",
    "import matplotlib\n",
    "matplotlib.use(\"Agg\")\n",
    "import matplotlib.pyplot as plt\n",
    "import six\n",
    "from datetime import datetime\n",
    "\n",
    "\n",
    "### functions for whole column, row editing\n",
    "def set_align_for_column(table, col, align=\"left\"):\n",
    "    cells = [key for key in table._cells if key[1] == col]\n",
    "    for cell in cells:\n",
    "        table._cells[cell]._loc = align\n",
    "\n",
    "\n",
    "def set_width_for_column(table, col, width):\n",
    "    cells = [key for key in table._cells if key[1] == col]\n",
    "    for cell in cells:\n",
    "        table._cells[cell]._width = width\n",
    "        \n",
    "def set_height_for_row(table, row, height):\n",
    "    cells = [key for key in table._cells if key[0] == row]\n",
    "    for cell in cells:\n",
    "        table._cells[cell]._height = height\n",
    "\n",
    "def colorcell(tablerows,tablecols,cellDict):\n",
    "    allcells=[(x,y) for x in tablerows[1:] for y in tablecols[1:]]\n",
    "    for alcls in allcells:\n",
    "        if int(cellDict[alcls]._text.get_text()) ==0:\n",
    "            cellDict[alcls].set_facecolor('#009600')\n",
    "        elif int(cellDict[alcls]._text.get_text()) == 1:\n",
    "            cellDict[alcls].set_facecolor('#64C800')\n",
    "        else:\n",
    "            cellDict[alcls].set_facecolor('#961414')\n",
    "\n",
    "def removeaqivalue(tablerows,tablecols,mpl_table):\n",
    "    allcells=[(x,y) for x in tablerows[1:] for y in tablecols[1:]]\n",
    "    for alcls in allcells:\n",
    "        mpl_table._cells[alcls]._text.set_text('')\n",
    "\n",
    "def set_height_for_row_except_head(table, rowlist, height):\n",
    "    cells_list=[]\n",
    "    for row in rowlist:\n",
    "        cells = [key for key in table._cells if key[0] == row]\n",
    "        cells_list.append(cells)\n",
    "    for cells in cells_list:\n",
    "        for cell in cells:\n",
    "             table._cells[cell]._height = height\n",
    "\n",
    "### funciton for table creation\n",
    "def render_mpl_table(data, col_width=1.0, row_height=1.625, font_size=12,\n",
    "                     header_color='#40466e', row_colors=['#f1f1f2', 'w'], edge_color='w',\n",
    "                     bbox=[0, 0, 1, 1], header_columns=0,\n",
    "                     ax=None, **kwargs):\n",
    "    mpl_table = ax.table(cellText=data.values, bbox=bbox, colLabels=['' for _ in range(366)],cellLoc='center', **kwargs)\n",
    "    set_align_for_column(mpl_table, col=0, align=\"left\")\n",
    "    cellDict=mpl_table.get_celld()\n",
    "    noofcol=8\n",
    "    noofrow=len(cellDict)/noofcol\n",
    "    set_width_for_column(mpl_table, 0, 0.1)\n",
    "    #set_width_for_column(mpl_table, 1, 0.02)\n",
    "    #set_width_for_column(mpl_table, 2, 0.02)\n",
    "    #set_width_for_column(mpl_table, 3, 0.02)\n",
    "    #set_width_for_column(mpl_table, 4, 0.02)\n",
    "    set_height_for_row(mpl_table, 0, 0.01)\n",
    "    set_height_for_row_except_head(mpl_table, np.arange(1,len(data.index)), 0.012)\n",
    "\n",
    "    mpl_table.auto_set_font_size(False)\n",
    "    mpl_table.set_fontsize(font_size)\n",
    "    cellDict=mpl_table.get_celld()\n",
    "    tablerows=np.arange(0,len(data.index)+1)\n",
    "    tablecols=np.arange(0,len(data.columns))\n",
    "    for k, cell in  six.iteritems(mpl_table._cells):\n",
    "        cell.set_linewidth(0)\n",
    "        #cell.set_edgecolor(edge_color)\n",
    "        if k[0] == 0 or k[1] < header_columns:\n",
    "            cell.set_text_props(weight='bold', color='w')\n",
    "            cell.set_facecolor(header_color)\n",
    "            colorcell(tablerows,tablecols,cellDict)\n",
    "        else:\n",
    "            cell.set_facecolor(row_colors[k[0]%len(row_colors) ])\n",
    "#     headings=data.columns\n",
    "#     plt.text(0.07, 0.95,'Years', horizontalalignment='left',fontsize=14,fontweight='bold',\n",
    "#              color='w', verticalalignment='center', transform =ax.transAxes)\n",
    "#     plt.text(0.6, 0.965,'Jan', horizontalalignment='left',fontsize=10,fontweight='bold',\n",
    "#              color='w', verticalalignment='center',rotation=90, transform =ax.transAxes)\n",
    "#     plt.text(0.715, 0.965,'Feb', horizontalalignment='left',fontsize=10,fontweight='bold',\n",
    "#              color='w', verticalalignment='center',rotation=90, transform =ax.transAxes)\n",
    "#     plt.text(0.815, 0.965,'Mar', horizontalalignment='left',fontsize=10,fontweight='bold',\n",
    "#              color='w', verticalalignment='center',rotation=90, transform =ax.transAxes)\n",
    "#     plt.text(0.925, 0.965,'Apr', horizontalalignment='left',fontsize=10,fontweight='bold',\n",
    "#              color='w', verticalalignment='center',rotation=90, transform =ax.transAxes)\n",
    "    removeaqivalue(tablerows,tablecols,mpl_table)\n",
    "    return ax\n"
   ]
  },
  {
   "cell_type": "code",
   "execution_count": null,
   "id": "f6175fcb",
   "metadata": {
    "ExecuteTime": {
     "end_time": "2022-10-10T21:31:41.148825Z",
     "start_time": "2022-10-10T21:31:40.348336Z"
    }
   },
   "outputs": [],
   "source": [
    "%matplotlib notebook\n",
    "\n",
    "### Define the picture size and remove the ticks\n",
    "fig = plt.figure()\n",
    "fig.set_size_inches(26,18)\n",
    "table=fig.add_axes([0.08, 0.02, 0.55, 0.9], frame_on=False) \n",
    "table.xaxis.set_ticks_position('none')\n",
    "table.yaxis.set_ticks_position('none') \n",
    "table.set_xticklabels('')\n",
    "table.set_yticklabels('')\n",
    "\n",
    "render_mpl_table(df4, header_columns=1, col_width=0.002,ax=table)\n",
    "plt.show()"
   ]
  },
  {
   "cell_type": "code",
   "execution_count": null,
   "id": "c2cc112f",
   "metadata": {
    "ExecuteTime": {
     "end_time": "2022-10-10T21:30:30.953547Z",
     "start_time": "2022-10-10T21:30:30.928905Z"
    }
   },
   "outputs": [],
   "source": [
    "df4"
   ]
  },
  {
   "cell_type": "code",
   "execution_count": null,
   "id": "793b2eb5",
   "metadata": {},
   "outputs": [],
   "source": []
  }
 ],
 "metadata": {
  "kernelspec": {
   "display_name": "Python 3 (ipykernel)",
   "language": "python",
   "name": "python3"
  },
  "language_info": {
   "codemirror_mode": {
    "name": "ipython",
    "version": 3
   },
   "file_extension": ".py",
   "mimetype": "text/x-python",
   "name": "python",
   "nbconvert_exporter": "python",
   "pygments_lexer": "ipython3",
   "version": "3.9.7"
  },
  "toc": {
   "base_numbering": 1,
   "nav_menu": {},
   "number_sections": true,
   "sideBar": true,
   "skip_h1_title": false,
   "title_cell": "Table of Contents",
   "title_sidebar": "Contents",
   "toc_cell": false,
   "toc_position": {},
   "toc_section_display": true,
   "toc_window_display": false
  }
 },
 "nbformat": 4,
 "nbformat_minor": 5
}

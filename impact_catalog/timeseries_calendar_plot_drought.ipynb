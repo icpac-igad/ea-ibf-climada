{
 "cells": [
  {
   "cell_type": "code",
   "execution_count": 1,
   "id": "9cf586de",
   "metadata": {
    "ExecuteTime": {
     "end_time": "2022-10-12T13:33:44.504076Z",
     "start_time": "2022-10-12T13:33:42.336506Z"
    }
   },
   "outputs": [
    {
     "name": "stderr",
     "output_type": "stream",
     "text": [
      "/opt/conda/lib/python3.9/site-packages/openpyxl/styles/stylesheet.py:226: UserWarning: Workbook contains no default style, apply openpyxl's default\n",
      "  warn(\"Workbook contains no default style, apply openpyxl's default\")\n"
     ]
    }
   ],
   "source": [
    "import pandas as pd\n",
    "from datetime import datetime\n",
    "import numpy as np\n",
    "\n",
    "em_data_filepath='emdat_public_2022_08_11_query_uid-IKGfZc.xlsx'\n",
    "\n",
    "dfb = pd.read_excel(em_data_filepath, engine='openpyxl',skiprows=6,sheet_name = 'emdat data')"
   ]
  },
  {
   "cell_type": "markdown",
   "id": "e5cf74df",
   "metadata": {},
   "source": [
    "## East Africa Drought"
   ]
  },
  {
   "cell_type": "code",
   "execution_count": 2,
   "id": "2b2bc97e",
   "metadata": {
    "ExecuteTime": {
     "end_time": "2022-10-12T13:33:46.918799Z",
     "start_time": "2022-10-12T13:33:46.897996Z"
    }
   },
   "outputs": [
    {
     "name": "stdout",
     "output_type": "stream",
     "text": [
      "<class 'pandas.core.frame.DataFrame'>\n",
      "Int64Index: 62 entries, 77 to 4601\n",
      "Data columns (total 50 columns):\n",
      " #   Column                                     Non-Null Count  Dtype  \n",
      "---  ------                                     --------------  -----  \n",
      " 0   Dis No                                     62 non-null     object \n",
      " 1   Year                                       62 non-null     int64  \n",
      " 2   Seq                                        62 non-null     int64  \n",
      " 3   Glide                                      23 non-null     object \n",
      " 4   Disaster Group                             62 non-null     object \n",
      " 5   Disaster Subgroup                          62 non-null     object \n",
      " 6   Disaster Type                              62 non-null     object \n",
      " 7   Disaster Subtype                           62 non-null     object \n",
      " 8   Disaster Subsubtype                        0 non-null      object \n",
      " 9   Event Name                                 0 non-null      object \n",
      " 10  Country                                    62 non-null     object \n",
      " 11  ISO                                        62 non-null     object \n",
      " 12  Region                                     62 non-null     object \n",
      " 13  Continent                                  62 non-null     object \n",
      " 14  Location                                   60 non-null     object \n",
      " 15  Origin                                     21 non-null     object \n",
      " 16  Associated Dis                             39 non-null     object \n",
      " 17  Associated Dis2                            8 non-null      object \n",
      " 18  OFDA Response                              14 non-null     object \n",
      " 19  Appeal                                     14 non-null     object \n",
      " 20  Declaration                                18 non-null     object \n",
      " 21  Aid Contribution                           5 non-null      float64\n",
      " 22  Dis Mag Value                              0 non-null      float64\n",
      " 23  Dis Mag Scale                              62 non-null     object \n",
      " 24  Latitude                                   0 non-null      object \n",
      " 25  Longitude                                  0 non-null      object \n",
      " 26  Local Time                                 0 non-null      object \n",
      " 27  River Basin                                0 non-null      object \n",
      " 28  Start Year                                 62 non-null     int64  \n",
      " 29  Start Month                                49 non-null     float64\n",
      " 30  Start Day                                  0 non-null      float64\n",
      " 31  End Year                                   62 non-null     int64  \n",
      " 32  End Month                                  25 non-null     float64\n",
      " 33  End Day                                    0 non-null      float64\n",
      " 34  Total Deaths                               7 non-null      float64\n",
      " 35  No Injured                                 0 non-null      float64\n",
      " 36  No Affected                                60 non-null     float64\n",
      " 37  No Homeless                                0 non-null      float64\n",
      " 38  Total Affected                             60 non-null     float64\n",
      " 39  Reconstruction Costs ('000 US$)            0 non-null      float64\n",
      " 40  Reconstruction Costs, Adjusted ('000 US$)  0 non-null      float64\n",
      " 41  Insured Damages ('000 US$)                 0 non-null      float64\n",
      " 42  Insured Damages, Adjusted ('000 US$)       0 non-null      float64\n",
      " 43  Total Damages ('000 US$)                   5 non-null      float64\n",
      " 44  Total Damages, Adjusted ('000 US$)         4 non-null      float64\n",
      " 45  CPI                                        61 non-null     float64\n",
      " 46  Adm Level                                  48 non-null     object \n",
      " 47  Admin1 Code                                31 non-null     object \n",
      " 48  Admin2 Code                                24 non-null     object \n",
      " 49  Geo Locations                              48 non-null     object \n",
      "dtypes: float64(18), int64(4), object(28)\n",
      "memory usage: 24.7+ KB\n"
     ]
    }
   ],
   "source": [
    "dfb_dr=dfb[dfb['Disaster Type']=='Drought']\n",
    "\n",
    "ea_cntr=['Djibouti', 'Eritrea','Ethiopia','Kenya','Rwanda', 'Somalia','South Sudan','Sudan (the)','Tanzania, United Republic of']\n",
    "\n",
    "#dfb1_ea=dfb1[dfb1['Country'].str.contains(ea_cntr)]\n",
    "dfb_dr_ea=dfb_dr[dfb_dr['Country'].isin(ea_cntr)]\n",
    "dfb_dr_ea.info()"
   ]
  },
  {
   "cell_type": "code",
   "execution_count": 8,
   "id": "ba79261a",
   "metadata": {
    "ExecuteTime": {
     "end_time": "2022-10-12T13:39:21.034915Z",
     "start_time": "2022-10-12T13:39:21.013688Z"
    }
   },
   "outputs": [
    {
     "data": {
      "text/html": [
       "<div>\n",
       "<style scoped>\n",
       "    .dataframe tbody tr th:only-of-type {\n",
       "        vertical-align: middle;\n",
       "    }\n",
       "\n",
       "    .dataframe tbody tr th {\n",
       "        vertical-align: top;\n",
       "    }\n",
       "\n",
       "    .dataframe thead th {\n",
       "        text-align: right;\n",
       "    }\n",
       "</style>\n",
       "<table border=\"1\" class=\"dataframe\">\n",
       "  <thead>\n",
       "    <tr style=\"text-align: right;\">\n",
       "      <th></th>\n",
       "      <th>Dis No</th>\n",
       "      <th>geob_adm2_list</th>\n",
       "      <th>count</th>\n",
       "    </tr>\n",
       "  </thead>\n",
       "  <tbody>\n",
       "    <tr>\n",
       "      <th>0</th>\n",
       "      <td>1999-9388-ERI</td>\n",
       "      <td>['ERI-ADM2-3_0_0-B20', 'ERI-ADM2-3_0_0-B21', '...</td>\n",
       "      <td>543</td>\n",
       "    </tr>\n",
       "    <tr>\n",
       "      <th>1</th>\n",
       "      <td>1999-9388-ETH</td>\n",
       "      <td>['ETH-ADM2-3_0_0-B5', 'ETH-ADM2-3_0_0-B33', 'E...</td>\n",
       "      <td>1092</td>\n",
       "    </tr>\n",
       "    <tr>\n",
       "      <th>2</th>\n",
       "      <td>1999-9388-DJI</td>\n",
       "      <td>['DJI-ADM2-3_0_0-B10', 'DJI-ADM2-3_0_0-B7', 'D...</td>\n",
       "      <td>233</td>\n",
       "    </tr>\n",
       "    <tr>\n",
       "      <th>3</th>\n",
       "      <td>1999-9388-SDN</td>\n",
       "      <td>['SDN-ADM2-3_0_0-B78', 'SDN-ADM2-3_0_0-B79', '...</td>\n",
       "      <td>713</td>\n",
       "    </tr>\n",
       "    <tr>\n",
       "      <th>4</th>\n",
       "      <td>1999-9388-RWA</td>\n",
       "      <td>['RWA-ADM2-3_0_0-B1', 'RWA-ADM2-3_0_0-B2', 'RW...</td>\n",
       "      <td>63</td>\n",
       "    </tr>\n",
       "    <tr>\n",
       "      <th>...</th>\n",
       "      <td>...</td>\n",
       "      <td>...</td>\n",
       "      <td>...</td>\n",
       "    </tr>\n",
       "    <tr>\n",
       "      <th>57</th>\n",
       "      <td>1996-9326-TZA</td>\n",
       "      <td>['TZA-ADM2-3_0_0-B165', 'TZA-ADM2-3_0_0-B163',...</td>\n",
       "      <td>2351</td>\n",
       "    </tr>\n",
       "    <tr>\n",
       "      <th>58</th>\n",
       "      <td>1996-9089-RWA</td>\n",
       "      <td>['RWA-ADM2-3_0_0-B8']</td>\n",
       "      <td>21</td>\n",
       "    </tr>\n",
       "    <tr>\n",
       "      <th>59</th>\n",
       "      <td>1996-9220-SDN</td>\n",
       "      <td>['SDN-ADM2-3_0_0-B52', 'SDN-ADM2-3_0_0-B46', '...</td>\n",
       "      <td>222</td>\n",
       "    </tr>\n",
       "    <tr>\n",
       "      <th>60</th>\n",
       "      <td>1998-9237-ETH</td>\n",
       "      <td>['ETH-ADM2-3_0_0-B4', 'ETH-ADM2-3_0_0-B27', 'E...</td>\n",
       "      <td>1619</td>\n",
       "    </tr>\n",
       "    <tr>\n",
       "      <th>61</th>\n",
       "      <td>2022-9174-ETH</td>\n",
       "      <td>['ETH-ADM2-3_0_0-B4', 'ETH-ADM2-3_0_0-B27', 'E...</td>\n",
       "      <td>569</td>\n",
       "    </tr>\n",
       "  </tbody>\n",
       "</table>\n",
       "<p>62 rows × 3 columns</p>\n",
       "</div>"
      ],
      "text/plain": [
       "           Dis No                                     geob_adm2_list  count\n",
       "0   1999-9388-ERI  ['ERI-ADM2-3_0_0-B20', 'ERI-ADM2-3_0_0-B21', '...    543\n",
       "1   1999-9388-ETH  ['ETH-ADM2-3_0_0-B5', 'ETH-ADM2-3_0_0-B33', 'E...   1092\n",
       "2   1999-9388-DJI  ['DJI-ADM2-3_0_0-B10', 'DJI-ADM2-3_0_0-B7', 'D...    233\n",
       "3   1999-9388-SDN  ['SDN-ADM2-3_0_0-B78', 'SDN-ADM2-3_0_0-B79', '...    713\n",
       "4   1999-9388-RWA  ['RWA-ADM2-3_0_0-B1', 'RWA-ADM2-3_0_0-B2', 'RW...     63\n",
       "..            ...                                                ...    ...\n",
       "57  1996-9326-TZA  ['TZA-ADM2-3_0_0-B165', 'TZA-ADM2-3_0_0-B163',...   2351\n",
       "58  1996-9089-RWA                              ['RWA-ADM2-3_0_0-B8']     21\n",
       "59  1996-9220-SDN  ['SDN-ADM2-3_0_0-B52', 'SDN-ADM2-3_0_0-B46', '...    222\n",
       "60  1998-9237-ETH  ['ETH-ADM2-3_0_0-B4', 'ETH-ADM2-3_0_0-B27', 'E...   1619\n",
       "61  2022-9174-ETH  ['ETH-ADM2-3_0_0-B4', 'ETH-ADM2-3_0_0-B27', 'E...    569\n",
       "\n",
       "[62 rows x 3 columns]"
      ]
     },
     "execution_count": 8,
     "metadata": {},
     "output_type": "execute_result"
    }
   ],
   "source": [
    "em_data_location_filepath='em_dat_ea_drought_adm2.xlsx'\n",
    "\n",
    "dfb = pd.read_excel(em_data_location_filepath, engine='openpyxl')\n",
    "\n",
    "dfb['count']=dfb['geob_adm2_list'].str.len()\n",
    "dfb"
   ]
  },
  {
   "cell_type": "code",
   "execution_count": null,
   "id": "51ffe231",
   "metadata": {
    "ExecuteTime": {
     "end_time": "2022-10-10T21:28:50.348197Z",
     "start_time": "2022-10-10T21:28:50.335892Z"
    }
   },
   "outputs": [],
   "source": [
    "dfb_dr_ea_time=dfb_dr_ea[['Dis No','Start Year', 'Start Month', 'Start Day', 'End Year', 'End Month','End Day']]\n",
    "\n",
    "dfb_dr_ea_time.info()\n",
    "#pd.set_option('display.max_columns', 8)\n",
    "#pd.set_option('display.max_rows', 200)"
   ]
  },
  {
   "cell_type": "code",
   "execution_count": null,
   "id": "5069b193",
   "metadata": {
    "ExecuteTime": {
     "end_time": "2022-10-10T21:28:54.201293Z",
     "start_time": "2022-10-10T21:28:54.162472Z"
    }
   },
   "outputs": [],
   "source": [
    "\n",
    "\n",
    "dfb_dr_ea_time=dfb_dr_ea[['Dis No','Start Year', 'Start Month', 'Start Day', 'End Year', 'End Month','End Day']]\n",
    "#dfb_dr_ea_time['Start Month'].tolist()\n",
    "dfb_dr_ea_time['Start Month']=dfb_dr_ea_time['Start Month'].fillna(1.0)\n",
    "dfb_dr_ea_time['Start Day']=dfb_dr_ea_time['Start Day'].fillna(1.0)\n",
    "\n",
    "dfb_dr_ea_time['End Month']=dfb_dr_ea_time['End Month'].fillna(12.0)\n",
    "\n",
    "def last_day_month(row):\n",
    "    firstday_month = datetime(int(row['End Year']), int(row['End Month']), 1)\n",
    "    lastday_month = firstday_month + pd.DateOffset(months=1) - pd.DateOffset(days=1)\n",
    "    lastday_month_str =lastday_month.strftime(\"%d\")\n",
    "    return lastday_month_str\n",
    "\n",
    " \n",
    "for idx,row in dfb_dr_ea_time.iterrows():\n",
    "    dfb_dr_ea_time.loc[idx,'End Day'] = last_day_month(row)    \n",
    "    #dfb_dr_ea_time.loc[idx,'end_day'] = last_day_month(row)    \n",
    "\n",
    "    \n",
    "#dfb_dr_ea_time['End Day']=dfb_dr_ea_time['Start Day'].fillna(28.0)\n",
    "\n",
    "\n",
    "dfb_dr_ea_time['Start Year']=dfb_dr_ea_time[\"Start Year\"].astype(str)\n",
    "#dfb_dr_ea_time['Start Month']=dfb_dr_ea_time[\"Start Month\"].astype(str)\n",
    "dfb_dr_ea_time['Start Month']=dfb_dr_ea_time[\"Start Month\"].apply(lambda x: str(int(x)).zfill(2))\n",
    "dfb_dr_ea_time['End Year']=dfb_dr_ea_time[\"End Year\"].astype(str)\n",
    "#dfb_dr_ea_time['End Month']=dfb_dr_ea_time[\"End Month\"].astype(str)\n",
    "dfb_dr_ea_time['End Month']=dfb_dr_ea_time[\"End Month\"].apply(lambda x: str(int(x)).zfill(2))"
   ]
  },
  {
   "cell_type": "code",
   "execution_count": null,
   "id": "7930f22a",
   "metadata": {
    "ExecuteTime": {
     "end_time": "2022-10-10T21:29:00.165122Z",
     "start_time": "2022-10-10T21:29:00.012965Z"
    }
   },
   "outputs": [],
   "source": [
    "#pd.date_range('2014-10-10','2016-01-07', freq='MS').strftime(\"%Y-%m\").tolist()\n",
    "\n",
    "def create_daterange_list(row):\n",
    "    start_date_str=row['Start Year']+'-'+row['Start Month']+'-'+str(int(row['Start Day']))\n",
    "    end_date_str=row['End Year']+'-'+row['End Month']+'-'+row['End Day']\n",
    "    date_str_list=pd.date_range(start_date_str,end_date_str, freq='D').strftime(\"%Y-%m-%d\").tolist()\n",
    "    return date_str_list\n",
    "\n",
    "\n",
    "date_str_list_cont=[]\n",
    "for idx,row in dfb_dr_ea_time.iterrows():\n",
    "    #dfb_dr_ea_time.at[idx,'date_str_list'] = create_daterange_list(row)\n",
    "    #print(idx)\n",
    "    #print(row)\n",
    "    date_str_list=create_daterange_list(row)\n",
    "    date_str_list_cont.append(date_str_list)\n",
    "    \n",
    "#dfb_dr_ea_time\n",
    "\n",
    "#df_dr=dfb_dr_ea_time.explode('date_str_list')\n",
    "\n",
    "#df_dr1=df_dr.drop_duplicates('date_str_list')\n",
    "dfb_dr_ea_time['date_str_list']=date_str_list_cont\n",
    "df_dr=dfb_dr_ea_time.explode('date_str_list')\n",
    "df_dr1=df_dr.drop_duplicates('date_str_list')"
   ]
  },
  {
   "cell_type": "code",
   "execution_count": null,
   "id": "bd98f4e8",
   "metadata": {
    "ExecuteTime": {
     "end_time": "2022-10-10T21:30:12.440927Z",
     "start_time": "2022-10-10T21:30:11.780580Z"
    }
   },
   "outputs": [],
   "source": [
    "df_dr1['dr']=1\n",
    "#df_dr1=df_dr.drop_duplicates('date_str_list')\n",
    "df_dr1['date']=df_dr1['date_str_list'].apply(pd.to_datetime)\n",
    "df_dr1['doy']=df_dr1['date'].dt.dayofyear\n",
    "df_dr1['year']=df_dr1['date'].dt.year\n",
    "df_dr2=df_dr1[['year','doy','dr']]\n",
    "df=pd.pivot_table(df_dr2, values='dr', index=['year'],columns=['doy'])\n",
    "df1=df.rename_axis(None)\n",
    "\n",
    "df2=df1.fillna(2)\n",
    "\n",
    "cols=df2.columns\n",
    "df2[cols] = df2[cols].applymap(np.int64)\n",
    "df3=df2.iloc[:, 0:60]\n",
    "df4=df3.reset_index()"
   ]
  },
  {
   "cell_type": "code",
   "execution_count": null,
   "id": "93af5775",
   "metadata": {
    "ExecuteTime": {
     "end_time": "2022-10-10T21:30:17.780260Z",
     "start_time": "2022-10-10T21:30:17.595611Z"
    }
   },
   "outputs": [],
   "source": [
    "import pandas as pd\n",
    "import numpy as np\n",
    "import matplotlib\n",
    "matplotlib.use(\"Agg\")\n",
    "import matplotlib.pyplot as plt\n",
    "import six\n",
    "from datetime import datetime\n",
    "\n",
    "\n",
    "### functions for whole column, row editing\n",
    "def set_align_for_column(table, col, align=\"left\"):\n",
    "    cells = [key for key in table._cells if key[1] == col]\n",
    "    for cell in cells:\n",
    "        table._cells[cell]._loc = align\n",
    "\n",
    "\n",
    "def set_width_for_column(table, col, width):\n",
    "    cells = [key for key in table._cells if key[1] == col]\n",
    "    for cell in cells:\n",
    "        table._cells[cell]._width = width\n",
    "        \n",
    "def set_height_for_row(table, row, height):\n",
    "    cells = [key for key in table._cells if key[0] == row]\n",
    "    for cell in cells:\n",
    "        table._cells[cell]._height = height\n",
    "\n",
    "def colorcell(tablerows,tablecols,cellDict):\n",
    "    allcells=[(x,y) for x in tablerows[1:] for y in tablecols[1:]]\n",
    "    for alcls in allcells:\n",
    "        if int(cellDict[alcls]._text.get_text()) ==0:\n",
    "            cellDict[alcls].set_facecolor('#009600')\n",
    "        elif int(cellDict[alcls]._text.get_text()) == 1:\n",
    "            cellDict[alcls].set_facecolor('#64C800')\n",
    "        else:\n",
    "            cellDict[alcls].set_facecolor('#961414')\n",
    "\n",
    "def removeaqivalue(tablerows,tablecols,mpl_table):\n",
    "    allcells=[(x,y) for x in tablerows[1:] for y in tablecols[1:]]\n",
    "    for alcls in allcells:\n",
    "        mpl_table._cells[alcls]._text.set_text('')\n",
    "\n",
    "def set_height_for_row_except_head(table, rowlist, height):\n",
    "    cells_list=[]\n",
    "    for row in rowlist:\n",
    "        cells = [key for key in table._cells if key[0] == row]\n",
    "        cells_list.append(cells)\n",
    "    for cells in cells_list:\n",
    "        for cell in cells:\n",
    "             table._cells[cell]._height = height\n",
    "\n",
    "### funciton for table creation\n",
    "def render_mpl_table(data, col_width=1.0, row_height=1.625, font_size=12,\n",
    "                     header_color='#40466e', row_colors=['#f1f1f2', 'w'], edge_color='w',\n",
    "                     bbox=[0, 0, 1, 1], header_columns=0,\n",
    "                     ax=None, **kwargs):\n",
    "    mpl_table = ax.table(cellText=data.values, bbox=bbox, colLabels=['' for _ in range(366)],cellLoc='center', **kwargs)\n",
    "    set_align_for_column(mpl_table, col=0, align=\"left\")\n",
    "    cellDict=mpl_table.get_celld()\n",
    "    noofcol=8\n",
    "    noofrow=len(cellDict)/noofcol\n",
    "    set_width_for_column(mpl_table, 0, 0.1)\n",
    "    #set_width_for_column(mpl_table, 1, 0.02)\n",
    "    #set_width_for_column(mpl_table, 2, 0.02)\n",
    "    #set_width_for_column(mpl_table, 3, 0.02)\n",
    "    #set_width_for_column(mpl_table, 4, 0.02)\n",
    "    set_height_for_row(mpl_table, 0, 0.01)\n",
    "    set_height_for_row_except_head(mpl_table, np.arange(1,len(data.index)), 0.012)\n",
    "\n",
    "    mpl_table.auto_set_font_size(False)\n",
    "    mpl_table.set_fontsize(font_size)\n",
    "    cellDict=mpl_table.get_celld()\n",
    "    tablerows=np.arange(0,len(data.index)+1)\n",
    "    tablecols=np.arange(0,len(data.columns))\n",
    "    for k, cell in  six.iteritems(mpl_table._cells):\n",
    "        cell.set_linewidth(0)\n",
    "        #cell.set_edgecolor(edge_color)\n",
    "        if k[0] == 0 or k[1] < header_columns:\n",
    "            cell.set_text_props(weight='bold', color='w')\n",
    "            cell.set_facecolor(header_color)\n",
    "            colorcell(tablerows,tablecols,cellDict)\n",
    "        else:\n",
    "            cell.set_facecolor(row_colors[k[0]%len(row_colors) ])\n",
    "#     headings=data.columns\n",
    "#     plt.text(0.07, 0.95,'Years', horizontalalignment='left',fontsize=14,fontweight='bold',\n",
    "#              color='w', verticalalignment='center', transform =ax.transAxes)\n",
    "#     plt.text(0.6, 0.965,'Jan', horizontalalignment='left',fontsize=10,fontweight='bold',\n",
    "#              color='w', verticalalignment='center',rotation=90, transform =ax.transAxes)\n",
    "#     plt.text(0.715, 0.965,'Feb', horizontalalignment='left',fontsize=10,fontweight='bold',\n",
    "#              color='w', verticalalignment='center',rotation=90, transform =ax.transAxes)\n",
    "#     plt.text(0.815, 0.965,'Mar', horizontalalignment='left',fontsize=10,fontweight='bold',\n",
    "#              color='w', verticalalignment='center',rotation=90, transform =ax.transAxes)\n",
    "#     plt.text(0.925, 0.965,'Apr', horizontalalignment='left',fontsize=10,fontweight='bold',\n",
    "#              color='w', verticalalignment='center',rotation=90, transform =ax.transAxes)\n",
    "    removeaqivalue(tablerows,tablecols,mpl_table)\n",
    "    return ax\n"
   ]
  },
  {
   "cell_type": "code",
   "execution_count": null,
   "id": "f6175fcb",
   "metadata": {
    "ExecuteTime": {
     "end_time": "2022-10-10T21:31:41.148825Z",
     "start_time": "2022-10-10T21:31:40.348336Z"
    }
   },
   "outputs": [],
   "source": [
    "%matplotlib notebook\n",
    "\n",
    "### Define the picture size and remove the ticks\n",
    "fig = plt.figure()\n",
    "fig.set_size_inches(26,18)\n",
    "table=fig.add_axes([0.08, 0.02, 0.55, 0.9], frame_on=False) \n",
    "table.xaxis.set_ticks_position('none')\n",
    "table.yaxis.set_ticks_position('none') \n",
    "table.set_xticklabels('')\n",
    "table.set_yticklabels('')\n",
    "\n",
    "render_mpl_table(df4, header_columns=1, col_width=0.002,ax=table)\n",
    "plt.show()"
   ]
  },
  {
   "cell_type": "code",
   "execution_count": null,
   "id": "c2cc112f",
   "metadata": {
    "ExecuteTime": {
     "end_time": "2022-10-10T21:30:30.953547Z",
     "start_time": "2022-10-10T21:30:30.928905Z"
    }
   },
   "outputs": [],
   "source": [
    "df4"
   ]
  },
  {
   "cell_type": "code",
   "execution_count": null,
   "id": "793b2eb5",
   "metadata": {},
   "outputs": [],
   "source": []
  }
 ],
 "metadata": {
  "kernelspec": {
   "display_name": "Python 3 (ipykernel)",
   "language": "python",
   "name": "python3"
  },
  "language_info": {
   "codemirror_mode": {
    "name": "ipython",
    "version": 3
   },
   "file_extension": ".py",
   "mimetype": "text/x-python",
   "name": "python",
   "nbconvert_exporter": "python",
   "pygments_lexer": "ipython3",
   "version": "3.9.7"
  },
  "toc": {
   "base_numbering": 1,
   "nav_menu": {},
   "number_sections": true,
   "sideBar": true,
   "skip_h1_title": false,
   "title_cell": "Table of Contents",
   "title_sidebar": "Contents",
   "toc_cell": false,
   "toc_position": {},
   "toc_section_display": true,
   "toc_window_display": false
  }
 },
 "nbformat": 4,
 "nbformat_minor": 5
}

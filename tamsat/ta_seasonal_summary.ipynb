{
 "cells": [
  {
   "cell_type": "code",
   "execution_count": null,
   "id": "96a3ac96",
   "metadata": {
    "ExecuteTime": {
     "end_time": "2023-01-27T03:04:44.730740Z",
     "start_time": "2023-01-27T03:04:44.722327Z"
    }
   },
   "outputs": [],
   "source": [
    "import glob\n",
    "import ntpath\n",
    "\n",
    "mam_21=glob.glob('/2023_MAM/2023*')\n",
    "\n",
    "\n",
    "\n",
    "\n",
    "fl=[]\n",
    "for daysl in mam_21:\n",
    "    foldername=ntpath.basename(daysl)\n",
    "    fl.append(foldername)"
   ]
  },
  {
   "cell_type": "code",
   "execution_count": null,
   "id": "8b44482d",
   "metadata": {
    "ExecuteTime": {
     "end_time": "2023-01-27T03:04:47.291189Z",
     "start_time": "2023-01-27T03:04:47.282446Z"
    }
   },
   "outputs": [],
   "source": [
    "len(fl)"
   ]
  },
  {
   "cell_type": "code",
   "execution_count": null,
   "id": "395d23ed",
   "metadata": {
    "ExecuteTime": {
     "end_time": "2023-01-27T03:03:58.752720Z",
     "start_time": "2023-01-27T03:03:58.744285Z"
    }
   },
   "outputs": [],
   "source": [
    "fl.sort()"
   ]
  },
  {
   "cell_type": "code",
   "execution_count": null,
   "id": "47227cdf",
   "metadata": {
    "ExecuteTime": {
     "end_time": "2023-01-27T03:04:49.170843Z",
     "start_time": "2023-01-27T03:04:49.163308Z"
    }
   },
   "outputs": [],
   "source": [
    "fl"
   ]
  },
  {
   "cell_type": "code",
   "execution_count": null,
   "id": "6e89e14c",
   "metadata": {
    "ExecuteTime": {
     "end_time": "2023-01-27T03:08:16.166330Z",
     "start_time": "2023-01-27T03:08:16.157873Z"
    }
   },
   "outputs": [],
   "source": [
    "file_list=glob.glob('2023_MAM/2023*/prob_map*.png')\n",
    "file_list"
   ]
  },
  {
   "cell_type": "markdown",
   "id": "6d7dab31",
   "metadata": {},
   "source": [
    "## Stictching maps "
   ]
  },
  {
   "cell_type": "code",
   "execution_count": null,
   "id": "a48e5965",
   "metadata": {
    "ExecuteTime": {
     "end_time": "2023-01-27T03:47:08.895196Z",
     "start_time": "2023-01-27T03:47:08.305474Z"
    }
   },
   "outputs": [],
   "source": [
    "#def order_file(file_list):\n",
    "#    filepath=os.path.basename(file_list[0])\n",
    "#    ntpath.basename(file_list).split('.')[0]\n",
    "import glob\n",
    "import matplotlib.pyplot as plt\n",
    "import matplotlib.image as mpimg\n",
    "import numpy as np\n",
    "import os\n",
    "import ntpath\n",
    "\n",
    "\n",
    "\n",
    "file_path='2023_MAM/2023*/prob_map*.png'\n",
    "\n",
    "file_path='2023_MAM/2023*/clim_fc*.png'\n",
    "\n",
    "file_path='2023_MAM/2023*/timeseries*.png'\n",
    "    \n",
    "def order_file(file_path):\n",
    "    fp1=file_path.split('/')\n",
    "    date_path='/'.join(fp1[:-1])\n",
    "    date_path_list=glob.glob(date_path)\n",
    "    fln_pattern=fp1[-1]\n",
    "    fl=[]\n",
    "    for daysl in date_path_list:\n",
    "        foldername=ntpath.basename(daysl)\n",
    "        fl.append(foldername)\n",
    "    fl.sort()\n",
    "    sfl=[]\n",
    "    for fld in fl:\n",
    "        ofln=glob.glob(f'{date_path[:-5]}{fld}/{fln_pattern}')\n",
    "        #nfl=f'{date_path[:-5]}{fld}/{ofln[0]}'\n",
    "        sfl.append(ofln[0])\n",
    "    return sfl\n",
    "        \n",
    "        \n",
    "    \n",
    "\n",
    "    \n",
    "ls=order_file(file_path)\n",
    "\n",
    "fig = plt.figure(figsize=(15,5))\n",
    "\n",
    "#fig, axes = plt.subplots(6, 5)\n",
    "\n",
    "#ax = [fig.add_subplot(2,2,i+1) for i in range(4)]\n",
    "\n",
    "#ax = [fig.add_subplot(2,2,i+1) for i in range(4)]\n",
    "\n",
    "#axes=fig.add_subplot(6,5)\n",
    "\n",
    "ax = [fig.add_subplot(1,3,i+1) for i in range(3)]\n",
    "\n",
    "# for idx, row in enumerate(ls):\n",
    "#     img1 = mpimg.imread(row)\n",
    "#     axs[idx].imshow(img1)\n",
    "\n",
    "for axi,img in zip(ax,ls):\n",
    "    img1=mpimg.imread(img)\n",
    "    axi.imshow(img1)\n",
    "    axi.set_aspect('equal')\n",
    "    axi.set_yticklabels([])\n",
    "    axi.set_xticklabels([])\n",
    "    axi.set_xticks([])\n",
    "    axi.set_yticks([])\n",
    "    \n",
    "#fig.delaxes(ax[33])\n",
    "#fig.delaxes(ax[34])\n",
    "\n",
    "sidenote=fig.add_axes([0.32, 0.9, 0.05,0.05], frame_on=False,zorder=0)\n",
    "sidenote.xaxis.set_ticks_position('none')\n",
    "sidenote.yaxis.set_ticks_position('none')\n",
    "sidenote.set_xticklabels('')\n",
    "sidenote.set_yticklabels('')\n",
    "#plt.text(0,0, 'Probablity of lower tercile SM',  horizontalalignment='center',fontsize=26,fontweight='bold',color='k', verticalalignment='center',transform =sidenote.transAxes)\n",
    "#plt.text(0,0, 'SM forecast',  horizontalalignment='center',fontsize=26,fontweight='bold',color='k', verticalalignment='center',transform =sidenote.transAxes)\n",
    "plt.text(0,0, 'Time series of Probablity',  horizontalalignment='center',fontsize=26,fontweight='bold',color='k', verticalalignment='center',transform =sidenote.transAxes)\n",
    "\n",
    "sidenote=fig.add_axes([0.77, 0.13, 0.05,0.05], frame_on=False,zorder=0)\n",
    "sidenote.xaxis.set_ticks_position('none')\n",
    "sidenote.yaxis.set_ticks_position('none')\n",
    "sidenote.set_xticklabels('')\n",
    "sidenote.set_yticklabels('')\n",
    "plt.text(0,0, 'Data Source: TAMSAT ALERT API, https://www.tamsat.org.uk/tamsat-alert',  horizontalalignment='center',fontsize=7,fontweight='bold',color='k', verticalalignment='center',transform =sidenote.transAxes)\n",
    "\n",
    "\n",
    "# logofile = plt.imread('icpac_logo.png')\n",
    "# logo=fig.add_axes([0.76, 0.1, 0.13,0.13], frame_on=False,zorder=0) \n",
    "# logo.xaxis.set_ticks_position('none')\n",
    "# logo.yaxis.set_ticks_position('none') \n",
    "# logo.set_xticklabels('')\n",
    "# logo.set_yticklabels('')\n",
    "# logo.imshow(logofile)\n",
    "\n",
    "\n",
    "#plt.subplots_adjust(wspace=0, hspace=0)\n",
    "fp1=file_path.split('/')\n",
    "season=fp1[-3]\n",
    "plot_name=fp1[-1].split('*')[0]\n",
    "plt.savefig(f'tamsat/{season.lower()}_{plot_name}.png', transparent=False,bbox_inches='tight',facecolor='white',dpi=200)\n",
    "# plt.figure(1)\n",
    "# plt.subplot(211)\n",
    "# plt.imshow(img1)\n",
    "\n",
    "# plt.subplot(212)\n",
    "# plt.imshow(img2)\n",
    "plt.show()\n"
   ]
  },
  {
   "cell_type": "code",
   "execution_count": null,
   "id": "aaa057c6",
   "metadata": {
    "ExecuteTime": {
     "end_time": "2023-01-27T03:35:04.075046Z",
     "start_time": "2023-01-27T03:35:04.065281Z"
    }
   },
   "outputs": [],
   "source": [
    "\n",
    "file_path='tamsat/2023_MAM/2023*/prob_map*.png'\n",
    "\n",
    "\n",
    "def order_file(file_path):\n",
    "    fp1=file_path.split('/')\n",
    "    date_path='/'.join(fp1[:-1])\n",
    "    date_path_list=glob.glob(date_path)\n",
    "    fln_pattern=fp1[-1]\n",
    "    fl=[]\n",
    "    for daysl in date_path_list:\n",
    "        foldername=ntpath.basename(daysl)\n",
    "        fl.append(foldername)\n",
    "    fl.sort()\n",
    "    sfl=[]\n",
    "    for fld in fl:\n",
    "        ofln=glob.glob(f'{date_path[:-5]}{fld}/{fln_pattern}')\n",
    "        #nfl=f'{date_path[:-5]}{fld}/{ofln[0]}'\n",
    "        sfl.append(ofln[0])\n",
    "    return sfl\n",
    "\n",
    "order_file(file_path)"
   ]
  },
  {
   "cell_type": "code",
   "execution_count": null,
   "id": "63a5ef29",
   "metadata": {
    "ExecuteTime": {
     "end_time": "2023-01-27T05:31:58.489751Z",
     "start_time": "2023-01-27T05:31:54.559178Z"
    }
   },
   "outputs": [],
   "source": [
    "#def order_file(file_list):\n",
    "#    filepath=os.path.basename(file_list[0])\n",
    "#    ntpath.basename(file_list).split('.')[0]\n",
    "import glob\n",
    "import matplotlib.pyplot as plt\n",
    "import matplotlib.image as mpimg\n",
    "import numpy as np\n",
    "import os\n",
    "import ntpath\n",
    "\n",
    "#file_list=glob.glob('tamsat/2023_MAM/2023*/prob_map*.png')\n",
    "\n",
    "\n",
    "\n",
    "# def order_file(file_list):\n",
    "#     filepath=os.path.dirname(file_list[0])\n",
    "#     file_list1 = [ntpath.basename(item).split('.')[0] for item in file_list]\n",
    "#     file_list1.sort()\n",
    "#     sorted_file_list=[f'{filepath}/{item}.png' for item in file_list1]\n",
    "#     return sorted_file_list\n",
    "\n",
    "#file_path='tamsat/2022_OND/2022*/prob_map*.png'\n",
    "\n",
    "#file_path='tamsat/2022_OND/2022*/clim_fc*.png'\n",
    "\n",
    "file_path='tamsat/2022_OND/2022*/timeseries*.png'\n",
    "    \n",
    "def order_file(file_path):\n",
    "    fp1=file_path.split('/')\n",
    "    date_path='/'.join(fp1[:-1])\n",
    "    date_path_list=glob.glob(date_path)\n",
    "    fln_pattern=fp1[-1]\n",
    "    fl=[]\n",
    "    for daysl in date_path_list:\n",
    "        foldername=ntpath.basename(daysl)\n",
    "        fl.append(foldername)\n",
    "    fl.sort()\n",
    "    sfl=[]\n",
    "    for fld in fl:\n",
    "        ofln=glob.glob(f'{date_path[:-5]}{fld}/{fln_pattern}')\n",
    "        #nfl=f'{date_path[:-5]}{fld}/{ofln[0]}'\n",
    "        sfl.append(ofln[0])\n",
    "    return sfl\n",
    "        \n",
    "        \n",
    "    \n",
    "\n",
    "    \n",
    "ls=order_file(file_path)\n",
    "\n",
    "fig = plt.figure(figsize=(18,15))\n",
    "\n",
    "#fig, axes = plt.subplots(6, 5)\n",
    "\n",
    "#ax = [fig.add_subplot(2,2,i+1) for i in range(4)]\n",
    "\n",
    "#ax = [fig.add_subplot(2,2,i+1) for i in range(4)]\n",
    "\n",
    "#axes=fig.add_subplot(6,5)\n",
    "\n",
    "ax = [fig.add_subplot(7,5,i+1) for i in range(34)]\n",
    "\n",
    "# for idx, row in enumerate(ls):\n",
    "#     img1 = mpimg.imread(row)\n",
    "#     axs[idx].imshow(img1)\n",
    "\n",
    "for axi,img in zip(ax,ls):\n",
    "    img1=mpimg.imread(img)\n",
    "    axi.imshow(img1)\n",
    "    axi.set_aspect('equal')\n",
    "    axi.set_yticklabels([])\n",
    "    axi.set_xticklabels([])\n",
    "    axi.set_xticks([])\n",
    "    axi.set_yticks([])\n",
    "    \n",
    "fig.delaxes(ax[33])\n",
    "#fig.delaxes(ax[34])\n",
    "\n",
    "sidenote=fig.add_axes([0.32, 0.9, 0.05,0.05], frame_on=False,zorder=0)\n",
    "sidenote.xaxis.set_ticks_position('none')\n",
    "sidenote.yaxis.set_ticks_position('none')\n",
    "sidenote.set_xticklabels('')\n",
    "sidenote.set_yticklabels('')\n",
    "#plt.text(0,0, 'Probablity of lower tercile SM',  horizontalalignment='center',fontsize=26,fontweight='bold',color='k', verticalalignment='center',transform =sidenote.transAxes)\n",
    "#plt.text(0,0, 'SM forecast',  horizontalalignment='center',fontsize=26,fontweight='bold',color='k', verticalalignment='center',transform =sidenote.transAxes)\n",
    "plt.text(0,0, 'Time series of Probablity',  horizontalalignment='center',fontsize=26,fontweight='bold',color='k', verticalalignment='center',transform =sidenote.transAxes)\n",
    "\n",
    "sidenote=fig.add_axes([0.77, 0.13, 0.05,0.05], frame_on=False,zorder=0)\n",
    "sidenote.xaxis.set_ticks_position('none')\n",
    "sidenote.yaxis.set_ticks_position('none')\n",
    "sidenote.set_xticklabels('')\n",
    "sidenote.set_yticklabels('')\n",
    "plt.text(0,0, 'Data Source: TAMSAT ALERT API, https://www.tamsat.org.uk/tamsat-alert',  horizontalalignment='center',fontsize=7,fontweight='bold',color='k', verticalalignment='center',transform =sidenote.transAxes)\n",
    "\n",
    "\n",
    "# logofile = plt.imread('icpac_logo.png')\n",
    "# logo=fig.add_axes([0.76, 0.1, 0.13,0.13], frame_on=False,zorder=0) \n",
    "# logo.xaxis.set_ticks_position('none')\n",
    "# logo.yaxis.set_ticks_position('none') \n",
    "# logo.set_xticklabels('')\n",
    "# logo.set_yticklabels('')\n",
    "# logo.imshow(logofile)\n",
    "\n",
    "\n",
    "#plt.subplots_adjust(wspace=0, hspace=0)\n",
    "fp1=file_path.split('/')\n",
    "season=fp1[-3]\n",
    "plot_name=fp1[-1].split('*')[0]\n",
    "plt.savefig(f'tamsat/{season.lower()}_{plot_name}.pdf', transparent=False,bbox_inches='tight',facecolor='white',dpi=200)\n",
    "# plt.figure(1)\n",
    "# plt.subplot(211)\n",
    "# plt.imshow(img1)\n",
    "\n",
    "# plt.subplot(212)\n",
    "# plt.imshow(img2)\n",
    "plt.show()\n"
   ]
  },
  {
   "cell_type": "code",
   "execution_count": null,
   "id": "38b18dc0",
   "metadata": {},
   "outputs": [],
   "source": []
  }
 ],
 "metadata": {
  "kernelspec": {
   "display_name": "Python 3 (ipykernel)",
   "language": "python",
   "name": "python3"
  },
  "language_info": {
   "codemirror_mode": {
    "name": "ipython",
    "version": 3
   },
   "file_extension": ".py",
   "mimetype": "text/x-python",
   "name": "python",
   "nbconvert_exporter": "python",
   "pygments_lexer": "ipython3",
   "version": "3.9.7"
  },
  "toc": {
   "base_numbering": 1,
   "nav_menu": {},
   "number_sections": true,
   "sideBar": true,
   "skip_h1_title": false,
   "title_cell": "Table of Contents",
   "title_sidebar": "Contents",
   "toc_cell": false,
   "toc_position": {},
   "toc_section_display": true,
   "toc_window_display": false
  }
 },
 "nbformat": 4,
 "nbformat_minor": 5
}

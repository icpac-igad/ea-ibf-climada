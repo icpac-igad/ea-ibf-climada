{
 "cells": [
  {
   "cell_type": "code",
   "execution_count": null,
   "id": "fecad795",
   "metadata": {},
   "outputs": [],
   "source": [
    "## using herbie lib"
   ]
  },
  {
   "cell_type": "code",
   "execution_count": null,
   "id": "39a68aba",
   "metadata": {},
   "outputs": [],
   "source": [
    "import cartopy.crs as ccrs\n",
    "import matplotlib.pyplot as plt\n",
    "import numpy as np\n",
    "\n",
    "from herbie.archive import Herbie"
   ]
  },
  {
   "cell_type": "code",
   "execution_count": null,
   "id": "cd1c29ec",
   "metadata": {},
   "outputs": [],
   "source": [
    "H = Herbie(\"2022-01-26\", model=\"ecmwf\", product=\"enfo\", fxx=12)"
   ]
  },
  {
   "cell_type": "code",
   "execution_count": null,
   "id": "d2a9cae7",
   "metadata": {},
   "outputs": [],
   "source": [
    "print(H.searchString_help)"
   ]
  },
  {
   "cell_type": "code",
   "execution_count": null,
   "id": "e05cdef8",
   "metadata": {},
   "outputs": [],
   "source": [
    "ds = H.xarray(\":tp:\")\n",
    "#taking 5 minutes to complete\n",
    "#the ds contains, all the vairable and 50 memebrs of enfo for a single hour for entire globe"
   ]
  }
 ],
 "metadata": {
  "kernelspec": {
   "display_name": "Python 3 (ipykernel)",
   "language": "python",
   "name": "python3"
  },
  "language_info": {
   "codemirror_mode": {
    "name": "ipython",
    "version": 3
   },
   "file_extension": ".py",
   "mimetype": "text/x-python",
   "name": "python",
   "nbconvert_exporter": "python",
   "pygments_lexer": "ipython3",
   "version": "3.9.7"
  },
  "toc": {
   "base_numbering": 1,
   "nav_menu": {},
   "number_sections": true,
   "sideBar": true,
   "skip_h1_title": false,
   "title_cell": "Table of Contents",
   "title_sidebar": "Contents",
   "toc_cell": false,
   "toc_position": {},
   "toc_section_display": true,
   "toc_window_display": false
  }
 },
 "nbformat": 4,
 "nbformat_minor": 5
}

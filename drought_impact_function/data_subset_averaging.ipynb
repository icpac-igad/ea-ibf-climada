{
 "cells": [
  {
   "cell_type": "code",
   "execution_count": 2,
   "id": "3d27b4be",
   "metadata": {},
   "outputs": [
    {
     "data": {
      "text/plain": [
       "['/home/data_folder/karamoja_shapefiles/Karamoja_9districts/Karamoja_9_districts.shp',\n",
       " '/home/data_folder/karamoja_shapefiles/Karamoja_boundary_dissolved/Karamoja_boundary_dissolved.shp',\n",
       " '/home/data_folder/karamoja_shapefiles/Karamoja_livelihood_zones/livelihood_zones_karamoja.shp',\n",
       " '/home/data_folder/karamoja_shapefiles/Karamoja_Subcounties/Karamoja_Subcounties.shp']"
      ]
     },
     "execution_count": 2,
     "metadata": {},
     "output_type": "execute_result"
    }
   ],
   "source": [
    "import glob\n",
    "\n",
    "shpfiles=glob.glob('/home/data_folder/karamoja_shapefiles/*/*.shp')\n",
    "shpfiles"
   ]
  },
  {
   "cell_type": "code",
   "execution_count": 12,
   "id": "4bd89da7",
   "metadata": {},
   "outputs": [],
   "source": [
    "import geopandas as gp\n",
    "\n",
    "dist_shp=gp.read_file(shpfiles[0])\n",
    "#dist_shp.plot()\n",
    "#dist_shp.info()\n",
    "\n",
    "kara_shp=gp.read_file(shpfiles[1])\n",
    "#kara_shp.plot()\n",
    "\n",
    "lh_shp=gp.read_file(shpfiles[2])\n",
    "#lh_shp.plot()\n",
    "\n",
    "sc_shp=gp.read_file(shpfiles[3])\n",
    "#sc_shp.plot()\n"
   ]
  },
  {
   "cell_type": "code",
   "execution_count": 13,
   "id": "418a966a",
   "metadata": {},
   "outputs": [
    {
     "data": {
      "text/plain": [
       "['/home/data_folder/icpac_data/data/IGAD_Standardized_Precipitation_Index_SPI12/CHIRPS/spg12_m_igad_200001_200012_m.nc',\n",
       " '/home/data_folder/icpac_data/data/IGAD_Standardized_Precipitation_Index_SPI12/CHIRPS/spg12_m_igad_200101_200112_m.nc',\n",
       " '/home/data_folder/icpac_data/data/IGAD_Standardized_Precipitation_Index_SPI12/CHIRPS/spg12_m_igad_200201_200212_m.nc',\n",
       " '/home/data_folder/icpac_data/data/IGAD_Standardized_Precipitation_Index_SPI12/CHIRPS/spg12_m_igad_200301_200312_m.nc',\n",
       " '/home/data_folder/icpac_data/data/IGAD_Standardized_Precipitation_Index_SPI12/CHIRPS/spg12_m_igad_200401_200412_m.nc',\n",
       " '/home/data_folder/icpac_data/data/IGAD_Standardized_Precipitation_Index_SPI12/CHIRPS/spg12_m_igad_200501_200512_m.nc',\n",
       " '/home/data_folder/icpac_data/data/IGAD_Standardized_Precipitation_Index_SPI12/CHIRPS/spg12_m_igad_200601_200612_m.nc',\n",
       " '/home/data_folder/icpac_data/data/IGAD_Standardized_Precipitation_Index_SPI12/CHIRPS/spg12_m_igad_200701_200712_m.nc',\n",
       " '/home/data_folder/icpac_data/data/IGAD_Standardized_Precipitation_Index_SPI12/CHIRPS/spg12_m_igad_200801_200812_m.nc',\n",
       " '/home/data_folder/icpac_data/data/IGAD_Standardized_Precipitation_Index_SPI12/CHIRPS/spg12_m_igad_200901_200912_m.nc',\n",
       " '/home/data_folder/icpac_data/data/IGAD_Standardized_Precipitation_Index_SPI12/CHIRPS/spg12_m_igad_201001_201012_m.nc',\n",
       " '/home/data_folder/icpac_data/data/IGAD_Standardized_Precipitation_Index_SPI12/CHIRPS/spg12_m_igad_201101_201112_m.nc',\n",
       " '/home/data_folder/icpac_data/data/IGAD_Standardized_Precipitation_Index_SPI12/CHIRPS/spg12_m_igad_201201_201212_m.nc',\n",
       " '/home/data_folder/icpac_data/data/IGAD_Standardized_Precipitation_Index_SPI12/CHIRPS/spg12_m_igad_201301_201312_m.nc',\n",
       " '/home/data_folder/icpac_data/data/IGAD_Standardized_Precipitation_Index_SPI12/CHIRPS/spg12_m_igad_201401_201412_m.nc',\n",
       " '/home/data_folder/icpac_data/data/IGAD_Standardized_Precipitation_Index_SPI12/CHIRPS/spg12_m_igad_201501_201512_m.nc',\n",
       " '/home/data_folder/icpac_data/data/IGAD_Standardized_Precipitation_Index_SPI12/CHIRPS/spg12_m_igad_201601_201612_m.nc',\n",
       " '/home/data_folder/icpac_data/data/IGAD_Standardized_Precipitation_Index_SPI12/CHIRPS/spg12_m_igad_201701_201712_m.nc',\n",
       " '/home/data_folder/icpac_data/data/IGAD_Standardized_Precipitation_Index_SPI12/CHIRPS/spg12_m_igad_201801_201812_m.nc',\n",
       " '/home/data_folder/icpac_data/data/IGAD_Standardized_Precipitation_Index_SPI12/CHIRPS/spg12_m_igad_201901_201912_m.nc',\n",
       " '/home/data_folder/icpac_data/data/IGAD_Standardized_Precipitation_Index_SPI12/CHIRPS/spg12_m_igad_202001_202012_m.nc',\n",
       " '/home/data_folder/icpac_data/data/IGAD_Standardized_Precipitation_Index_SPI12/CHIRPS/spg12_m_igad_202101_202111_m.nc']"
      ]
     },
     "execution_count": 13,
     "metadata": {},
     "output_type": "execute_result"
    }
   ],
   "source": [
    "\n",
    "ncfiles=glob.glob('/home/data_folder/icpac_data/data/IGAD_Standardized_Precipitation_Index_SPI12/CHIRPS/*.nc')\n",
    "\n",
    "ncfiles"
   ]
  },
  {
   "cell_type": "code",
   "execution_count": 15,
   "id": "6acec27f",
   "metadata": {},
   "outputs": [],
   "source": [
    "import rioxarray\n",
    "import geopandas as gp\n",
    "\n",
    "#geodf = gp.read_file()\n",
    "xds = rioxarray.open_rasterio(ncfiles[0])\n",
    "clipped = xds.rio.clip(kara_shp.geometry.values, kara_shp.crs)"
   ]
  },
  {
   "cell_type": "code",
   "execution_count": 58,
   "id": "b8f3ffcd",
   "metadata": {},
   "outputs": [
    {
     "ename": "ValueError",
     "evalue": "Dataset.plot cannot be called directly. Use an explicit plot method, e.g. ds.plot.scatter(...)",
     "output_type": "error",
     "traceback": [
      "\u001b[0;31m---------------------------------------------------------------------------\u001b[0m",
      "\u001b[0;31mValueError\u001b[0m                                Traceback (most recent call last)",
      "Cell \u001b[0;32mIn [58], line 8\u001b[0m\n\u001b[1;32m      4\u001b[0m da\u001b[38;5;241m=\u001b[39mclipped\u001b[38;5;241m.\u001b[39mloc[\u001b[38;5;28mdict\u001b[39m(time\u001b[38;5;241m=\u001b[39m\u001b[38;5;28mslice\u001b[39m(\u001b[38;5;124m'\u001b[39m\u001b[38;5;124m2000-01-01\u001b[39m\u001b[38;5;124m'\u001b[39m))]\n\u001b[1;32m      6\u001b[0m \u001b[38;5;66;03m#clipped[0].plot.scatter()\u001b[39;00m\n\u001b[1;32m      7\u001b[0m \u001b[38;5;66;03m#clipped\u001b[39;00m\n\u001b[0;32m----> 8\u001b[0m \u001b[43mda\u001b[49m\u001b[38;5;241;43m.\u001b[39;49m\u001b[43mplot\u001b[49m\u001b[43m(\u001b[49m\u001b[43m)\u001b[49m\n",
      "File \u001b[0;32m~/miniconda3/envs/climada_env/lib/python3.8/site-packages/xarray/plot/dataset_plot.py:61\u001b[0m, in \u001b[0;36m_Dataset_PlotMethods.__call__\u001b[0;34m(self, *args, **kwargs)\u001b[0m\n\u001b[1;32m     60\u001b[0m \u001b[38;5;28;01mdef\u001b[39;00m \u001b[38;5;21m__call__\u001b[39m(\u001b[38;5;28mself\u001b[39m, \u001b[38;5;241m*\u001b[39margs, \u001b[38;5;241m*\u001b[39m\u001b[38;5;241m*\u001b[39mkwargs):\n\u001b[0;32m---> 61\u001b[0m     \u001b[38;5;28;01mraise\u001b[39;00m \u001b[38;5;167;01mValueError\u001b[39;00m(\n\u001b[1;32m     62\u001b[0m         \u001b[38;5;124m\"\u001b[39m\u001b[38;5;124mDataset.plot cannot be called directly. Use \u001b[39m\u001b[38;5;124m\"\u001b[39m\n\u001b[1;32m     63\u001b[0m         \u001b[38;5;124m\"\u001b[39m\u001b[38;5;124man explicit plot method, e.g. ds.plot.scatter(...)\u001b[39m\u001b[38;5;124m\"\u001b[39m\n\u001b[1;32m     64\u001b[0m     )\n",
      "\u001b[0;31mValueError\u001b[0m: Dataset.plot cannot be called directly. Use an explicit plot method, e.g. ds.plot.scatter(...)"
     ]
    }
   ],
   "source": [
    "da=clipped.sel(time=slice('2009-01-01'))\n",
    "#da\n",
    "\n",
    "da=clipped.loc[dict(time=slice('2000-01-01'))]\n",
    "\n",
    "#clipped[0].plot.scatter()\n",
    "#clipped\n",
    "da.plot((column=\"elevation_max\", legend=True)"
   ]
  },
  {
   "cell_type": "code",
   "execution_count": 72,
   "id": "c68ea04f",
   "metadata": {},
   "outputs": [],
   "source": [
    "da1=da['spg12']\n",
    "aa=da1.values"
   ]
  },
  {
   "cell_type": "code",
   "execution_count": 76,
   "id": "ba408cbd",
   "metadata": {},
   "outputs": [
    {
     "data": {
      "text/plain": [
       "1680"
      ]
     },
     "execution_count": 76,
     "metadata": {},
     "output_type": "execute_result"
    }
   ],
   "source": [
    "aa1=aa[0,:,:]\n",
    "aa2=aa1.ravel()\n",
    "len(aa2)"
   ]
  },
  {
   "cell_type": "code",
   "execution_count": 87,
   "id": "2de9a475",
   "metadata": {},
   "outputs": [
    {
     "data": {
      "text/plain": [
       "899"
      ]
     },
     "execution_count": 87,
     "metadata": {},
     "output_type": "execute_result"
    }
   ],
   "source": [
    "aa3 = aa2[(aa2 >=-9000)]\n",
    "\n",
    "len(aa3)"
   ]
  },
  {
   "cell_type": "code",
   "execution_count": 88,
   "id": "dfa2126f",
   "metadata": {},
   "outputs": [
    {
     "data": {
      "text/plain": [
       "array([-0.588,  0.078, -0.202, -0.094,  0.564,  0.201, -0.085,  0.011,\n",
       "       -0.172, -0.05 , -0.647, -0.012,  0.503,  0.655,  0.056, -0.684,\n",
       "       -0.577, -0.458, -0.408, -0.273, -0.21 , -0.428,  0.123,  0.283,\n",
       "       -0.1  , -0.295,  0.294,  0.354, -0.075, -0.669, -0.505, -1.29 ,\n",
       "       -1.26 ,  0.291, -0.362, -0.306, -0.529,  0.035,  0.132, -0.221,\n",
       "       -0.373,  0.167,  0.259, -0.172, -0.759, -0.571, -1.343, -1.3  ,\n",
       "       -1.157,  0.343, -0.371, -0.3  , -0.562, -0.033,  0.062, -0.208,\n",
       "       -0.338,  0.304,  0.407, -0.018, -0.538, -0.423, -1.251, -1.106,\n",
       "       -1.046, -0.008, -0.365, -0.3  , -0.178,  0.538,  0.678,  0.214,\n",
       "       -0.375,  0.437,  0.732, -0.355, -1.004, -0.963, -1.48 , -1.261,\n",
       "       -1.57 , -0.021, -0.201, -0.156, -0.459,  0.067,  0.174, -0.038,\n",
       "       -0.413,  0.288,  0.497, -0.104, -0.68 , -0.565, -1.517, -1.394,\n",
       "       -1.643, -0.07 , -0.26 , -0.181, -0.502,  0.003,  0.102, -0.156,\n",
       "       -0.42 ,  0.208,  0.345, -0.23 , -0.664, -0.547, -1.571, -1.351,\n",
       "       -1.59 , -0.233, -0.747, -0.696, -0.93 , -0.439, -0.341, -0.557,\n",
       "       -0.958, -0.215, -0.08 , -0.584, -1.001, -0.868, -1.207, -0.8  ,\n",
       "       -1.44 , -0.419, -0.909, -0.847, -0.931, -0.479, -0.421, -1.199,\n",
       "       -1.05 , -0.322, -0.232, -1.139, -1.53 , -1.412, -1.613, -1.347,\n",
       "       -1.083, -0.416, -0.928, -0.888, -0.934, -0.518, -0.432, -1.181,\n",
       "       -1.018, -0.346, -0.167, -1.11 , -1.511, -1.335, -1.625, -1.292,\n",
       "       -1.088, -0.272, -0.924, -0.911, -1.101, -0.508, -0.468, -1.227,\n",
       "       -0.756, -0.797, -0.729, -1.035, -1.456, -1.389, -1.672, -1.382,\n",
       "       -1.323, -0.058, -0.725, -0.725, -0.896, -0.243, -0.194, -0.918,\n",
       "       -0.473, -0.825, -0.751, -0.742, -1.313, -1.208, -1.648, -1.28 ,\n",
       "       -0.022, -0.045,  0.315, -0.403, -0.337, -0.774, -0.379, -0.316,\n",
       "       -0.547, -0.489, -0.934, -0.932, -0.84 , -1.73 , -1.652, -1.88 ,\n",
       "       -1.695,  0.026,  0.041,  0.011,  0.406, -0.346, -0.27 , -0.719,\n",
       "       -0.331, -0.276, -0.493, -0.306, -0.787, -0.851, -0.785, -1.685,\n",
       "       -1.606, -1.845, -1.68 ,  0.098,  0.338, -0.472, -0.443, -0.816,\n",
       "       -0.414, -0.745, -0.727, -0.898, -0.285, -0.225, -0.746, -0.459,\n",
       "       -1.358, -1.444, -1.136, -1.599, -1.539, -1.869, -1.802, -0.01 ,\n",
       "        0.083,  0.304, -0.303, -0.278, -0.987, -0.851, -0.896, -0.929,\n",
       "       -0.972, -0.508, -0.42 , -0.826, -1.358, -1.683, -1.68 , -1.226,\n",
       "       -1.494, -1.455, -1.516, -1.192,  0.276,  0.174,  0.035,  0.112,\n",
       "        0.322, -0.254, -0.209, -0.951, -0.778, -0.884, -0.907, -0.891,\n",
       "       -0.407, -0.327, -0.711, -1.357, -1.704, -1.691, -1.185, -1.455,\n",
       "       -1.379, -1.457,  0.377, -0.077, -0.142, -1.101, -1.001, -0.504,\n",
       "       -0.674, -0.635, -1.12 , -0.732, -1.299, -1.293, -1.291, -1.009,\n",
       "       -0.907, -1.241, -1.382, -1.71 , -1.618, -1.036, -1.464, -1.438,\n",
       "       -1.651, -1.348, -0.211, -0.08 , -0.023, -0.179, -0.876, -1.192,\n",
       "       -1.101, -0.459, -1.226, -1.2  , -1.203, -0.814, -1.534, -1.516,\n",
       "       -1.448, -1.118, -0.991, -1.228, -1.295, -1.681, -1.536, -1.064,\n",
       "       -0.973, -0.967, -1.539, -1.348, -0.042, -0.384, -0.185, -0.148,\n",
       "        0.34 , -0.629, -1.014, -0.938, -0.256, -1.057, -1.009, -0.914,\n",
       "       -0.548, -1.259, -1.149, -1.084, -1.223, -1.144, -0.836, -1.074,\n",
       "       -1.357, -1.227, -0.964, -0.945, -0.916, -1.468,  0.053,  0.021,\n",
       "       -0.277, -0.057, -0.036,  0.42 , -0.514, -0.893, -0.782, -0.126,\n",
       "       -1.062, -0.933, -0.732, -0.313, -1.021, -0.971, -0.869, -1.028,\n",
       "       -0.966, -0.651, -0.91 , -1.266, -1.246, -1.077, -1.1  , -0.987,\n",
       "       -0.316, -0.347, -0.195,  0.395,  0.409,  0.67 , -0.295, -0.815,\n",
       "       -0.688, -0.148, -1.111, -1.051, -0.89 , -0.313, -0.654, -0.644,\n",
       "       -0.976, -1.067, -0.966, -0.653, -0.514, -1.092, -1.135, -1.051,\n",
       "       -0.97 , -0.909,  0.594,  0.121,  0.119, -0.338, -0.187, -0.107,\n",
       "        0.345, -0.602, -0.826, -0.712, -0.133, -0.924, -0.848, -1.135,\n",
       "       -0.395, -0.628, -0.629, -0.949, -0.893, -0.832, -0.431, -1.058,\n",
       "       -0.879, -0.879, -0.537, -0.97 ,  0.197,  0.197, -0.273, -0.152,\n",
       "       -0.071,  0.398, -0.526, -0.739, -0.618, -0.013, -0.829, -0.747,\n",
       "       -1.077, -0.375, -0.579, -0.579, -0.966, -0.883, -0.864, -0.428,\n",
       "       -1.12 , -0.922, -0.876, -0.52 , -0.949,  0.605, -0.512, -0.204,\n",
       "       -0.16 ,  0.485, -0.391, -0.968, -0.848, -0.157, -0.807, -0.735,\n",
       "       -0.462, -0.063, -0.42 , -0.407, -0.744, -1.075, -1.049, -0.707,\n",
       "       -0.896, -0.745, -0.644, -0.551, -0.569, -0.046, -0.545, -0.598,\n",
       "       -0.523,  0.084, -0.171, -1.009, -0.951, -0.449, -1.039, -1.   ,\n",
       "       -0.626, -0.19 , -0.354, -0.325, -1.043, -1.099, -1.058, -0.672,\n",
       "       -0.705, -0.643, -0.646, -0.488,  0.614,  0.027, -0.491, -0.444,\n",
       "        0.111, -0.37 , -0.846, -0.818, -0.352, -1.097, -0.989, -0.62 ,\n",
       "       -0.535, -0.639, -0.618, -0.948, -0.886, -0.876, -0.622, -0.679,\n",
       "       -0.898,  0.643,  0.668,  0.055, -0.424, -0.325,  0.165, -0.329,\n",
       "       -0.834, -0.761, -0.27 , -1.007, -0.894, -0.524, -0.459, -0.557,\n",
       "       -0.542, -0.945, -0.925, -0.934, -0.711, -0.754,  0.813,  0.828,\n",
       "        0.367, -0.149, -0.057,  0.407, -0.046, -0.59 , -0.586, -0.231,\n",
       "       -0.696, -0.61 , -0.21 , -0.381, -0.409, -0.419, -0.776, -0.724,\n",
       "       -0.753, -0.64 , -0.694,  1.224,  1.241,  0.435,  0.094,  0.189,\n",
       "        0.691, -0.212, -0.536, -0.447, -0.209, -0.565, -0.441, -0.318,\n",
       "       -0.849, -0.647, -0.637, -0.499, -0.737, -0.754, -0.707, -0.671,\n",
       "        1.191,  1.231,  0.469,  0.137,  0.211,  0.654, -0.225, -0.505,\n",
       "       -0.479, -0.137, -0.507, -0.365, -0.209, -0.731, -0.517, -0.53 ,\n",
       "       -0.457, -0.658, -0.736, -0.795,  1.295,  1.324,  0.446,  0.1  ,\n",
       "        0.184,  0.655, -0.401, -0.77 , -0.753, -0.254, -0.575, -0.496,\n",
       "       -0.158, -0.425, -0.274, -0.266, -0.48 , -0.489, -0.58 , -0.639,\n",
       "        1.148,  1.178,  0.067, -0.105, -0.006,  0.231, -0.172, -0.807,\n",
       "       -0.802, -0.956, -0.606, -0.548, -0.649, -0.406, -0.245, -0.248,\n",
       "       -0.599, -0.93 ,  0.577,  0.579, -0.055, -0.185, -0.138,  0.114,\n",
       "       -0.422, -0.975, -1.01 , -1.017, -0.628, -0.548, -0.665, -0.8  ,\n",
       "       -0.661, -0.688, -0.986, -1.216,  0.599, -0.137, -0.095,  0.133,\n",
       "       -0.401, -0.942, -0.946, -0.998, -0.651, -0.6  , -0.645, -0.807,\n",
       "       -0.653, -0.685, -1.003, -1.162, -0.458, -0.084, -0.439, -0.595,\n",
       "       -0.619, -0.921, -0.639, -0.579, -0.673, -0.994, -0.769, -0.812,\n",
       "       -0.914, -1.147, -0.363,  0.04 , -0.414, -0.651, -0.649, -0.928,\n",
       "       -0.592, -0.545, -0.658, -1.044, -0.752, -0.795, -0.915, -0.413,\n",
       "       -0.324,  0.086, -0.387, -0.603, -0.562, -0.865, -0.536, -0.554,\n",
       "       -0.683, -0.996, -0.792, -0.819, -0.882, -0.417, -0.145, -0.05 ,\n",
       "       -0.285, -0.038, -0.545, -0.512, -1.116, -0.834, -0.831, -0.892,\n",
       "       -1.176, -0.916, -0.924, -1.312, -0.227, -0.622, -0.536, -0.482,\n",
       "       -0.186, -0.739, -0.749, -1.064, -0.915, -0.871, -1.164, -1.216,\n",
       "       -1.133, -1.13 , -1.388, -1.897,  0.013, -0.19 , -0.516, -0.525,\n",
       "       -0.715, -0.513, -0.793, -0.763, -0.959, -0.73 , -0.675, -0.803,\n",
       "       -1.051, -1.071, -1.084, -1.519, -1.67 ,  0.038, -0.169, -0.499,\n",
       "       -0.46 , -0.658, -0.492, -0.772, -0.786, -0.949, -0.699, -0.659,\n",
       "       -0.787, -1.021, -1.07 , -1.103, -1.546, -1.669, -0.496, -0.39 ,\n",
       "       -0.472, -0.531, -0.536, -1.052, -0.779, -0.692, -0.684, -0.674,\n",
       "       -0.521, -0.5  , -0.896, -0.976, -1.199, -1.229, -1.396, -1.57 ,\n",
       "       -0.63 , -0.581, -0.179, -0.174, -0.152, -0.728, -0.5  , -0.741,\n",
       "       -0.71 , -0.903, -0.686, -0.668, -0.813, -0.958, -1.335, -1.255,\n",
       "       -0.581, -0.491, -0.117, -0.191, -0.164, -0.706, -0.465, -0.732,\n",
       "       -0.687, -0.913, -0.761, -0.728, -0.895, -1.004, -0.425, -0.13 ,\n",
       "       -0.109, -0.089, -0.615, -0.4  , -0.683, -0.625, -0.85 , -0.636,\n",
       "       -0.613, -0.881, -0.108, -0.552, -0.582, -0.738, -0.602, -0.75 ,\n",
       "       -0.692, -0.789, -0.706, -0.781, -0.679, -0.66 , -0.677, -0.469,\n",
       "       -0.957, -0.955, -0.84 , -0.902, -0.863, -0.606, -0.679, -0.399,\n",
       "       -0.896, -0.924, -0.834, -0.922, -0.839, -0.69 , -0.966, -1.009,\n",
       "       -1.152, -0.646, -0.803, -0.85 , -1.158, -0.734, -0.842, -0.866,\n",
       "       -1.129, -0.614, -0.793], dtype=float32)"
      ]
     },
     "execution_count": 88,
     "metadata": {},
     "output_type": "execute_result"
    }
   ],
   "source": [
    "aa3"
   ]
  },
  {
   "cell_type": "code",
   "execution_count": null,
   "id": "26723a9e",
   "metadata": {},
   "outputs": [],
   "source": []
  }
 ],
 "metadata": {
  "kernelspec": {
   "display_name": "Python 3 (ipykernel)",
   "language": "python",
   "name": "python3"
  },
  "language_info": {
   "codemirror_mode": {
    "name": "ipython",
    "version": 3
   },
   "file_extension": ".py",
   "mimetype": "text/x-python",
   "name": "python",
   "nbconvert_exporter": "python",
   "pygments_lexer": "ipython3",
   "version": "3.8.13"
  }
 },
 "nbformat": 4,
 "nbformat_minor": 5
}

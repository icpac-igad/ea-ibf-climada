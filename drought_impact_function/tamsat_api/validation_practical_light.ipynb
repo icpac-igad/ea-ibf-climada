{
 "cells": [
  {
   "cell_type": "code",
   "execution_count": null,
   "id": "172ecd20",
   "metadata": {},
   "outputs": [],
   "source": [
    "import warnings\n",
    "warnings.filterwarnings('ignore')\n",
    "\n",
    "from validation_practical_functions_light import *\n"
   ]
  },
  {
   "cell_type": "code",
   "execution_count": null,
   "id": "d7a50b4f",
   "metadata": {},
   "outputs": [],
   "source": [
    "lonmin=35\n",
    "lonmax=41.5\n",
    "latmin=-4.5\n",
    "latmax=4.5\n",
    "month_start=3\n",
    "month_end=5"
   ]
  },
  {
   "cell_type": "code",
   "execution_count": null,
   "id": "e4c2e72f",
   "metadata": {},
   "outputs": [],
   "source": [
    "wrsi_file='wrsi_hist_monthly_1983_2019.nc'\n",
    "ndvi_file='ndvi_hist_monthly_1983_2015.nc'\n",
    "\n",
    "wrsi,lons,lats=mask_3d_data(wrsi_file,'beta',lonmin,lonmax,latmin,latmax)\n",
    "ndvi,lons,lats=mask_3d_data(ndvi_file,'ndvi',lonmin,lonmax,latmin,latmax)\n",
    "\n",
    "wrsi_seas=extract_season(wrsi,month_start,month_end)\n",
    "ndvi_seas=extract_season(ndvi,month_start,month_end)\n",
    "\n",
    "#Calculate the time series of the areal mean masked data\n",
    "wrsi_stand_anom=(np.nanmean(wrsi_seas,axis=(0,1))[:33]-np.nanmean(wrsi_seas[:,:,:33]))/np.nanstd(wrsi_seas[:,:,:33])\n",
    "ndvi_stand_anom=(np.nanmean(ndvi_seas,axis=(0,1))[:33]-np.nanmean(ndvi_seas[:,:,:33]))/np.nanstd(ndvi_seas[:,:,:33])\n",
    "\n",
    "#Calculate a spatially varying climatological seasonal mean\n",
    "wrsi_pix=np.mean(wrsi_seas[:,:,0:33],axis=2)\n",
    "ndvi_pix=np.mean(ndvi_seas,axis=2)\n"
   ]
  },
  {
   "cell_type": "code",
   "execution_count": null,
   "id": "ce201cd8",
   "metadata": {},
   "outputs": [],
   "source": [
    "output=map_corr_plot(wrsi_seas[:,:,0:33],ndvi_seas,'WRSI','NDVI',1,1,lons,lats,plot_out='myplot.png')\n",
    "\n"
   ]
  },
  {
   "cell_type": "code",
   "execution_count": null,
   "id": "c1dde8bb",
   "metadata": {},
   "outputs": [],
   "source": [
    "\n",
    "output=spat_corr_plot(wrsi_pix, ndvi_pix, \"WRSI\", \"NDVI\",plot_out='myplot.png')\n"
   ]
  },
  {
   "cell_type": "code",
   "execution_count": null,
   "id": "50679096",
   "metadata": {},
   "outputs": [],
   "source": [
    "corr_plot(wrsi_stand_anom, ndvi_stand_anom, \"WRSI\", \"NDVI\",plot_out='myplot.png')"
   ]
  },
  {
   "cell_type": "code",
   "execution_count": null,
   "id": "c85e9201",
   "metadata": {},
   "outputs": [],
   "source": [
    "\n",
    "ts_plot(wrsi_stand_anom, ndvi_stand_anom, \"WRSI\", \"NDVI\",color1='Black',color2='Red',xtick_locs=np.arange(2,35,5),xtick_labs=np.arange(1985,2017,5),plot_out='myplot.png')"
   ]
  },
  {
   "cell_type": "code",
   "execution_count": null,
   "id": "f8d7725a",
   "metadata": {},
   "outputs": [],
   "source": [
    "hindcast_file='mam_wrsi_init_Mar01_2003_2016.nc'\n",
    "\n",
    "#Get metadata\n",
    "\n",
    "hindcast_metadata=pds.read_csv('hindcasts.csv')\n",
    "single_file=hindcast_metadata[hindcast_metadata.iloc[:,0]==hindcast_file]\n",
    "\n",
    "month_start=int(single_file['POI_start_month'].values)\n",
    "month_end=int(single_file['POI_end_month'].values)\n",
    "\n",
    "#Process hindcast data\n",
    "ens_mean,lons,lats=mask_3d_data_ens(hindcast_file,'ens_mean',lonmin,lonmax,latmin,latmax)\n",
    "ens_sd,lons,lats=mask_3d_data_ens(hindcast_file,'ens_sd',lonmin,lonmax,latmin,latmax)\n",
    "\n",
    "ens_mean_ts=np.nanmean(ens_mean,axis=(0,1))\n",
    "ens_sd_ts=np.nanmean(ens_sd,axis=(0,1))\n",
    "\n",
    "#Calculate the time series of the areal mean masked data\n",
    "ens_stand_anom=(np.nanmean(ens_mean[:,:,0:13],axis=(0,1))-np.nanmean(ens_mean[:,:,0:13]))/np.nanstd(ens_mean[:,:,0:13])\n",
    "\n",
    "#Process historical data\n",
    "wrsi_file='wrsi_hist_monthly_1983_2019.nc'\n",
    "ndvi_file='ndvi_hist_monthly_1983_2015.nc'\n",
    "\n",
    "#Mask wrsi and ndvi data on our shape file\n",
    "wrsi,lons,lats =  mask_3d_data(wrsi_file,'beta',lonmin,lonmax,latmin,latmax)\n",
    "ndvi,lons,lats =  mask_3d_data(ndvi_file,'ndvi',lonmin,lonmax,latmin,latmax)\n",
    "\n",
    "#Extract period of interest and mask the resultant data on our shape file\n",
    "wrsi_seas=extract_season(wrsi,month_start,month_end)\n",
    "ndvi_seas=extract_season(ndvi,month_start,month_end)\n",
    "\n",
    "#Calculate the time series of the areal mean masked data\n",
    "wrsi_stand_anom=(np.nanmean(wrsi_seas[:,:,20:33],axis=(0,1))-np.nanmean(wrsi_seas[:,:,20:33]))/np.nanstd(wrsi_seas[:,:,20:33])\n",
    "ndvi_stand_anom=(np.nanmean(ndvi_seas[:,:,20:33],axis=(0,1))-np.nanmean(ndvi_seas[:,:,20:33]))/np.nanstd(ndvi_seas[:,:,20:33])\n",
    "\n",
    "wrsi_ts=np.nanmean(wrsi_seas,axis=(0,1))"
   ]
  },
  {
   "cell_type": "code",
   "execution_count": null,
   "id": "b3cfd7f9",
   "metadata": {},
   "outputs": [],
   "source": [
    "ts_plot(ndvi_stand_anom, ens_stand_anom, \"Observed NDVI\", \"Hindcast WRSI\",color1='Black',color2='Red',xtick_locs=np.arange(2,15,3),xtick_labs=np.arange(2003,2016,3),plot_out='myplot.png')"
   ]
  },
  {
   "cell_type": "code",
   "execution_count": null,
   "id": "492c63c5",
   "metadata": {},
   "outputs": [],
   "source": [
    "output=map_corr_scatter_plot(ens_mean[:,:,0:13],ndvi_seas[:,:,20:33],'Hindcast WRSI anom','NDVI anom',1,1,lons,lats,plot_out='myplot.png')\n"
   ]
  },
  {
   "cell_type": "code",
   "execution_count": null,
   "id": "b9396cae",
   "metadata": {},
   "outputs": [],
   "source": [
    "\n",
    "varin_seas=wrsi_seas[:,:,20:33]\n",
    "ens_mean=ens_mean[:,:,0:13]\n",
    "ens_sd=ens_sd[:,:,0:13]\n",
    "\n",
    "percentile_in=5\n",
    "\n",
    "output=roc_score(varin_seas,ens_mean,ens_sd,percentile_in,lons,lats,plot_out='myplot.png')"
   ]
  },
  {
   "cell_type": "code",
   "execution_count": null,
   "id": "4f234656",
   "metadata": {},
   "outputs": [],
   "source": []
  }
 ],
 "metadata": {
  "kernelspec": {
   "display_name": "Python 3 (ipykernel)",
   "language": "python",
   "name": "python3"
  },
  "language_info": {
   "codemirror_mode": {
    "name": "ipython",
    "version": 3
   },
   "file_extension": ".py",
   "mimetype": "text/x-python",
   "name": "python",
   "nbconvert_exporter": "python",
   "pygments_lexer": "ipython3",
   "version": "3.8.13"
  },
  "toc": {
   "base_numbering": 1,
   "nav_menu": {},
   "number_sections": true,
   "sideBar": true,
   "skip_h1_title": false,
   "title_cell": "Table of Contents",
   "title_sidebar": "Contents",
   "toc_cell": false,
   "toc_position": {},
   "toc_section_display": true,
   "toc_window_display": false
  }
 },
 "nbformat": 4,
 "nbformat_minor": 5
}

{
 "cells": [
  {
   "cell_type": "code",
   "execution_count": null,
   "id": "d8d0dd39",
   "metadata": {},
   "outputs": [],
   "source": [
    "## to download files for east africa\n",
    "\n",
    "gsutil cp -R gs://open-buildings-data/v2/points_s2_level_4_gzip/10d_buildings.csv.gz .\n",
    "gsutil cp -R gs://open-buildings-data/v2/points_s2_level_4_gzip/113_buildings.csv.gz .\n",
    "gsutil cp -R gs://open-buildings-data/v2/points_s2_level_4_gzip/141_buildings.csv.gz .\n",
    "gsutil cp -R gs://open-buildings-data/v2/points_s2_level_4_gzip/143_buildings.csv.gz .\n",
    "gsutil cp -R gs://open-buildings-data/v2/points_s2_level_4_gzip/15d_buildings.csv.gz .\n",
    "gsutil cp -R gs://open-buildings-data/v2/points_s2_level_4_gzip/161_buildings.csv.gz .\n",
    "gsutil cp -R gs://open-buildings-data/v2/points_s2_level_4_gzip/163_buildings.csv.gz .\n",
    "gsutil cp -R gs://open-buildings-data/v2/points_s2_level_4_gzip/165_buildings.csv.gz .\n",
    "gsutil cp -R gs://open-buildings-data/v2/points_s2_level_4_gzip/167_buildings.csv.gz .\n",
    "gsutil cp -R gs://open-buildings-data/v2/points_s2_level_4_gzip/169_buildings.csv.gz .\n",
    "gsutil cp -R gs://open-buildings-data/v2/points_s2_level_4_gzip/16b_buildings.csv.gz .\n",
    "gsutil cp -R gs://open-buildings-data/v2/points_s2_level_4_gzip/16d_buildings.csv.gz .\n",
    "gsutil cp -R gs://open-buildings-data/v2/points_s2_level_4_gzip/16f_buildings.csv.gz .\n",
    "gsutil cp -R gs://open-buildings-data/v2/points_s2_level_4_gzip/171_buildings.csv.gz .\n",
    "gsutil cp -R gs://open-buildings-data/v2/points_s2_level_4_gzip/173_buildings.csv.gz .\n",
    "gsutil cp -R gs://open-buildings-data/v2/points_s2_level_4_gzip/175_buildings.csv.gz .\n",
    "gsutil cp -R gs://open-buildings-data/v2/points_s2_level_4_gzip/177_buildings.csv.gz .\n",
    "gsutil cp -R gs://open-buildings-data/v2/points_s2_level_4_gzip/179_buildings.csv.gz .\n",
    "gsutil cp -R gs://open-buildings-data/v2/points_s2_level_4_gzip/17b_buildings.csv.gz .\n",
    "gsutil cp -R gs://open-buildings-data/v2/points_s2_level_4_gzip/17d_buildings.csv.gz .\n",
    "gsutil cp -R gs://open-buildings-data/v2/points_s2_level_4_gzip/17f_buildings.csv.gz .\n",
    "gsutil cp -R gs://open-buildings-data/v2/points_s2_level_4_gzip/181_buildings.csv.gz .\n",
    "gsutil cp -R gs://open-buildings-data/v2/points_s2_level_4_gzip/183_buildings.csv.gz .\n",
    "gsutil cp -R gs://open-buildings-data/v2/points_s2_level_4_gzip/185_buildings.csv.gz .\n",
    "gsutil cp -R gs://open-buildings-data/v2/points_s2_level_4_gzip/189_buildings.csv.gz .\n",
    "gsutil cp -R gs://open-buildings-data/v2/points_s2_level_4_gzip/18f_buildings.csv.gz .\n",
    "gsutil cp -R gs://open-buildings-data/v2/points_s2_level_4_gzip/191_buildings.csv.gz .\n",
    "gsutil cp -R gs://open-buildings-data/v2/points_s2_level_4_gzip/199_buildings.csv.gz .\n",
    "gsutil cp -R gs://open-buildings-data/v2/points_s2_level_4_gzip/19b_buildings.csv.gz .\n",
    "gsutil cp -R gs://open-buildings-data/v2/points_s2_level_4_gzip/19d_buildings.csv.gz .\n",
    "gsutil cp -R gs://open-buildings-data/v2/points_s2_level_4_gzip/19f_buildings.csv.gz .\n",
    "gsutil cp -R gs://open-buildings-data/v2/points_s2_level_4_gzip/3d5_buildings.csv.gz .\n",
    "gsutil cp -R gs://open-buildings-data/v2/points_s2_level_4_gzip/3d7_buildings.csv.gz .\n",
    "gsutil cp -R gs://open-buildings-data/v2/points_s2_level_4_gzip/3d9_buildings.csv.gz .\n",
    "gsutil cp -R gs://open-buildings-data/v2/points_s2_level_4_gzip/3db_buildings.csv.gz ."
   ]
  },
  {
   "cell_type": "code",
   "execution_count": 15,
   "id": "e806b90c",
   "metadata": {},
   "outputs": [],
   "source": [
    "import pandas as pd\n",
    "import geopandas as gp\n",
    "\n",
    "grid_db=gp.read_file('/home/data_folder/osm_data/ea_5x5_grid.shp')\n",
    "\n",
    "bdb=pd.read_csv('/home/data_folder/points_s2_level_4_gzip/3d5_buildings.csv.gz')\n",
    "\n",
    "gbdb = gp.GeoDataFrame(bdb, geometry=gp.points_from_xy(bdb.longitude, bdb.latitude))\n",
    "\n",
    "db = gbdb.sjoin(grid_db, how=\"left\")"
   ]
  },
  {
   "cell_type": "code",
   "execution_count": 18,
   "id": "084cab48",
   "metadata": {},
   "outputs": [
    {
     "data": {
      "text/html": [
       "<div>\n",
       "<style scoped>\n",
       "    .dataframe tbody tr th:only-of-type {\n",
       "        vertical-align: middle;\n",
       "    }\n",
       "\n",
       "    .dataframe tbody tr th {\n",
       "        vertical-align: top;\n",
       "    }\n",
       "\n",
       "    .dataframe thead th {\n",
       "        text-align: right;\n",
       "    }\n",
       "</style>\n",
       "<table border=\"1\" class=\"dataframe\">\n",
       "  <thead>\n",
       "    <tr style=\"text-align: right;\">\n",
       "      <th></th>\n",
       "      <th>latitude</th>\n",
       "      <th>longitude</th>\n",
       "      <th>area_in_meters</th>\n",
       "      <th>confidence</th>\n",
       "      <th>full_plus_code</th>\n",
       "      <th>geometry</th>\n",
       "      <th>index_right</th>\n",
       "      <th>sno</th>\n",
       "      <th>dem_name</th>\n",
       "    </tr>\n",
       "  </thead>\n",
       "  <tbody>\n",
       "    <tr>\n",
       "      <th>0</th>\n",
       "      <td>2.594276</td>\n",
       "      <td>45.374220</td>\n",
       "      <td>12.9729</td>\n",
       "      <td>0.7560</td>\n",
       "      <td>6HJ7H9VF+PM92</td>\n",
       "      <td>POINT (45.37422 2.59428)</td>\n",
       "      <td>4</td>\n",
       "      <td>6</td>\n",
       "      <td>n00e045_dem</td>\n",
       "    </tr>\n",
       "    <tr>\n",
       "      <th>1</th>\n",
       "      <td>2.016380</td>\n",
       "      <td>45.264297</td>\n",
       "      <td>56.9999</td>\n",
       "      <td>0.7819</td>\n",
       "      <td>6HJ72787+HP37</td>\n",
       "      <td>POINT (45.26430 2.01638)</td>\n",
       "      <td>4</td>\n",
       "      <td>6</td>\n",
       "      <td>n00e045_dem</td>\n",
       "    </tr>\n",
       "    <tr>\n",
       "      <th>2</th>\n",
       "      <td>2.104140</td>\n",
       "      <td>45.364583</td>\n",
       "      <td>25.8912</td>\n",
       "      <td>0.6304</td>\n",
       "      <td>6HJ74937+MR4G</td>\n",
       "      <td>POINT (45.36458 2.10414)</td>\n",
       "      <td>4</td>\n",
       "      <td>6</td>\n",
       "      <td>n00e045_dem</td>\n",
       "    </tr>\n",
       "    <tr>\n",
       "      <th>3</th>\n",
       "      <td>2.048299</td>\n",
       "      <td>45.364611</td>\n",
       "      <td>73.5123</td>\n",
       "      <td>0.6091</td>\n",
       "      <td>6HJ729X7+8R9W</td>\n",
       "      <td>POINT (45.36461 2.04830)</td>\n",
       "      <td>4</td>\n",
       "      <td>6</td>\n",
       "      <td>n00e045_dem</td>\n",
       "    </tr>\n",
       "    <tr>\n",
       "      <th>4</th>\n",
       "      <td>2.023368</td>\n",
       "      <td>45.311238</td>\n",
       "      <td>49.2868</td>\n",
       "      <td>0.6763</td>\n",
       "      <td>6HJ728F6+8FXP</td>\n",
       "      <td>POINT (45.31124 2.02337)</td>\n",
       "      <td>4</td>\n",
       "      <td>6</td>\n",
       "      <td>n00e045_dem</td>\n",
       "    </tr>\n",
       "    <tr>\n",
       "      <th>...</th>\n",
       "      <td>...</td>\n",
       "      <td>...</td>\n",
       "      <td>...</td>\n",
       "      <td>...</td>\n",
       "      <td>...</td>\n",
       "      <td>...</td>\n",
       "      <td>...</td>\n",
       "      <td>...</td>\n",
       "      <td>...</td>\n",
       "    </tr>\n",
       "    <tr>\n",
       "      <th>928093</th>\n",
       "      <td>2.009822</td>\n",
       "      <td>45.272287</td>\n",
       "      <td>3.5485</td>\n",
       "      <td>0.6901</td>\n",
       "      <td>6HJ7275C+WWFR</td>\n",
       "      <td>POINT (45.27229 2.00982)</td>\n",
       "      <td>4</td>\n",
       "      <td>6</td>\n",
       "      <td>n00e045_dem</td>\n",
       "    </tr>\n",
       "    <tr>\n",
       "      <th>928094</th>\n",
       "      <td>2.140334</td>\n",
       "      <td>45.117049</td>\n",
       "      <td>129.7858</td>\n",
       "      <td>0.6494</td>\n",
       "      <td>6HJ744R8+4RM8</td>\n",
       "      <td>POINT (45.11705 2.14033)</td>\n",
       "      <td>4</td>\n",
       "      <td>6</td>\n",
       "      <td>n00e045_dem</td>\n",
       "    </tr>\n",
       "    <tr>\n",
       "      <th>928095</th>\n",
       "      <td>2.727209</td>\n",
       "      <td>46.050974</td>\n",
       "      <td>17.8907</td>\n",
       "      <td>0.6802</td>\n",
       "      <td>6HJ8P3G2+V9Q6</td>\n",
       "      <td>POINT (46.05097 2.72721)</td>\n",
       "      <td>4</td>\n",
       "      <td>6</td>\n",
       "      <td>n00e045_dem</td>\n",
       "    </tr>\n",
       "    <tr>\n",
       "      <th>928096</th>\n",
       "      <td>2.102565</td>\n",
       "      <td>45.208381</td>\n",
       "      <td>223.8580</td>\n",
       "      <td>0.8493</td>\n",
       "      <td>6HJ74635+29CC</td>\n",
       "      <td>POINT (45.20838 2.10256)</td>\n",
       "      <td>4</td>\n",
       "      <td>6</td>\n",
       "      <td>n00e045_dem</td>\n",
       "    </tr>\n",
       "    <tr>\n",
       "      <th>928097</th>\n",
       "      <td>2.048168</td>\n",
       "      <td>45.284429</td>\n",
       "      <td>3.6773</td>\n",
       "      <td>0.7381</td>\n",
       "      <td>6HJ727XM+7Q7P</td>\n",
       "      <td>POINT (45.28443 2.04817)</td>\n",
       "      <td>4</td>\n",
       "      <td>6</td>\n",
       "      <td>n00e045_dem</td>\n",
       "    </tr>\n",
       "  </tbody>\n",
       "</table>\n",
       "<p>928098 rows × 9 columns</p>\n",
       "</div>"
      ],
      "text/plain": [
       "        latitude  longitude  area_in_meters  confidence full_plus_code  \\\n",
       "0       2.594276  45.374220         12.9729      0.7560  6HJ7H9VF+PM92   \n",
       "1       2.016380  45.264297         56.9999      0.7819  6HJ72787+HP37   \n",
       "2       2.104140  45.364583         25.8912      0.6304  6HJ74937+MR4G   \n",
       "3       2.048299  45.364611         73.5123      0.6091  6HJ729X7+8R9W   \n",
       "4       2.023368  45.311238         49.2868      0.6763  6HJ728F6+8FXP   \n",
       "...          ...        ...             ...         ...            ...   \n",
       "928093  2.009822  45.272287          3.5485      0.6901  6HJ7275C+WWFR   \n",
       "928094  2.140334  45.117049        129.7858      0.6494  6HJ744R8+4RM8   \n",
       "928095  2.727209  46.050974         17.8907      0.6802  6HJ8P3G2+V9Q6   \n",
       "928096  2.102565  45.208381        223.8580      0.8493  6HJ74635+29CC   \n",
       "928097  2.048168  45.284429          3.6773      0.7381  6HJ727XM+7Q7P   \n",
       "\n",
       "                        geometry  index_right  sno     dem_name  \n",
       "0       POINT (45.37422 2.59428)            4    6  n00e045_dem  \n",
       "1       POINT (45.26430 2.01638)            4    6  n00e045_dem  \n",
       "2       POINT (45.36458 2.10414)            4    6  n00e045_dem  \n",
       "3       POINT (45.36461 2.04830)            4    6  n00e045_dem  \n",
       "4       POINT (45.31124 2.02337)            4    6  n00e045_dem  \n",
       "...                          ...          ...  ...          ...  \n",
       "928093  POINT (45.27229 2.00982)            4    6  n00e045_dem  \n",
       "928094  POINT (45.11705 2.14033)            4    6  n00e045_dem  \n",
       "928095  POINT (46.05097 2.72721)            4    6  n00e045_dem  \n",
       "928096  POINT (45.20838 2.10256)            4    6  n00e045_dem  \n",
       "928097  POINT (45.28443 2.04817)            4    6  n00e045_dem  \n",
       "\n",
       "[928098 rows x 9 columns]"
      ]
     },
     "execution_count": 18,
     "metadata": {},
     "output_type": "execute_result"
    }
   ],
   "source": [
    "db"
   ]
  },
  {
   "cell_type": "code",
   "execution_count": 1,
   "id": "336d0c0e",
   "metadata": {},
   "outputs": [
    {
     "name": "stdout",
     "output_type": "stream",
     "text": [
      "/home/data_folder/points_s2_level_4_gzip/10d_buildings.csv.gz\n"
     ]
    },
    {
     "name": "stderr",
     "output_type": "stream",
     "text": [
      "/root/miniconda3/envs/climada_env/lib/python3.8/site-packages/dask/dataframe/io/csv.py:531: UserWarning: Warning gzip compression does not support breaking apart files\n",
      "Please ensure that each individual file can fit in memory and\n",
      "use the keyword ``blocksize=None to remove this message``\n",
      "Setting ``blocksize=None``\n",
      "  warn(\n"
     ]
    },
    {
     "name": "stdout",
     "output_type": "stream",
     "text": [
      "<class 'pandas.core.frame.DataFrame'>\n",
      "Int64Index: 244044 entries, 0 to 641174\n",
      "Data columns (total 5 columns):\n",
      " #   Column          Non-Null Count   Dtype  \n",
      "---  ------          --------------   -----  \n",
      " 0   latitude        244044 non-null  float64\n",
      " 1   longitude       244044 non-null  float64\n",
      " 2   area_in_meters  244044 non-null  float64\n",
      " 3   confidence      244044 non-null  float64\n",
      " 4   full_plus_code  244044 non-null  object \n",
      "dtypes: float64(4), object(1)\n",
      "memory usage: 11.2+ MB\n",
      "None\n"
     ]
    },
    {
     "name": "stderr",
     "output_type": "stream",
     "text": [
      "/tmp/ipykernel_5625/3870747852.py:106: SettingWithCopyWarning: \n",
      "A value is trying to be set on a copy of a slice from a DataFrame.\n",
      "Try using .loc[row_indexer,col_indexer] = value instead\n",
      "\n",
      "See the caveats in the documentation: https://pandas.pydata.org/pandas-docs/stable/user_guide/indexing.html#returning-a-view-versus-a-copy\n",
      "  bdb2['dem_name']=row['dem_name']\n"
     ]
    },
    {
     "name": "stdout",
     "output_type": "stream",
     "text": [
      "/home/data_folder/points_s2_level_4_gzip/113_buildings.csv.gz\n",
      "<class 'pandas.core.frame.DataFrame'>\n",
      "Int64Index: 112 entries, 0 to 7869\n",
      "Data columns (total 5 columns):\n",
      " #   Column          Non-Null Count  Dtype  \n",
      "---  ------          --------------  -----  \n",
      " 0   latitude        112 non-null    float64\n",
      " 1   longitude       112 non-null    float64\n",
      " 2   area_in_meters  112 non-null    float64\n",
      " 3   confidence      112 non-null    float64\n",
      " 4   full_plus_code  112 non-null    object \n",
      "dtypes: float64(4), object(1)\n",
      "memory usage: 5.2+ KB\n",
      "None\n",
      "<class 'pandas.core.frame.DataFrame'>\n",
      "Int64Index: 7887 entries, 1 to 7998\n",
      "Data columns (total 5 columns):\n",
      " #   Column          Non-Null Count  Dtype  \n",
      "---  ------          --------------  -----  \n",
      " 0   latitude        7887 non-null   float64\n",
      " 1   longitude       7887 non-null   float64\n",
      " 2   area_in_meters  7887 non-null   float64\n",
      " 3   confidence      7887 non-null   float64\n",
      " 4   full_plus_code  7887 non-null   object \n",
      "dtypes: float64(4), object(1)\n",
      "memory usage: 369.7+ KB\n",
      "None\n"
     ]
    },
    {
     "name": "stderr",
     "output_type": "stream",
     "text": [
      "/root/miniconda3/envs/climada_env/lib/python3.8/site-packages/dask/dataframe/io/csv.py:531: UserWarning: Warning gzip compression does not support breaking apart files\n",
      "Please ensure that each individual file can fit in memory and\n",
      "use the keyword ``blocksize=None to remove this message``\n",
      "Setting ``blocksize=None``\n",
      "  warn(\n",
      "/tmp/ipykernel_5625/3870747852.py:106: SettingWithCopyWarning: \n",
      "A value is trying to be set on a copy of a slice from a DataFrame.\n",
      "Try using .loc[row_indexer,col_indexer] = value instead\n",
      "\n",
      "See the caveats in the documentation: https://pandas.pydata.org/pandas-docs/stable/user_guide/indexing.html#returning-a-view-versus-a-copy\n",
      "  bdb2['dem_name']=row['dem_name']\n",
      "/tmp/ipykernel_5625/3870747852.py:106: SettingWithCopyWarning: \n",
      "A value is trying to be set on a copy of a slice from a DataFrame.\n",
      "Try using .loc[row_indexer,col_indexer] = value instead\n",
      "\n",
      "See the caveats in the documentation: https://pandas.pydata.org/pandas-docs/stable/user_guide/indexing.html#returning-a-view-versus-a-copy\n",
      "  bdb2['dem_name']=row['dem_name']\n"
     ]
    },
    {
     "name": "stdout",
     "output_type": "stream",
     "text": [
      "/home/data_folder/points_s2_level_4_gzip/141_buildings.csv.gz\n",
      "<class 'pandas.core.frame.DataFrame'>\n",
      "Int64Index: 4810 entries, 0 to 5160\n",
      "Data columns (total 5 columns):\n",
      " #   Column          Non-Null Count  Dtype  \n",
      "---  ------          --------------  -----  \n",
      " 0   latitude        4810 non-null   float64\n",
      " 1   longitude       4810 non-null   float64\n",
      " 2   area_in_meters  4810 non-null   float64\n",
      " 3   confidence      4810 non-null   float64\n",
      " 4   full_plus_code  4810 non-null   object \n",
      "dtypes: float64(4), object(1)\n",
      "memory usage: 225.5+ KB\n",
      "None\n",
      "/home/data_folder/points_s2_level_4_gzip/143_buildings.csv.gz\n"
     ]
    },
    {
     "name": "stderr",
     "output_type": "stream",
     "text": [
      "/root/miniconda3/envs/climada_env/lib/python3.8/site-packages/dask/dataframe/io/csv.py:531: UserWarning: Warning gzip compression does not support breaking apart files\n",
      "Please ensure that each individual file can fit in memory and\n",
      "use the keyword ``blocksize=None to remove this message``\n",
      "Setting ``blocksize=None``\n",
      "  warn(\n",
      "/tmp/ipykernel_5625/3870747852.py:106: SettingWithCopyWarning: \n",
      "A value is trying to be set on a copy of a slice from a DataFrame.\n",
      "Try using .loc[row_indexer,col_indexer] = value instead\n",
      "\n",
      "See the caveats in the documentation: https://pandas.pydata.org/pandas-docs/stable/user_guide/indexing.html#returning-a-view-versus-a-copy\n",
      "  bdb2['dem_name']=row['dem_name']\n",
      "/root/miniconda3/envs/climada_env/lib/python3.8/site-packages/dask/dataframe/io/csv.py:531: UserWarning: Warning gzip compression does not support breaking apart files\n",
      "Please ensure that each individual file can fit in memory and\n",
      "use the keyword ``blocksize=None to remove this message``\n",
      "Setting ``blocksize=None``\n",
      "  warn(\n"
     ]
    },
    {
     "name": "stdout",
     "output_type": "stream",
     "text": [
      "<class 'pandas.core.frame.DataFrame'>\n",
      "Int64Index: 9 entries, 45053 to 578405\n",
      "Data columns (total 5 columns):\n",
      " #   Column          Non-Null Count  Dtype  \n",
      "---  ------          --------------  -----  \n",
      " 0   latitude        9 non-null      float64\n",
      " 1   longitude       9 non-null      float64\n",
      " 2   area_in_meters  9 non-null      float64\n",
      " 3   confidence      9 non-null      float64\n",
      " 4   full_plus_code  9 non-null      object \n",
      "dtypes: float64(4), object(1)\n",
      "memory usage: 432.0+ bytes\n",
      "None\n",
      "<class 'pandas.core.frame.DataFrame'>\n",
      "Int64Index: 103808 entries, 11 to 652651\n",
      "Data columns (total 5 columns):\n",
      " #   Column          Non-Null Count   Dtype  \n",
      "---  ------          --------------   -----  \n",
      " 0   latitude        103808 non-null  float64\n",
      " 1   longitude       103808 non-null  float64\n",
      " 2   area_in_meters  103808 non-null  float64\n",
      " 3   confidence      103808 non-null  float64\n",
      " 4   full_plus_code  103808 non-null  object \n",
      "dtypes: float64(4), object(1)\n",
      "memory usage: 4.8+ MB\n",
      "None\n"
     ]
    },
    {
     "name": "stderr",
     "output_type": "stream",
     "text": [
      "/tmp/ipykernel_5625/3870747852.py:106: SettingWithCopyWarning: \n",
      "A value is trying to be set on a copy of a slice from a DataFrame.\n",
      "Try using .loc[row_indexer,col_indexer] = value instead\n",
      "\n",
      "See the caveats in the documentation: https://pandas.pydata.org/pandas-docs/stable/user_guide/indexing.html#returning-a-view-versus-a-copy\n",
      "  bdb2['dem_name']=row['dem_name']\n",
      "/tmp/ipykernel_5625/3870747852.py:106: SettingWithCopyWarning: \n",
      "A value is trying to be set on a copy of a slice from a DataFrame.\n",
      "Try using .loc[row_indexer,col_indexer] = value instead\n",
      "\n",
      "See the caveats in the documentation: https://pandas.pydata.org/pandas-docs/stable/user_guide/indexing.html#returning-a-view-versus-a-copy\n",
      "  bdb2['dem_name']=row['dem_name']\n"
     ]
    },
    {
     "name": "stdout",
     "output_type": "stream",
     "text": [
      "<class 'pandas.core.frame.DataFrame'>\n",
      "Int64Index: 3364 entries, 204 to 651668\n",
      "Data columns (total 5 columns):\n",
      " #   Column          Non-Null Count  Dtype  \n",
      "---  ------          --------------  -----  \n",
      " 0   latitude        3364 non-null   float64\n",
      " 1   longitude       3364 non-null   float64\n",
      " 2   area_in_meters  3364 non-null   float64\n",
      " 3   confidence      3364 non-null   float64\n",
      " 4   full_plus_code  3364 non-null   object \n",
      "dtypes: float64(4), object(1)\n",
      "memory usage: 157.7+ KB\n",
      "None\n",
      "<class 'pandas.core.frame.DataFrame'>\n",
      "Int64Index: 504720 entries, 2 to 652654\n",
      "Data columns (total 5 columns):\n",
      " #   Column          Non-Null Count   Dtype  \n",
      "---  ------          --------------   -----  \n",
      " 0   latitude        504720 non-null  float64\n",
      " 1   longitude       504720 non-null  float64\n",
      " 2   area_in_meters  504720 non-null  float64\n",
      " 3   confidence      504720 non-null  float64\n",
      " 4   full_plus_code  504720 non-null  object \n",
      "dtypes: float64(4), object(1)\n",
      "memory usage: 23.1+ MB\n",
      "None\n"
     ]
    },
    {
     "name": "stderr",
     "output_type": "stream",
     "text": [
      "/tmp/ipykernel_5625/3870747852.py:106: SettingWithCopyWarning: \n",
      "A value is trying to be set on a copy of a slice from a DataFrame.\n",
      "Try using .loc[row_indexer,col_indexer] = value instead\n",
      "\n",
      "See the caveats in the documentation: https://pandas.pydata.org/pandas-docs/stable/user_guide/indexing.html#returning-a-view-versus-a-copy\n",
      "  bdb2['dem_name']=row['dem_name']\n",
      "/tmp/ipykernel_5625/3870747852.py:106: SettingWithCopyWarning: \n",
      "A value is trying to be set on a copy of a slice from a DataFrame.\n",
      "Try using .loc[row_indexer,col_indexer] = value instead\n",
      "\n",
      "See the caveats in the documentation: https://pandas.pydata.org/pandas-docs/stable/user_guide/indexing.html#returning-a-view-versus-a-copy\n",
      "  bdb2['dem_name']=row['dem_name']\n"
     ]
    },
    {
     "name": "stdout",
     "output_type": "stream",
     "text": [
      "/home/data_folder/points_s2_level_4_gzip/15d_buildings.csv.gz\n"
     ]
    },
    {
     "name": "stderr",
     "output_type": "stream",
     "text": [
      "/root/miniconda3/envs/climada_env/lib/python3.8/site-packages/dask/dataframe/io/csv.py:531: UserWarning: Warning gzip compression does not support breaking apart files\n",
      "Please ensure that each individual file can fit in memory and\n",
      "use the keyword ``blocksize=None to remove this message``\n",
      "Setting ``blocksize=None``\n",
      "  warn(\n"
     ]
    },
    {
     "name": "stdout",
     "output_type": "stream",
     "text": [
      "<class 'pandas.core.frame.DataFrame'>\n",
      "Int64Index: 856 entries, 61 to 627474\n",
      "Data columns (total 5 columns):\n",
      " #   Column          Non-Null Count  Dtype  \n",
      "---  ------          --------------  -----  \n",
      " 0   latitude        856 non-null    float64\n",
      " 1   longitude       856 non-null    float64\n",
      " 2   area_in_meters  856 non-null    float64\n",
      " 3   confidence      856 non-null    float64\n",
      " 4   full_plus_code  856 non-null    object \n",
      "dtypes: float64(4), object(1)\n",
      "memory usage: 40.1+ KB\n",
      "None\n",
      "<class 'pandas.core.frame.DataFrame'>\n",
      "Int64Index: 576108 entries, 1 to 630095\n",
      "Data columns (total 5 columns):\n",
      " #   Column          Non-Null Count   Dtype  \n",
      "---  ------          --------------   -----  \n",
      " 0   latitude        576108 non-null  float64\n",
      " 1   longitude       576108 non-null  float64\n",
      " 2   area_in_meters  576108 non-null  float64\n",
      " 3   confidence      576108 non-null  float64\n",
      " 4   full_plus_code  576108 non-null  object \n",
      "dtypes: float64(4), object(1)\n",
      "memory usage: 26.4+ MB\n",
      "None\n"
     ]
    },
    {
     "name": "stderr",
     "output_type": "stream",
     "text": [
      "/tmp/ipykernel_5625/3870747852.py:106: SettingWithCopyWarning: \n",
      "A value is trying to be set on a copy of a slice from a DataFrame.\n",
      "Try using .loc[row_indexer,col_indexer] = value instead\n",
      "\n",
      "See the caveats in the documentation: https://pandas.pydata.org/pandas-docs/stable/user_guide/indexing.html#returning-a-view-versus-a-copy\n",
      "  bdb2['dem_name']=row['dem_name']\n",
      "/tmp/ipykernel_5625/3870747852.py:106: SettingWithCopyWarning: \n",
      "A value is trying to be set on a copy of a slice from a DataFrame.\n",
      "Try using .loc[row_indexer,col_indexer] = value instead\n",
      "\n",
      "See the caveats in the documentation: https://pandas.pydata.org/pandas-docs/stable/user_guide/indexing.html#returning-a-view-versus-a-copy\n",
      "  bdb2['dem_name']=row['dem_name']\n"
     ]
    },
    {
     "name": "stdout",
     "output_type": "stream",
     "text": [
      "<class 'pandas.core.frame.DataFrame'>\n",
      "Int64Index: 6075 entries, 8 to 629956\n",
      "Data columns (total 5 columns):\n",
      " #   Column          Non-Null Count  Dtype  \n",
      "---  ------          --------------  -----  \n",
      " 0   latitude        6075 non-null   float64\n",
      " 1   longitude       6075 non-null   float64\n",
      " 2   area_in_meters  6075 non-null   float64\n",
      " 3   confidence      6075 non-null   float64\n",
      " 4   full_plus_code  6075 non-null   object \n",
      "dtypes: float64(4), object(1)\n",
      "memory usage: 284.8+ KB\n",
      "None\n",
      "<class 'pandas.core.frame.DataFrame'>\n",
      "Int64Index: 47057 entries, 0 to 630077\n",
      "Data columns (total 5 columns):\n",
      " #   Column          Non-Null Count  Dtype  \n",
      "---  ------          --------------  -----  \n",
      " 0   latitude        47057 non-null  float64\n",
      " 1   longitude       47057 non-null  float64\n",
      " 2   area_in_meters  47057 non-null  float64\n",
      " 3   confidence      47057 non-null  float64\n",
      " 4   full_plus_code  47057 non-null  object \n",
      "dtypes: float64(4), object(1)\n",
      "memory usage: 2.2+ MB\n",
      "None\n"
     ]
    },
    {
     "name": "stderr",
     "output_type": "stream",
     "text": [
      "/tmp/ipykernel_5625/3870747852.py:106: SettingWithCopyWarning: \n",
      "A value is trying to be set on a copy of a slice from a DataFrame.\n",
      "Try using .loc[row_indexer,col_indexer] = value instead\n",
      "\n",
      "See the caveats in the documentation: https://pandas.pydata.org/pandas-docs/stable/user_guide/indexing.html#returning-a-view-versus-a-copy\n",
      "  bdb2['dem_name']=row['dem_name']\n",
      "/tmp/ipykernel_5625/3870747852.py:106: SettingWithCopyWarning: \n",
      "A value is trying to be set on a copy of a slice from a DataFrame.\n",
      "Try using .loc[row_indexer,col_indexer] = value instead\n",
      "\n",
      "See the caveats in the documentation: https://pandas.pydata.org/pandas-docs/stable/user_guide/indexing.html#returning-a-view-versus-a-copy\n",
      "  bdb2['dem_name']=row['dem_name']\n"
     ]
    },
    {
     "name": "stdout",
     "output_type": "stream",
     "text": [
      "/home/data_folder/points_s2_level_4_gzip/161_buildings.csv.gz\n",
      "<class 'pandas.core.frame.DataFrame'>\n",
      "Int64Index: 1496 entries, 28 to 71268\n",
      "Data columns (total 5 columns):\n",
      " #   Column          Non-Null Count  Dtype  \n",
      "---  ------          --------------  -----  \n",
      " 0   latitude        1496 non-null   float64\n",
      " 1   longitude       1496 non-null   float64\n",
      " 2   area_in_meters  1496 non-null   float64\n",
      " 3   confidence      1496 non-null   float64\n",
      " 4   full_plus_code  1496 non-null   object \n",
      "dtypes: float64(4), object(1)\n",
      "memory usage: 70.1+ KB\n",
      "None\n"
     ]
    },
    {
     "name": "stderr",
     "output_type": "stream",
     "text": [
      "/root/miniconda3/envs/climada_env/lib/python3.8/site-packages/dask/dataframe/io/csv.py:531: UserWarning: Warning gzip compression does not support breaking apart files\n",
      "Please ensure that each individual file can fit in memory and\n",
      "use the keyword ``blocksize=None to remove this message``\n",
      "Setting ``blocksize=None``\n",
      "  warn(\n",
      "/tmp/ipykernel_5625/3870747852.py:106: SettingWithCopyWarning: \n",
      "A value is trying to be set on a copy of a slice from a DataFrame.\n",
      "Try using .loc[row_indexer,col_indexer] = value instead\n",
      "\n",
      "See the caveats in the documentation: https://pandas.pydata.org/pandas-docs/stable/user_guide/indexing.html#returning-a-view-versus-a-copy\n",
      "  bdb2['dem_name']=row['dem_name']\n"
     ]
    },
    {
     "name": "stdout",
     "output_type": "stream",
     "text": [
      "<class 'pandas.core.frame.DataFrame'>\n",
      "Int64Index: 66997 entries, 0 to 71289\n",
      "Data columns (total 5 columns):\n",
      " #   Column          Non-Null Count  Dtype  \n",
      "---  ------          --------------  -----  \n",
      " 0   latitude        66997 non-null  float64\n",
      " 1   longitude       66997 non-null  float64\n",
      " 2   area_in_meters  66997 non-null  float64\n",
      " 3   confidence      66997 non-null  float64\n",
      " 4   full_plus_code  66997 non-null  object \n",
      "dtypes: float64(4), object(1)\n",
      "memory usage: 3.1+ MB\n",
      "None\n"
     ]
    },
    {
     "name": "stderr",
     "output_type": "stream",
     "text": [
      "/tmp/ipykernel_5625/3870747852.py:106: SettingWithCopyWarning: \n",
      "A value is trying to be set on a copy of a slice from a DataFrame.\n",
      "Try using .loc[row_indexer,col_indexer] = value instead\n",
      "\n",
      "See the caveats in the documentation: https://pandas.pydata.org/pandas-docs/stable/user_guide/indexing.html#returning-a-view-versus-a-copy\n",
      "  bdb2['dem_name']=row['dem_name']\n"
     ]
    },
    {
     "name": "stdout",
     "output_type": "stream",
     "text": [
      "<class 'pandas.core.frame.DataFrame'>\n",
      "Int64Index: 312 entries, 839 to 70937\n",
      "Data columns (total 5 columns):\n",
      " #   Column          Non-Null Count  Dtype  \n",
      "---  ------          --------------  -----  \n",
      " 0   latitude        312 non-null    float64\n",
      " 1   longitude       312 non-null    float64\n",
      " 2   area_in_meters  312 non-null    float64\n",
      " 3   confidence      312 non-null    float64\n",
      " 4   full_plus_code  312 non-null    object \n",
      "dtypes: float64(4), object(1)\n",
      "memory usage: 14.6+ KB\n",
      "None\n",
      "/home/data_folder/points_s2_level_4_gzip/163_buildings.csv.gz\n"
     ]
    },
    {
     "name": "stderr",
     "output_type": "stream",
     "text": [
      "/tmp/ipykernel_5625/3870747852.py:106: SettingWithCopyWarning: \n",
      "A value is trying to be set on a copy of a slice from a DataFrame.\n",
      "Try using .loc[row_indexer,col_indexer] = value instead\n",
      "\n",
      "See the caveats in the documentation: https://pandas.pydata.org/pandas-docs/stable/user_guide/indexing.html#returning-a-view-versus-a-copy\n",
      "  bdb2['dem_name']=row['dem_name']\n",
      "/root/miniconda3/envs/climada_env/lib/python3.8/site-packages/dask/dataframe/io/csv.py:531: UserWarning: Warning gzip compression does not support breaking apart files\n",
      "Please ensure that each individual file can fit in memory and\n",
      "use the keyword ``blocksize=None to remove this message``\n",
      "Setting ``blocksize=None``\n",
      "  warn(\n"
     ]
    },
    {
     "name": "stdout",
     "output_type": "stream",
     "text": [
      "<class 'pandas.core.frame.DataFrame'>\n",
      "Int64Index: 6743 entries, 925 to 3760776\n",
      "Data columns (total 5 columns):\n",
      " #   Column          Non-Null Count  Dtype  \n",
      "---  ------          --------------  -----  \n",
      " 0   latitude        6743 non-null   float64\n",
      " 1   longitude       6743 non-null   float64\n",
      " 2   area_in_meters  6743 non-null   float64\n",
      " 3   confidence      6743 non-null   float64\n",
      " 4   full_plus_code  6743 non-null   object \n",
      "dtypes: float64(4), object(1)\n",
      "memory usage: 316.1+ KB\n",
      "None\n"
     ]
    },
    {
     "name": "stderr",
     "output_type": "stream",
     "text": [
      "/tmp/ipykernel_5625/3870747852.py:106: SettingWithCopyWarning: \n",
      "A value is trying to be set on a copy of a slice from a DataFrame.\n",
      "Try using .loc[row_indexer,col_indexer] = value instead\n",
      "\n",
      "See the caveats in the documentation: https://pandas.pydata.org/pandas-docs/stable/user_guide/indexing.html#returning-a-view-versus-a-copy\n",
      "  bdb2['dem_name']=row['dem_name']\n"
     ]
    },
    {
     "name": "stdout",
     "output_type": "stream",
     "text": [
      "<class 'pandas.core.frame.DataFrame'>\n",
      "Int64Index: 3252260 entries, 1 to 3761510\n",
      "Data columns (total 5 columns):\n",
      " #   Column          Dtype  \n",
      "---  ------          -----  \n",
      " 0   latitude        float64\n",
      " 1   longitude       float64\n",
      " 2   area_in_meters  float64\n",
      " 3   confidence      float64\n",
      " 4   full_plus_code  object \n",
      "dtypes: float64(4), object(1)\n",
      "memory usage: 148.9+ MB\n",
      "None\n"
     ]
    },
    {
     "name": "stderr",
     "output_type": "stream",
     "text": [
      "/tmp/ipykernel_5625/3870747852.py:106: SettingWithCopyWarning: \n",
      "A value is trying to be set on a copy of a slice from a DataFrame.\n",
      "Try using .loc[row_indexer,col_indexer] = value instead\n",
      "\n",
      "See the caveats in the documentation: https://pandas.pydata.org/pandas-docs/stable/user_guide/indexing.html#returning-a-view-versus-a-copy\n",
      "  bdb2['dem_name']=row['dem_name']\n"
     ]
    },
    {
     "name": "stdout",
     "output_type": "stream",
     "text": [
      "<class 'pandas.core.frame.DataFrame'>\n",
      "Int64Index: 15 entries, 50055 to 3579583\n",
      "Data columns (total 5 columns):\n",
      " #   Column          Non-Null Count  Dtype  \n",
      "---  ------          --------------  -----  \n",
      " 0   latitude        15 non-null     float64\n",
      " 1   longitude       15 non-null     float64\n",
      " 2   area_in_meters  15 non-null     float64\n",
      " 3   confidence      15 non-null     float64\n",
      " 4   full_plus_code  15 non-null     object \n",
      "dtypes: float64(4), object(1)\n",
      "memory usage: 720.0+ bytes\n",
      "None\n",
      "<class 'pandas.core.frame.DataFrame'>\n",
      "Int64Index: 23108 entries, 380 to 3761352\n",
      "Data columns (total 5 columns):\n",
      " #   Column          Non-Null Count  Dtype  \n",
      "---  ------          --------------  -----  \n",
      " 0   latitude        23108 non-null  float64\n",
      " 1   longitude       23108 non-null  float64\n",
      " 2   area_in_meters  23108 non-null  float64\n",
      " 3   confidence      23108 non-null  float64\n",
      " 4   full_plus_code  23108 non-null  object \n",
      "dtypes: float64(4), object(1)\n",
      "memory usage: 1.1+ MB\n",
      "None\n"
     ]
    },
    {
     "name": "stderr",
     "output_type": "stream",
     "text": [
      "/tmp/ipykernel_5625/3870747852.py:106: SettingWithCopyWarning: \n",
      "A value is trying to be set on a copy of a slice from a DataFrame.\n",
      "Try using .loc[row_indexer,col_indexer] = value instead\n",
      "\n",
      "See the caveats in the documentation: https://pandas.pydata.org/pandas-docs/stable/user_guide/indexing.html#returning-a-view-versus-a-copy\n",
      "  bdb2['dem_name']=row['dem_name']\n",
      "/tmp/ipykernel_5625/3870747852.py:106: SettingWithCopyWarning: \n",
      "A value is trying to be set on a copy of a slice from a DataFrame.\n",
      "Try using .loc[row_indexer,col_indexer] = value instead\n",
      "\n",
      "See the caveats in the documentation: https://pandas.pydata.org/pandas-docs/stable/user_guide/indexing.html#returning-a-view-versus-a-copy\n",
      "  bdb2['dem_name']=row['dem_name']\n"
     ]
    },
    {
     "name": "stdout",
     "output_type": "stream",
     "text": [
      "<class 'pandas.core.frame.DataFrame'>\n",
      "Int64Index: 479322 entries, 0 to 3761511\n",
      "Data columns (total 5 columns):\n",
      " #   Column          Non-Null Count   Dtype  \n",
      "---  ------          --------------   -----  \n",
      " 0   latitude        479322 non-null  float64\n",
      " 1   longitude       479322 non-null  float64\n",
      " 2   area_in_meters  479322 non-null  float64\n",
      " 3   confidence      479322 non-null  float64\n",
      " 4   full_plus_code  479322 non-null  object \n",
      "dtypes: float64(4), object(1)\n",
      "memory usage: 21.9+ MB\n",
      "None\n"
     ]
    },
    {
     "name": "stderr",
     "output_type": "stream",
     "text": [
      "/tmp/ipykernel_5625/3870747852.py:106: SettingWithCopyWarning: \n",
      "A value is trying to be set on a copy of a slice from a DataFrame.\n",
      "Try using .loc[row_indexer,col_indexer] = value instead\n",
      "\n",
      "See the caveats in the documentation: https://pandas.pydata.org/pandas-docs/stable/user_guide/indexing.html#returning-a-view-versus-a-copy\n",
      "  bdb2['dem_name']=row['dem_name']\n"
     ]
    },
    {
     "name": "stdout",
     "output_type": "stream",
     "text": [
      "<class 'pandas.core.frame.DataFrame'>\n",
      "Int64Index: 64 entries, 21855 to 3740829\n",
      "Data columns (total 5 columns):\n",
      " #   Column          Non-Null Count  Dtype  \n",
      "---  ------          --------------  -----  \n",
      " 0   latitude        64 non-null     float64\n",
      " 1   longitude       64 non-null     float64\n",
      " 2   area_in_meters  64 non-null     float64\n",
      " 3   confidence      64 non-null     float64\n",
      " 4   full_plus_code  64 non-null     object \n",
      "dtypes: float64(4), object(1)\n",
      "memory usage: 3.0+ KB\n",
      "None\n"
     ]
    },
    {
     "name": "stderr",
     "output_type": "stream",
     "text": [
      "/tmp/ipykernel_5625/3870747852.py:106: SettingWithCopyWarning: \n",
      "A value is trying to be set on a copy of a slice from a DataFrame.\n",
      "Try using .loc[row_indexer,col_indexer] = value instead\n",
      "\n",
      "See the caveats in the documentation: https://pandas.pydata.org/pandas-docs/stable/user_guide/indexing.html#returning-a-view-versus-a-copy\n",
      "  bdb2['dem_name']=row['dem_name']\n"
     ]
    },
    {
     "name": "stdout",
     "output_type": "stream",
     "text": [
      "/home/data_folder/points_s2_level_4_gzip/165_buildings.csv.gz\n"
     ]
    },
    {
     "name": "stderr",
     "output_type": "stream",
     "text": [
      "/root/miniconda3/envs/climada_env/lib/python3.8/site-packages/dask/dataframe/io/csv.py:531: UserWarning: Warning gzip compression does not support breaking apart files\n",
      "Please ensure that each individual file can fit in memory and\n",
      "use the keyword ``blocksize=None to remove this message``\n",
      "Setting ``blocksize=None``\n",
      "  warn(\n"
     ]
    },
    {
     "name": "stdout",
     "output_type": "stream",
     "text": [
      "<class 'pandas.core.frame.DataFrame'>\n",
      "Int64Index: 297777 entries, 6 to 17228604\n",
      "Data columns (total 5 columns):\n",
      " #   Column          Non-Null Count   Dtype  \n",
      "---  ------          --------------   -----  \n",
      " 0   latitude        297777 non-null  float64\n",
      " 1   longitude       297777 non-null  float64\n",
      " 2   area_in_meters  297777 non-null  float64\n",
      " 3   confidence      297777 non-null  float64\n",
      " 4   full_plus_code  297777 non-null  object \n",
      "dtypes: float64(4), object(1)\n",
      "memory usage: 13.6+ MB\n",
      "None\n"
     ]
    },
    {
     "name": "stderr",
     "output_type": "stream",
     "text": [
      "/tmp/ipykernel_5625/3870747852.py:106: SettingWithCopyWarning: \n",
      "A value is trying to be set on a copy of a slice from a DataFrame.\n",
      "Try using .loc[row_indexer,col_indexer] = value instead\n",
      "\n",
      "See the caveats in the documentation: https://pandas.pydata.org/pandas-docs/stable/user_guide/indexing.html#returning-a-view-versus-a-copy\n",
      "  bdb2['dem_name']=row['dem_name']\n"
     ]
    },
    {
     "name": "stdout",
     "output_type": "stream",
     "text": [
      "<class 'pandas.core.frame.DataFrame'>\n",
      "Int64Index: 8185212 entries, 0 to 17228607\n",
      "Data columns (total 5 columns):\n",
      " #   Column          Dtype  \n",
      "---  ------          -----  \n",
      " 0   latitude        float64\n",
      " 1   longitude       float64\n",
      " 2   area_in_meters  float64\n",
      " 3   confidence      float64\n",
      " 4   full_plus_code  object \n",
      "dtypes: float64(4), object(1)\n",
      "memory usage: 374.7+ MB\n",
      "None\n"
     ]
    },
    {
     "name": "stderr",
     "output_type": "stream",
     "text": [
      "/tmp/ipykernel_5625/3870747852.py:106: SettingWithCopyWarning: \n",
      "A value is trying to be set on a copy of a slice from a DataFrame.\n",
      "Try using .loc[row_indexer,col_indexer] = value instead\n",
      "\n",
      "See the caveats in the documentation: https://pandas.pydata.org/pandas-docs/stable/user_guide/indexing.html#returning-a-view-versus-a-copy\n",
      "  bdb2['dem_name']=row['dem_name']\n"
     ]
    },
    {
     "name": "stdout",
     "output_type": "stream",
     "text": [
      "<class 'pandas.core.frame.DataFrame'>\n",
      "Int64Index: 373329 entries, 44 to 17228573\n",
      "Data columns (total 5 columns):\n",
      " #   Column          Non-Null Count   Dtype  \n",
      "---  ------          --------------   -----  \n",
      " 0   latitude        373329 non-null  float64\n",
      " 1   longitude       373329 non-null  float64\n",
      " 2   area_in_meters  373329 non-null  float64\n",
      " 3   confidence      373329 non-null  float64\n",
      " 4   full_plus_code  373329 non-null  object \n",
      "dtypes: float64(4), object(1)\n",
      "memory usage: 17.1+ MB\n",
      "None\n"
     ]
    },
    {
     "name": "stderr",
     "output_type": "stream",
     "text": [
      "/tmp/ipykernel_5625/3870747852.py:106: SettingWithCopyWarning: \n",
      "A value is trying to be set on a copy of a slice from a DataFrame.\n",
      "Try using .loc[row_indexer,col_indexer] = value instead\n",
      "\n",
      "See the caveats in the documentation: https://pandas.pydata.org/pandas-docs/stable/user_guide/indexing.html#returning-a-view-versus-a-copy\n",
      "  bdb2['dem_name']=row['dem_name']\n"
     ]
    },
    {
     "name": "stdout",
     "output_type": "stream",
     "text": [
      "<class 'pandas.core.frame.DataFrame'>\n",
      "Int64Index: 8372290 entries, 1 to 17228605\n",
      "Data columns (total 5 columns):\n",
      " #   Column          Dtype  \n",
      "---  ------          -----  \n",
      " 0   latitude        float64\n",
      " 1   longitude       float64\n",
      " 2   area_in_meters  float64\n",
      " 3   confidence      float64\n",
      " 4   full_plus_code  object \n",
      "dtypes: float64(4), object(1)\n",
      "memory usage: 383.3+ MB\n",
      "None\n"
     ]
    },
    {
     "name": "stderr",
     "output_type": "stream",
     "text": [
      "/tmp/ipykernel_5625/3870747852.py:106: SettingWithCopyWarning: \n",
      "A value is trying to be set on a copy of a slice from a DataFrame.\n",
      "Try using .loc[row_indexer,col_indexer] = value instead\n",
      "\n",
      "See the caveats in the documentation: https://pandas.pydata.org/pandas-docs/stable/user_guide/indexing.html#returning-a-view-versus-a-copy\n",
      "  bdb2['dem_name']=row['dem_name']\n"
     ]
    },
    {
     "name": "stdout",
     "output_type": "stream",
     "text": [
      "/home/data_folder/points_s2_level_4_gzip/167_buildings.csv.gz\n"
     ]
    },
    {
     "name": "stderr",
     "output_type": "stream",
     "text": [
      "/root/miniconda3/envs/climada_env/lib/python3.8/site-packages/dask/dataframe/io/csv.py:531: UserWarning: Warning gzip compression does not support breaking apart files\n",
      "Please ensure that each individual file can fit in memory and\n",
      "use the keyword ``blocksize=None to remove this message``\n",
      "Setting ``blocksize=None``\n",
      "  warn(\n"
     ]
    },
    {
     "name": "stdout",
     "output_type": "stream",
     "text": [
      "<class 'pandas.core.frame.DataFrame'>\n",
      "Int64Index: 24294 entries, 28 to 3506894\n",
      "Data columns (total 5 columns):\n",
      " #   Column          Non-Null Count  Dtype  \n",
      "---  ------          --------------  -----  \n",
      " 0   latitude        24294 non-null  float64\n",
      " 1   longitude       24294 non-null  float64\n",
      " 2   area_in_meters  24294 non-null  float64\n",
      " 3   confidence      24294 non-null  float64\n",
      " 4   full_plus_code  24294 non-null  object \n",
      "dtypes: float64(4), object(1)\n",
      "memory usage: 1.1+ MB\n",
      "None\n"
     ]
    },
    {
     "name": "stderr",
     "output_type": "stream",
     "text": [
      "/tmp/ipykernel_5625/3870747852.py:106: SettingWithCopyWarning: \n",
      "A value is trying to be set on a copy of a slice from a DataFrame.\n",
      "Try using .loc[row_indexer,col_indexer] = value instead\n",
      "\n",
      "See the caveats in the documentation: https://pandas.pydata.org/pandas-docs/stable/user_guide/indexing.html#returning-a-view-versus-a-copy\n",
      "  bdb2['dem_name']=row['dem_name']\n"
     ]
    },
    {
     "name": "stdout",
     "output_type": "stream",
     "text": [
      "<class 'pandas.core.frame.DataFrame'>\n",
      "Int64Index: 1466251 entries, 0 to 3507256\n",
      "Data columns (total 5 columns):\n",
      " #   Column          Non-Null Count    Dtype  \n",
      "---  ------          --------------    -----  \n",
      " 0   latitude        1466251 non-null  float64\n",
      " 1   longitude       1466251 non-null  float64\n",
      " 2   area_in_meters  1466251 non-null  float64\n",
      " 3   confidence      1466251 non-null  float64\n",
      " 4   full_plus_code  1466251 non-null  object \n",
      "dtypes: float64(4), object(1)\n",
      "memory usage: 67.1+ MB\n",
      "None\n"
     ]
    },
    {
     "name": "stderr",
     "output_type": "stream",
     "text": [
      "/tmp/ipykernel_5625/3870747852.py:106: SettingWithCopyWarning: \n",
      "A value is trying to be set on a copy of a slice from a DataFrame.\n",
      "Try using .loc[row_indexer,col_indexer] = value instead\n",
      "\n",
      "See the caveats in the documentation: https://pandas.pydata.org/pandas-docs/stable/user_guide/indexing.html#returning-a-view-versus-a-copy\n",
      "  bdb2['dem_name']=row['dem_name']\n"
     ]
    },
    {
     "name": "stdout",
     "output_type": "stream",
     "text": [
      "<class 'pandas.core.frame.DataFrame'>\n",
      "Int64Index: 29002 entries, 72 to 3507027\n",
      "Data columns (total 5 columns):\n",
      " #   Column          Non-Null Count  Dtype  \n",
      "---  ------          --------------  -----  \n",
      " 0   latitude        29002 non-null  float64\n",
      " 1   longitude       29002 non-null  float64\n",
      " 2   area_in_meters  29002 non-null  float64\n",
      " 3   confidence      29002 non-null  float64\n",
      " 4   full_plus_code  29002 non-null  object \n",
      "dtypes: float64(4), object(1)\n",
      "memory usage: 1.3+ MB\n",
      "None\n"
     ]
    },
    {
     "name": "stderr",
     "output_type": "stream",
     "text": [
      "/tmp/ipykernel_5625/3870747852.py:106: SettingWithCopyWarning: \n",
      "A value is trying to be set on a copy of a slice from a DataFrame.\n",
      "Try using .loc[row_indexer,col_indexer] = value instead\n",
      "\n",
      "See the caveats in the documentation: https://pandas.pydata.org/pandas-docs/stable/user_guide/indexing.html#returning-a-view-versus-a-copy\n",
      "  bdb2['dem_name']=row['dem_name']\n"
     ]
    },
    {
     "name": "stdout",
     "output_type": "stream",
     "text": [
      "<class 'pandas.core.frame.DataFrame'>\n",
      "Int64Index: 1987713 entries, 1 to 3507259\n",
      "Data columns (total 5 columns):\n",
      " #   Column          Dtype  \n",
      "---  ------          -----  \n",
      " 0   latitude        float64\n",
      " 1   longitude       float64\n",
      " 2   area_in_meters  float64\n",
      " 3   confidence      float64\n",
      " 4   full_plus_code  object \n",
      "dtypes: float64(4), object(1)\n",
      "memory usage: 91.0+ MB\n",
      "None\n"
     ]
    },
    {
     "name": "stderr",
     "output_type": "stream",
     "text": [
      "/tmp/ipykernel_5625/3870747852.py:106: SettingWithCopyWarning: \n",
      "A value is trying to be set on a copy of a slice from a DataFrame.\n",
      "Try using .loc[row_indexer,col_indexer] = value instead\n",
      "\n",
      "See the caveats in the documentation: https://pandas.pydata.org/pandas-docs/stable/user_guide/indexing.html#returning-a-view-versus-a-copy\n",
      "  bdb2['dem_name']=row['dem_name']\n"
     ]
    },
    {
     "name": "stdout",
     "output_type": "stream",
     "text": [
      "/home/data_folder/points_s2_level_4_gzip/169_buildings.csv.gz\n"
     ]
    },
    {
     "name": "stderr",
     "output_type": "stream",
     "text": [
      "/root/miniconda3/envs/climada_env/lib/python3.8/site-packages/dask/dataframe/io/csv.py:531: UserWarning: Warning gzip compression does not support breaking apart files\n",
      "Please ensure that each individual file can fit in memory and\n",
      "use the keyword ``blocksize=None to remove this message``\n",
      "Setting ``blocksize=None``\n",
      "  warn(\n"
     ]
    },
    {
     "name": "stdout",
     "output_type": "stream",
     "text": [
      "<class 'pandas.core.frame.DataFrame'>\n",
      "Int64Index: 27455 entries, 869 to 11817821\n",
      "Data columns (total 5 columns):\n",
      " #   Column          Non-Null Count  Dtype  \n",
      "---  ------          --------------  -----  \n",
      " 0   latitude        27455 non-null  float64\n",
      " 1   longitude       27455 non-null  float64\n",
      " 2   area_in_meters  27455 non-null  float64\n",
      " 3   confidence      27455 non-null  float64\n",
      " 4   full_plus_code  27455 non-null  object \n",
      "dtypes: float64(4), object(1)\n",
      "memory usage: 1.3+ MB\n",
      "None\n"
     ]
    },
    {
     "name": "stderr",
     "output_type": "stream",
     "text": [
      "/tmp/ipykernel_5625/3870747852.py:106: SettingWithCopyWarning: \n",
      "A value is trying to be set on a copy of a slice from a DataFrame.\n",
      "Try using .loc[row_indexer,col_indexer] = value instead\n",
      "\n",
      "See the caveats in the documentation: https://pandas.pydata.org/pandas-docs/stable/user_guide/indexing.html#returning-a-view-versus-a-copy\n",
      "  bdb2['dem_name']=row['dem_name']\n"
     ]
    },
    {
     "name": "stdout",
     "output_type": "stream",
     "text": [
      "<class 'pandas.core.frame.DataFrame'>\n",
      "Int64Index: 3251786 entries, 2 to 11817937\n",
      "Data columns (total 5 columns):\n",
      " #   Column          Dtype  \n",
      "---  ------          -----  \n",
      " 0   latitude        float64\n",
      " 1   longitude       float64\n",
      " 2   area_in_meters  float64\n",
      " 3   confidence      float64\n",
      " 4   full_plus_code  object \n",
      "dtypes: float64(4), object(1)\n",
      "memory usage: 148.9+ MB\n",
      "None\n"
     ]
    },
    {
     "name": "stderr",
     "output_type": "stream",
     "text": [
      "/tmp/ipykernel_5625/3870747852.py:106: SettingWithCopyWarning: \n",
      "A value is trying to be set on a copy of a slice from a DataFrame.\n",
      "Try using .loc[row_indexer,col_indexer] = value instead\n",
      "\n",
      "See the caveats in the documentation: https://pandas.pydata.org/pandas-docs/stable/user_guide/indexing.html#returning-a-view-versus-a-copy\n",
      "  bdb2['dem_name']=row['dem_name']\n"
     ]
    },
    {
     "name": "stdout",
     "output_type": "stream",
     "text": [
      "<class 'pandas.core.frame.DataFrame'>\n",
      "Int64Index: 13631 entries, 264 to 11817395\n",
      "Data columns (total 5 columns):\n",
      " #   Column          Non-Null Count  Dtype  \n",
      "---  ------          --------------  -----  \n",
      " 0   latitude        13631 non-null  float64\n",
      " 1   longitude       13631 non-null  float64\n",
      " 2   area_in_meters  13631 non-null  float64\n",
      " 3   confidence      13631 non-null  float64\n",
      " 4   full_plus_code  13631 non-null  object \n",
      "dtypes: float64(4), object(1)\n",
      "memory usage: 639.0+ KB\n",
      "None\n"
     ]
    },
    {
     "name": "stderr",
     "output_type": "stream",
     "text": [
      "/tmp/ipykernel_5625/3870747852.py:106: SettingWithCopyWarning: \n",
      "A value is trying to be set on a copy of a slice from a DataFrame.\n",
      "Try using .loc[row_indexer,col_indexer] = value instead\n",
      "\n",
      "See the caveats in the documentation: https://pandas.pydata.org/pandas-docs/stable/user_guide/indexing.html#returning-a-view-versus-a-copy\n",
      "  bdb2['dem_name']=row['dem_name']\n"
     ]
    },
    {
     "name": "stdout",
     "output_type": "stream",
     "text": [
      "<class 'pandas.core.frame.DataFrame'>\n",
      "Int64Index: 8525066 entries, 0 to 11817936\n",
      "Data columns (total 5 columns):\n",
      " #   Column          Dtype  \n",
      "---  ------          -----  \n",
      " 0   latitude        float64\n",
      " 1   longitude       float64\n",
      " 2   area_in_meters  float64\n",
      " 3   confidence      float64\n",
      " 4   full_plus_code  object \n",
      "dtypes: float64(4), object(1)\n",
      "memory usage: 390.2+ MB\n",
      "None\n"
     ]
    },
    {
     "name": "stderr",
     "output_type": "stream",
     "text": [
      "/tmp/ipykernel_5625/3870747852.py:106: SettingWithCopyWarning: \n",
      "A value is trying to be set on a copy of a slice from a DataFrame.\n",
      "Try using .loc[row_indexer,col_indexer] = value instead\n",
      "\n",
      "See the caveats in the documentation: https://pandas.pydata.org/pandas-docs/stable/user_guide/indexing.html#returning-a-view-versus-a-copy\n",
      "  bdb2['dem_name']=row['dem_name']\n"
     ]
    },
    {
     "name": "stdout",
     "output_type": "stream",
     "text": [
      "/home/data_folder/points_s2_level_4_gzip/16b_buildings.csv.gz\n",
      "<class 'pandas.core.frame.DataFrame'>\n",
      "Int64Index: 7889 entries, 0 to 11491\n",
      "Data columns (total 5 columns):\n",
      " #   Column          Non-Null Count  Dtype  \n",
      "---  ------          --------------  -----  \n",
      " 0   latitude        7889 non-null   float64\n",
      " 1   longitude       7889 non-null   float64\n",
      " 2   area_in_meters  7889 non-null   float64\n",
      " 3   confidence      7889 non-null   float64\n",
      " 4   full_plus_code  7889 non-null   object \n",
      "dtypes: float64(4), object(1)\n",
      "memory usage: 369.8+ KB\n",
      "None\n"
     ]
    },
    {
     "name": "stderr",
     "output_type": "stream",
     "text": [
      "/root/miniconda3/envs/climada_env/lib/python3.8/site-packages/dask/dataframe/io/csv.py:531: UserWarning: Warning gzip compression does not support breaking apart files\n",
      "Please ensure that each individual file can fit in memory and\n",
      "use the keyword ``blocksize=None to remove this message``\n",
      "Setting ``blocksize=None``\n",
      "  warn(\n",
      "/tmp/ipykernel_5625/3870747852.py:106: SettingWithCopyWarning: \n",
      "A value is trying to be set on a copy of a slice from a DataFrame.\n",
      "Try using .loc[row_indexer,col_indexer] = value instead\n",
      "\n",
      "See the caveats in the documentation: https://pandas.pydata.org/pandas-docs/stable/user_guide/indexing.html#returning-a-view-versus-a-copy\n",
      "  bdb2['dem_name']=row['dem_name']\n"
     ]
    },
    {
     "name": "stdout",
     "output_type": "stream",
     "text": [
      "<class 'pandas.core.frame.DataFrame'>\n",
      "Int64Index: 3480 entries, 1 to 11490\n",
      "Data columns (total 5 columns):\n",
      " #   Column          Non-Null Count  Dtype  \n",
      "---  ------          --------------  -----  \n",
      " 0   latitude        3480 non-null   float64\n",
      " 1   longitude       3480 non-null   float64\n",
      " 2   area_in_meters  3480 non-null   float64\n",
      " 3   confidence      3480 non-null   float64\n",
      " 4   full_plus_code  3480 non-null   object \n",
      "dtypes: float64(4), object(1)\n",
      "memory usage: 163.1+ KB\n",
      "None\n",
      "<class 'pandas.core.frame.DataFrame'>\n",
      "Int64Index: 123 entries, 149 to 11223\n",
      "Data columns (total 5 columns):\n",
      " #   Column          Non-Null Count  Dtype  \n",
      "---  ------          --------------  -----  \n",
      " 0   latitude        123 non-null    float64\n",
      " 1   longitude       123 non-null    float64\n",
      " 2   area_in_meters  123 non-null    float64\n",
      " 3   confidence      123 non-null    float64\n",
      " 4   full_plus_code  123 non-null    object \n",
      "dtypes: float64(4), object(1)\n",
      "memory usage: 5.8+ KB\n",
      "None\n",
      "/home/data_folder/points_s2_level_4_gzip/16d_buildings.csv.gz\n"
     ]
    },
    {
     "name": "stderr",
     "output_type": "stream",
     "text": [
      "/tmp/ipykernel_5625/3870747852.py:106: SettingWithCopyWarning: \n",
      "A value is trying to be set on a copy of a slice from a DataFrame.\n",
      "Try using .loc[row_indexer,col_indexer] = value instead\n",
      "\n",
      "See the caveats in the documentation: https://pandas.pydata.org/pandas-docs/stable/user_guide/indexing.html#returning-a-view-versus-a-copy\n",
      "  bdb2['dem_name']=row['dem_name']\n",
      "/tmp/ipykernel_5625/3870747852.py:106: SettingWithCopyWarning: \n",
      "A value is trying to be set on a copy of a slice from a DataFrame.\n",
      "Try using .loc[row_indexer,col_indexer] = value instead\n",
      "\n",
      "See the caveats in the documentation: https://pandas.pydata.org/pandas-docs/stable/user_guide/indexing.html#returning-a-view-versus-a-copy\n",
      "  bdb2['dem_name']=row['dem_name']\n",
      "/root/miniconda3/envs/climada_env/lib/python3.8/site-packages/dask/dataframe/io/csv.py:531: UserWarning: Warning gzip compression does not support breaking apart files\n",
      "Please ensure that each individual file can fit in memory and\n",
      "use the keyword ``blocksize=None to remove this message``\n",
      "Setting ``blocksize=None``\n",
      "  warn(\n"
     ]
    },
    {
     "name": "stdout",
     "output_type": "stream",
     "text": [
      "<class 'pandas.core.frame.DataFrame'>\n",
      "Int64Index: 562 entries, 27 to 1704934\n",
      "Data columns (total 5 columns):\n",
      " #   Column          Non-Null Count  Dtype  \n",
      "---  ------          --------------  -----  \n",
      " 0   latitude        562 non-null    float64\n",
      " 1   longitude       562 non-null    float64\n",
      " 2   area_in_meters  562 non-null    float64\n",
      " 3   confidence      562 non-null    float64\n",
      " 4   full_plus_code  562 non-null    object \n",
      "dtypes: float64(4), object(1)\n",
      "memory usage: 26.3+ KB\n",
      "None\n",
      "<class 'pandas.core.frame.DataFrame'>\n",
      "Int64Index: 39943 entries, 127 to 1708770\n",
      "Data columns (total 5 columns):\n",
      " #   Column          Non-Null Count  Dtype  \n",
      "---  ------          --------------  -----  \n",
      " 0   latitude        39943 non-null  float64\n",
      " 1   longitude       39943 non-null  float64\n",
      " 2   area_in_meters  39943 non-null  float64\n",
      " 3   confidence      39943 non-null  float64\n",
      " 4   full_plus_code  39943 non-null  object \n",
      "dtypes: float64(4), object(1)\n",
      "memory usage: 1.8+ MB\n",
      "None\n"
     ]
    },
    {
     "name": "stderr",
     "output_type": "stream",
     "text": [
      "/tmp/ipykernel_5625/3870747852.py:106: SettingWithCopyWarning: \n",
      "A value is trying to be set on a copy of a slice from a DataFrame.\n",
      "Try using .loc[row_indexer,col_indexer] = value instead\n",
      "\n",
      "See the caveats in the documentation: https://pandas.pydata.org/pandas-docs/stable/user_guide/indexing.html#returning-a-view-versus-a-copy\n",
      "  bdb2['dem_name']=row['dem_name']\n",
      "/tmp/ipykernel_5625/3870747852.py:106: SettingWithCopyWarning: \n",
      "A value is trying to be set on a copy of a slice from a DataFrame.\n",
      "Try using .loc[row_indexer,col_indexer] = value instead\n",
      "\n",
      "See the caveats in the documentation: https://pandas.pydata.org/pandas-docs/stable/user_guide/indexing.html#returning-a-view-versus-a-copy\n",
      "  bdb2['dem_name']=row['dem_name']\n"
     ]
    },
    {
     "name": "stdout",
     "output_type": "stream",
     "text": [
      "<class 'pandas.core.frame.DataFrame'>\n",
      "Int64Index: 15102 entries, 47 to 1708455\n",
      "Data columns (total 5 columns):\n",
      " #   Column          Non-Null Count  Dtype  \n",
      "---  ------          --------------  -----  \n",
      " 0   latitude        15102 non-null  float64\n",
      " 1   longitude       15102 non-null  float64\n",
      " 2   area_in_meters  15102 non-null  float64\n",
      " 3   confidence      15102 non-null  float64\n",
      " 4   full_plus_code  15102 non-null  object \n",
      "dtypes: float64(4), object(1)\n",
      "memory usage: 707.9+ KB\n",
      "None\n"
     ]
    },
    {
     "name": "stderr",
     "output_type": "stream",
     "text": [
      "/tmp/ipykernel_5625/3870747852.py:106: SettingWithCopyWarning: \n",
      "A value is trying to be set on a copy of a slice from a DataFrame.\n",
      "Try using .loc[row_indexer,col_indexer] = value instead\n",
      "\n",
      "See the caveats in the documentation: https://pandas.pydata.org/pandas-docs/stable/user_guide/indexing.html#returning-a-view-versus-a-copy\n",
      "  bdb2['dem_name']=row['dem_name']\n"
     ]
    },
    {
     "name": "stdout",
     "output_type": "stream",
     "text": [
      "<class 'pandas.core.frame.DataFrame'>\n",
      "Int64Index: 1653170 entries, 0 to 1708776\n",
      "Data columns (total 5 columns):\n",
      " #   Column          Non-Null Count    Dtype  \n",
      "---  ------          --------------    -----  \n",
      " 0   latitude        1653170 non-null  float64\n",
      " 1   longitude       1653170 non-null  float64\n",
      " 2   area_in_meters  1653170 non-null  float64\n",
      " 3   confidence      1653170 non-null  float64\n",
      " 4   full_plus_code  1653170 non-null  object \n",
      "dtypes: float64(4), object(1)\n",
      "memory usage: 75.7+ MB\n",
      "None\n"
     ]
    },
    {
     "name": "stderr",
     "output_type": "stream",
     "text": [
      "/tmp/ipykernel_5625/3870747852.py:106: SettingWithCopyWarning: \n",
      "A value is trying to be set on a copy of a slice from a DataFrame.\n",
      "Try using .loc[row_indexer,col_indexer] = value instead\n",
      "\n",
      "See the caveats in the documentation: https://pandas.pydata.org/pandas-docs/stable/user_guide/indexing.html#returning-a-view-versus-a-copy\n",
      "  bdb2['dem_name']=row['dem_name']\n"
     ]
    },
    {
     "name": "stdout",
     "output_type": "stream",
     "text": [
      "/home/data_folder/points_s2_level_4_gzip/16f_buildings.csv.gz\n"
     ]
    },
    {
     "name": "stderr",
     "output_type": "stream",
     "text": [
      "/root/miniconda3/envs/climada_env/lib/python3.8/site-packages/dask/dataframe/io/csv.py:531: UserWarning: Warning gzip compression does not support breaking apart files\n",
      "Please ensure that each individual file can fit in memory and\n",
      "use the keyword ``blocksize=None to remove this message``\n",
      "Setting ``blocksize=None``\n",
      "  warn(\n"
     ]
    },
    {
     "name": "stdout",
     "output_type": "stream",
     "text": [
      "<class 'pandas.core.frame.DataFrame'>\n",
      "Int64Index: 6648 entries, 178 to 6261894\n",
      "Data columns (total 5 columns):\n",
      " #   Column          Non-Null Count  Dtype  \n",
      "---  ------          --------------  -----  \n",
      " 0   latitude        6648 non-null   float64\n",
      " 1   longitude       6648 non-null   float64\n",
      " 2   area_in_meters  6648 non-null   float64\n",
      " 3   confidence      6648 non-null   float64\n",
      " 4   full_plus_code  6648 non-null   object \n",
      "dtypes: float64(4), object(1)\n",
      "memory usage: 311.6+ KB\n",
      "None\n"
     ]
    },
    {
     "name": "stderr",
     "output_type": "stream",
     "text": [
      "/tmp/ipykernel_5625/3870747852.py:106: SettingWithCopyWarning: \n",
      "A value is trying to be set on a copy of a slice from a DataFrame.\n",
      "Try using .loc[row_indexer,col_indexer] = value instead\n",
      "\n",
      "See the caveats in the documentation: https://pandas.pydata.org/pandas-docs/stable/user_guide/indexing.html#returning-a-view-versus-a-copy\n",
      "  bdb2['dem_name']=row['dem_name']\n"
     ]
    },
    {
     "name": "stdout",
     "output_type": "stream",
     "text": [
      "<class 'pandas.core.frame.DataFrame'>\n",
      "Int64Index: 45279 entries, 46 to 6263039\n",
      "Data columns (total 5 columns):\n",
      " #   Column          Non-Null Count  Dtype  \n",
      "---  ------          --------------  -----  \n",
      " 0   latitude        45279 non-null  float64\n",
      " 1   longitude       45279 non-null  float64\n",
      " 2   area_in_meters  45279 non-null  float64\n",
      " 3   confidence      45279 non-null  float64\n",
      " 4   full_plus_code  45279 non-null  object \n",
      "dtypes: float64(4), object(1)\n",
      "memory usage: 2.1+ MB\n",
      "None\n"
     ]
    },
    {
     "name": "stderr",
     "output_type": "stream",
     "text": [
      "/tmp/ipykernel_5625/3870747852.py:106: SettingWithCopyWarning: \n",
      "A value is trying to be set on a copy of a slice from a DataFrame.\n",
      "Try using .loc[row_indexer,col_indexer] = value instead\n",
      "\n",
      "See the caveats in the documentation: https://pandas.pydata.org/pandas-docs/stable/user_guide/indexing.html#returning-a-view-versus-a-copy\n",
      "  bdb2['dem_name']=row['dem_name']\n"
     ]
    },
    {
     "name": "stdout",
     "output_type": "stream",
     "text": [
      "<class 'pandas.core.frame.DataFrame'>\n",
      "Int64Index: 962596 entries, 2 to 6263082\n",
      "Data columns (total 5 columns):\n",
      " #   Column          Non-Null Count   Dtype  \n",
      "---  ------          --------------   -----  \n",
      " 0   latitude        962596 non-null  float64\n",
      " 1   longitude       962596 non-null  float64\n",
      " 2   area_in_meters  962596 non-null  float64\n",
      " 3   confidence      962596 non-null  float64\n",
      " 4   full_plus_code  962596 non-null  object \n",
      "dtypes: float64(4), object(1)\n",
      "memory usage: 44.1+ MB\n",
      "None\n"
     ]
    },
    {
     "name": "stderr",
     "output_type": "stream",
     "text": [
      "/tmp/ipykernel_5625/3870747852.py:106: SettingWithCopyWarning: \n",
      "A value is trying to be set on a copy of a slice from a DataFrame.\n",
      "Try using .loc[row_indexer,col_indexer] = value instead\n",
      "\n",
      "See the caveats in the documentation: https://pandas.pydata.org/pandas-docs/stable/user_guide/indexing.html#returning-a-view-versus-a-copy\n",
      "  bdb2['dem_name']=row['dem_name']\n"
     ]
    },
    {
     "name": "stdout",
     "output_type": "stream",
     "text": [
      "<class 'pandas.core.frame.DataFrame'>\n",
      "Int64Index: 5248560 entries, 0 to 6263081\n",
      "Data columns (total 5 columns):\n",
      " #   Column          Dtype  \n",
      "---  ------          -----  \n",
      " 0   latitude        float64\n",
      " 1   longitude       float64\n",
      " 2   area_in_meters  float64\n",
      " 3   confidence      float64\n",
      " 4   full_plus_code  object \n",
      "dtypes: float64(4), object(1)\n",
      "memory usage: 240.3+ MB\n",
      "None\n"
     ]
    },
    {
     "name": "stderr",
     "output_type": "stream",
     "text": [
      "/tmp/ipykernel_5625/3870747852.py:106: SettingWithCopyWarning: \n",
      "A value is trying to be set on a copy of a slice from a DataFrame.\n",
      "Try using .loc[row_indexer,col_indexer] = value instead\n",
      "\n",
      "See the caveats in the documentation: https://pandas.pydata.org/pandas-docs/stable/user_guide/indexing.html#returning-a-view-versus-a-copy\n",
      "  bdb2['dem_name']=row['dem_name']\n"
     ]
    },
    {
     "name": "stdout",
     "output_type": "stream",
     "text": [
      "/home/data_folder/points_s2_level_4_gzip/171_buildings.csv.gz\n"
     ]
    },
    {
     "name": "stderr",
     "output_type": "stream",
     "text": [
      "/root/miniconda3/envs/climada_env/lib/python3.8/site-packages/dask/dataframe/io/csv.py:531: UserWarning: Warning gzip compression does not support breaking apart files\n",
      "Please ensure that each individual file can fit in memory and\n",
      "use the keyword ``blocksize=None to remove this message``\n",
      "Setting ``blocksize=None``\n",
      "  warn(\n"
     ]
    },
    {
     "name": "stdout",
     "output_type": "stream",
     "text": [
      "<class 'pandas.core.frame.DataFrame'>\n",
      "Int64Index: 53 entries, 428 to 84287\n",
      "Data columns (total 5 columns):\n",
      " #   Column          Non-Null Count  Dtype  \n",
      "---  ------          --------------  -----  \n",
      " 0   latitude        53 non-null     float64\n",
      " 1   longitude       53 non-null     float64\n",
      " 2   area_in_meters  53 non-null     float64\n",
      " 3   confidence      53 non-null     float64\n",
      " 4   full_plus_code  53 non-null     object \n",
      "dtypes: float64(4), object(1)\n",
      "memory usage: 2.5+ KB\n",
      "None\n",
      "<class 'pandas.core.frame.DataFrame'>\n",
      "Int64Index: 6219 entries, 4 to 84896\n",
      "Data columns (total 5 columns):\n",
      " #   Column          Non-Null Count  Dtype  \n",
      "---  ------          --------------  -----  \n",
      " 0   latitude        6219 non-null   float64\n",
      " 1   longitude       6219 non-null   float64\n",
      " 2   area_in_meters  6219 non-null   float64\n",
      " 3   confidence      6219 non-null   float64\n",
      " 4   full_plus_code  6219 non-null   object \n",
      "dtypes: float64(4), object(1)\n",
      "memory usage: 291.5+ KB\n",
      "None\n",
      "<class 'pandas.core.frame.DataFrame'>\n",
      "Int64Index: 78639 entries, 0 to 84910\n",
      "Data columns (total 5 columns):\n",
      " #   Column          Non-Null Count  Dtype  \n",
      "---  ------          --------------  -----  \n",
      " 0   latitude        78639 non-null  float64\n",
      " 1   longitude       78639 non-null  float64\n",
      " 2   area_in_meters  78639 non-null  float64\n",
      " 3   confidence      78639 non-null  float64\n",
      " 4   full_plus_code  78639 non-null  object \n",
      "dtypes: float64(4), object(1)\n",
      "memory usage: 3.6+ MB\n",
      "None\n"
     ]
    },
    {
     "name": "stderr",
     "output_type": "stream",
     "text": [
      "/tmp/ipykernel_5625/3870747852.py:106: SettingWithCopyWarning: \n",
      "A value is trying to be set on a copy of a slice from a DataFrame.\n",
      "Try using .loc[row_indexer,col_indexer] = value instead\n",
      "\n",
      "See the caveats in the documentation: https://pandas.pydata.org/pandas-docs/stable/user_guide/indexing.html#returning-a-view-versus-a-copy\n",
      "  bdb2['dem_name']=row['dem_name']\n",
      "/tmp/ipykernel_5625/3870747852.py:106: SettingWithCopyWarning: \n",
      "A value is trying to be set on a copy of a slice from a DataFrame.\n",
      "Try using .loc[row_indexer,col_indexer] = value instead\n",
      "\n",
      "See the caveats in the documentation: https://pandas.pydata.org/pandas-docs/stable/user_guide/indexing.html#returning-a-view-versus-a-copy\n",
      "  bdb2['dem_name']=row['dem_name']\n"
     ]
    },
    {
     "name": "stdout",
     "output_type": "stream",
     "text": [
      "/home/data_folder/points_s2_level_4_gzip/173_buildings.csv.gz\n"
     ]
    },
    {
     "name": "stderr",
     "output_type": "stream",
     "text": [
      "/root/miniconda3/envs/climada_env/lib/python3.8/site-packages/dask/dataframe/io/csv.py:531: UserWarning: Warning gzip compression does not support breaking apart files\n",
      "Please ensure that each individual file can fit in memory and\n",
      "use the keyword ``blocksize=None to remove this message``\n",
      "Setting ``blocksize=None``\n",
      "  warn(\n"
     ]
    },
    {
     "name": "stdout",
     "output_type": "stream",
     "text": [
      "<class 'pandas.core.frame.DataFrame'>\n",
      "Int64Index: 18908 entries, 16 to 122316\n",
      "Data columns (total 5 columns):\n",
      " #   Column          Non-Null Count  Dtype  \n",
      "---  ------          --------------  -----  \n",
      " 0   latitude        18908 non-null  float64\n",
      " 1   longitude       18908 non-null  float64\n",
      " 2   area_in_meters  18908 non-null  float64\n",
      " 3   confidence      18908 non-null  float64\n",
      " 4   full_plus_code  18908 non-null  object \n",
      "dtypes: float64(4), object(1)\n",
      "memory usage: 886.3+ KB\n",
      "None\n"
     ]
    },
    {
     "name": "stderr",
     "output_type": "stream",
     "text": [
      "/tmp/ipykernel_5625/3870747852.py:106: SettingWithCopyWarning: \n",
      "A value is trying to be set on a copy of a slice from a DataFrame.\n",
      "Try using .loc[row_indexer,col_indexer] = value instead\n",
      "\n",
      "See the caveats in the documentation: https://pandas.pydata.org/pandas-docs/stable/user_guide/indexing.html#returning-a-view-versus-a-copy\n",
      "  bdb2['dem_name']=row['dem_name']\n"
     ]
    },
    {
     "name": "stdout",
     "output_type": "stream",
     "text": [
      "<class 'pandas.core.frame.DataFrame'>\n",
      "Int64Index: 29138 entries, 7 to 122333\n",
      "Data columns (total 5 columns):\n",
      " #   Column          Non-Null Count  Dtype  \n",
      "---  ------          --------------  -----  \n",
      " 0   latitude        29138 non-null  float64\n",
      " 1   longitude       29138 non-null  float64\n",
      " 2   area_in_meters  29138 non-null  float64\n",
      " 3   confidence      29138 non-null  float64\n",
      " 4   full_plus_code  29138 non-null  object \n",
      "dtypes: float64(4), object(1)\n",
      "memory usage: 1.3+ MB\n",
      "None\n"
     ]
    },
    {
     "name": "stderr",
     "output_type": "stream",
     "text": [
      "/tmp/ipykernel_5625/3870747852.py:106: SettingWithCopyWarning: \n",
      "A value is trying to be set on a copy of a slice from a DataFrame.\n",
      "Try using .loc[row_indexer,col_indexer] = value instead\n",
      "\n",
      "See the caveats in the documentation: https://pandas.pydata.org/pandas-docs/stable/user_guide/indexing.html#returning-a-view-versus-a-copy\n",
      "  bdb2['dem_name']=row['dem_name']\n"
     ]
    },
    {
     "name": "stdout",
     "output_type": "stream",
     "text": [
      "<class 'pandas.core.frame.DataFrame'>\n",
      "Int64Index: 26899 entries, 0 to 122332\n",
      "Data columns (total 5 columns):\n",
      " #   Column          Non-Null Count  Dtype  \n",
      "---  ------          --------------  -----  \n",
      " 0   latitude        26899 non-null  float64\n",
      " 1   longitude       26899 non-null  float64\n",
      " 2   area_in_meters  26899 non-null  float64\n",
      " 3   confidence      26899 non-null  float64\n",
      " 4   full_plus_code  26899 non-null  object \n",
      "dtypes: float64(4), object(1)\n",
      "memory usage: 1.2+ MB\n",
      "None\n"
     ]
    },
    {
     "name": "stderr",
     "output_type": "stream",
     "text": [
      "/tmp/ipykernel_5625/3870747852.py:106: SettingWithCopyWarning: \n",
      "A value is trying to be set on a copy of a slice from a DataFrame.\n",
      "Try using .loc[row_indexer,col_indexer] = value instead\n",
      "\n",
      "See the caveats in the documentation: https://pandas.pydata.org/pandas-docs/stable/user_guide/indexing.html#returning-a-view-versus-a-copy\n",
      "  bdb2['dem_name']=row['dem_name']\n"
     ]
    },
    {
     "name": "stdout",
     "output_type": "stream",
     "text": [
      "/home/data_folder/points_s2_level_4_gzip/175_buildings.csv.gz\n"
     ]
    },
    {
     "name": "stderr",
     "output_type": "stream",
     "text": [
      "/root/miniconda3/envs/climada_env/lib/python3.8/site-packages/dask/dataframe/io/csv.py:531: UserWarning: Warning gzip compression does not support breaking apart files\n",
      "Please ensure that each individual file can fit in memory and\n",
      "use the keyword ``blocksize=None to remove this message``\n",
      "Setting ``blocksize=None``\n",
      "  warn(\n"
     ]
    },
    {
     "name": "stdout",
     "output_type": "stream",
     "text": [
      "<class 'pandas.core.frame.DataFrame'>\n",
      "Int64Index: 1098499 entries, 0 to 1592842\n",
      "Data columns (total 5 columns):\n",
      " #   Column          Non-Null Count    Dtype  \n",
      "---  ------          --------------    -----  \n",
      " 0   latitude        1098499 non-null  float64\n",
      " 1   longitude       1098499 non-null  float64\n",
      " 2   area_in_meters  1098499 non-null  float64\n",
      " 3   confidence      1098499 non-null  float64\n",
      " 4   full_plus_code  1098499 non-null  object \n",
      "dtypes: float64(4), object(1)\n",
      "memory usage: 50.3+ MB\n",
      "None\n",
      "/home/data_folder/points_s2_level_4_gzip/177_buildings.csv.gz\n"
     ]
    },
    {
     "name": "stderr",
     "output_type": "stream",
     "text": [
      "/root/miniconda3/envs/climada_env/lib/python3.8/site-packages/dask/dataframe/io/csv.py:531: UserWarning: Warning gzip compression does not support breaking apart files\n",
      "Please ensure that each individual file can fit in memory and\n",
      "use the keyword ``blocksize=None to remove this message``\n",
      "Setting ``blocksize=None``\n",
      "  warn(\n"
     ]
    },
    {
     "name": "stdout",
     "output_type": "stream",
     "text": [
      "<class 'pandas.core.frame.DataFrame'>\n",
      "Int64Index: 709663 entries, 5 to 18873785\n",
      "Data columns (total 5 columns):\n",
      " #   Column          Non-Null Count   Dtype  \n",
      "---  ------          --------------   -----  \n",
      " 0   latitude        709663 non-null  float64\n",
      " 1   longitude       709663 non-null  float64\n",
      " 2   area_in_meters  709663 non-null  float64\n",
      " 3   confidence      709663 non-null  float64\n",
      " 4   full_plus_code  709663 non-null  object \n",
      "dtypes: float64(4), object(1)\n",
      "memory usage: 32.5+ MB\n",
      "None\n",
      "<class 'pandas.core.frame.DataFrame'>\n",
      "Int64Index: 18164146 entries, 0 to 18873808\n",
      "Data columns (total 5 columns):\n",
      " #   Column          Dtype  \n",
      "---  ------          -----  \n",
      " 0   latitude        float64\n",
      " 1   longitude       float64\n",
      " 2   area_in_meters  float64\n",
      " 3   confidence      float64\n",
      " 4   full_plus_code  object \n",
      "dtypes: float64(4), object(1)\n",
      "memory usage: 831.5+ MB\n",
      "None\n",
      "/home/data_folder/points_s2_level_4_gzip/179_buildings.csv.gz\n"
     ]
    },
    {
     "name": "stderr",
     "output_type": "stream",
     "text": [
      "/root/miniconda3/envs/climada_env/lib/python3.8/site-packages/dask/dataframe/io/csv.py:531: UserWarning: Warning gzip compression does not support breaking apart files\n",
      "Please ensure that each individual file can fit in memory and\n",
      "use the keyword ``blocksize=None to remove this message``\n",
      "Setting ``blocksize=None``\n",
      "  warn(\n"
     ]
    },
    {
     "name": "stdout",
     "output_type": "stream",
     "text": [
      "<class 'pandas.core.frame.DataFrame'>\n",
      "Int64Index: 2664207 entries, 0 to 6761452\n",
      "Data columns (total 5 columns):\n",
      " #   Column          Dtype  \n",
      "---  ------          -----  \n",
      " 0   latitude        float64\n",
      " 1   longitude       float64\n",
      " 2   area_in_meters  float64\n",
      " 3   confidence      float64\n",
      " 4   full_plus_code  object \n",
      "dtypes: float64(4), object(1)\n",
      "memory usage: 122.0+ MB\n",
      "None\n",
      "<class 'pandas.core.frame.DataFrame'>\n",
      "Int64Index: 4097246 entries, 1 to 6761450\n",
      "Data columns (total 5 columns):\n",
      " #   Column          Dtype  \n",
      "---  ------          -----  \n",
      " 0   latitude        float64\n",
      " 1   longitude       float64\n",
      " 2   area_in_meters  float64\n",
      " 3   confidence      float64\n",
      " 4   full_plus_code  object \n",
      "dtypes: float64(4), object(1)\n",
      "memory usage: 187.6+ MB\n",
      "None\n",
      "/home/data_folder/points_s2_level_4_gzip/17b_buildings.csv.gz\n"
     ]
    },
    {
     "name": "stderr",
     "output_type": "stream",
     "text": [
      "/root/miniconda3/envs/climada_env/lib/python3.8/site-packages/dask/dataframe/io/csv.py:531: UserWarning: Warning gzip compression does not support breaking apart files\n",
      "Please ensure that each individual file can fit in memory and\n",
      "use the keyword ``blocksize=None to remove this message``\n",
      "Setting ``blocksize=None``\n",
      "  warn(\n"
     ]
    },
    {
     "name": "stdout",
     "output_type": "stream",
     "text": [
      "<class 'pandas.core.frame.DataFrame'>\n",
      "Int64Index: 1481 entries, 8906 to 12545395\n",
      "Data columns (total 5 columns):\n",
      " #   Column          Non-Null Count  Dtype  \n",
      "---  ------          --------------  -----  \n",
      " 0   latitude        1481 non-null   float64\n",
      " 1   longitude       1481 non-null   float64\n",
      " 2   area_in_meters  1481 non-null   float64\n",
      " 3   confidence      1481 non-null   float64\n",
      " 4   full_plus_code  1481 non-null   object \n",
      "dtypes: float64(4), object(1)\n",
      "memory usage: 69.4+ KB\n",
      "None\n"
     ]
    },
    {
     "name": "stderr",
     "output_type": "stream",
     "text": [
      "/tmp/ipykernel_5625/3870747852.py:106: SettingWithCopyWarning: \n",
      "A value is trying to be set on a copy of a slice from a DataFrame.\n",
      "Try using .loc[row_indexer,col_indexer] = value instead\n",
      "\n",
      "See the caveats in the documentation: https://pandas.pydata.org/pandas-docs/stable/user_guide/indexing.html#returning-a-view-versus-a-copy\n",
      "  bdb2['dem_name']=row['dem_name']\n"
     ]
    },
    {
     "name": "stdout",
     "output_type": "stream",
     "text": [
      "<class 'pandas.core.frame.DataFrame'>\n",
      "Int64Index: 181871 entries, 95 to 12548310\n",
      "Data columns (total 5 columns):\n",
      " #   Column          Non-Null Count   Dtype  \n",
      "---  ------          --------------   -----  \n",
      " 0   latitude        181871 non-null  float64\n",
      " 1   longitude       181871 non-null  float64\n",
      " 2   area_in_meters  181871 non-null  float64\n",
      " 3   confidence      181871 non-null  float64\n",
      " 4   full_plus_code  181871 non-null  object \n",
      "dtypes: float64(4), object(1)\n",
      "memory usage: 8.3+ MB\n",
      "None\n"
     ]
    },
    {
     "name": "stderr",
     "output_type": "stream",
     "text": [
      "/tmp/ipykernel_5625/3870747852.py:106: SettingWithCopyWarning: \n",
      "A value is trying to be set on a copy of a slice from a DataFrame.\n",
      "Try using .loc[row_indexer,col_indexer] = value instead\n",
      "\n",
      "See the caveats in the documentation: https://pandas.pydata.org/pandas-docs/stable/user_guide/indexing.html#returning-a-view-versus-a-copy\n",
      "  bdb2['dem_name']=row['dem_name']\n"
     ]
    },
    {
     "name": "stdout",
     "output_type": "stream",
     "text": [
      "<class 'pandas.core.frame.DataFrame'>\n",
      "Int64Index: 173227 entries, 2 to 12548274\n",
      "Data columns (total 5 columns):\n",
      " #   Column          Non-Null Count   Dtype  \n",
      "---  ------          --------------   -----  \n",
      " 0   latitude        173227 non-null  float64\n",
      " 1   longitude       173227 non-null  float64\n",
      " 2   area_in_meters  173227 non-null  float64\n",
      " 3   confidence      173227 non-null  float64\n",
      " 4   full_plus_code  173227 non-null  object \n",
      "dtypes: float64(4), object(1)\n",
      "memory usage: 7.9+ MB\n",
      "None\n"
     ]
    },
    {
     "name": "stderr",
     "output_type": "stream",
     "text": [
      "/tmp/ipykernel_5625/3870747852.py:106: SettingWithCopyWarning: \n",
      "A value is trying to be set on a copy of a slice from a DataFrame.\n",
      "Try using .loc[row_indexer,col_indexer] = value instead\n",
      "\n",
      "See the caveats in the documentation: https://pandas.pydata.org/pandas-docs/stable/user_guide/indexing.html#returning-a-view-versus-a-copy\n",
      "  bdb2['dem_name']=row['dem_name']\n"
     ]
    },
    {
     "name": "stdout",
     "output_type": "stream",
     "text": [
      "<class 'pandas.core.frame.DataFrame'>\n",
      "Int64Index: 12191775 entries, 0 to 12548353\n",
      "Data columns (total 5 columns):\n",
      " #   Column          Dtype  \n",
      "---  ------          -----  \n",
      " 0   latitude        float64\n",
      " 1   longitude       float64\n",
      " 2   area_in_meters  float64\n",
      " 3   confidence      float64\n",
      " 4   full_plus_code  object \n",
      "dtypes: float64(4), object(1)\n",
      "memory usage: 558.1+ MB\n",
      "None\n"
     ]
    },
    {
     "name": "stderr",
     "output_type": "stream",
     "text": [
      "/tmp/ipykernel_5625/3870747852.py:106: SettingWithCopyWarning: \n",
      "A value is trying to be set on a copy of a slice from a DataFrame.\n",
      "Try using .loc[row_indexer,col_indexer] = value instead\n",
      "\n",
      "See the caveats in the documentation: https://pandas.pydata.org/pandas-docs/stable/user_guide/indexing.html#returning-a-view-versus-a-copy\n",
      "  bdb2['dem_name']=row['dem_name']\n"
     ]
    },
    {
     "name": "stdout",
     "output_type": "stream",
     "text": [
      "/home/data_folder/points_s2_level_4_gzip/17d_buildings.csv.gz\n"
     ]
    },
    {
     "name": "stderr",
     "output_type": "stream",
     "text": [
      "/root/miniconda3/envs/climada_env/lib/python3.8/site-packages/dask/dataframe/io/csv.py:531: UserWarning: Warning gzip compression does not support breaking apart files\n",
      "Please ensure that each individual file can fit in memory and\n",
      "use the keyword ``blocksize=None to remove this message``\n",
      "Setting ``blocksize=None``\n",
      "  warn(\n"
     ]
    },
    {
     "name": "stdout",
     "output_type": "stream",
     "text": [
      "<class 'pandas.core.frame.DataFrame'>\n",
      "Int64Index: 895 entries, 2140 to 1223716\n",
      "Data columns (total 5 columns):\n",
      " #   Column          Non-Null Count  Dtype  \n",
      "---  ------          --------------  -----  \n",
      " 0   latitude        895 non-null    float64\n",
      " 1   longitude       895 non-null    float64\n",
      " 2   area_in_meters  895 non-null    float64\n",
      " 3   confidence      895 non-null    float64\n",
      " 4   full_plus_code  895 non-null    object \n",
      "dtypes: float64(4), object(1)\n",
      "memory usage: 42.0+ KB\n",
      "None\n",
      "<class 'pandas.core.frame.DataFrame'>\n",
      "Int64Index: 279365 entries, 1 to 1224768\n",
      "Data columns (total 5 columns):\n",
      " #   Column          Non-Null Count   Dtype  \n",
      "---  ------          --------------   -----  \n",
      " 0   latitude        279365 non-null  float64\n",
      " 1   longitude       279365 non-null  float64\n",
      " 2   area_in_meters  279365 non-null  float64\n",
      " 3   confidence      279365 non-null  float64\n",
      " 4   full_plus_code  279365 non-null  object \n",
      "dtypes: float64(4), object(1)\n",
      "memory usage: 12.8+ MB\n",
      "None\n"
     ]
    },
    {
     "name": "stderr",
     "output_type": "stream",
     "text": [
      "/tmp/ipykernel_5625/3870747852.py:106: SettingWithCopyWarning: \n",
      "A value is trying to be set on a copy of a slice from a DataFrame.\n",
      "Try using .loc[row_indexer,col_indexer] = value instead\n",
      "\n",
      "See the caveats in the documentation: https://pandas.pydata.org/pandas-docs/stable/user_guide/indexing.html#returning-a-view-versus-a-copy\n",
      "  bdb2['dem_name']=row['dem_name']\n",
      "/tmp/ipykernel_5625/3870747852.py:106: SettingWithCopyWarning: \n",
      "A value is trying to be set on a copy of a slice from a DataFrame.\n",
      "Try using .loc[row_indexer,col_indexer] = value instead\n",
      "\n",
      "See the caveats in the documentation: https://pandas.pydata.org/pandas-docs/stable/user_guide/indexing.html#returning-a-view-versus-a-copy\n",
      "  bdb2['dem_name']=row['dem_name']\n"
     ]
    },
    {
     "name": "stdout",
     "output_type": "stream",
     "text": [
      "<class 'pandas.core.frame.DataFrame'>\n",
      "Int64Index: 15 entries, 2824 to 1188920\n",
      "Data columns (total 5 columns):\n",
      " #   Column          Non-Null Count  Dtype  \n",
      "---  ------          --------------  -----  \n",
      " 0   latitude        15 non-null     float64\n",
      " 1   longitude       15 non-null     float64\n",
      " 2   area_in_meters  15 non-null     float64\n",
      " 3   confidence      15 non-null     float64\n",
      " 4   full_plus_code  15 non-null     object \n",
      "dtypes: float64(4), object(1)\n",
      "memory usage: 720.0+ bytes\n",
      "None\n",
      "<class 'pandas.core.frame.DataFrame'>\n",
      "Int64Index: 45937 entries, 37 to 1224745\n",
      "Data columns (total 5 columns):\n",
      " #   Column          Non-Null Count  Dtype  \n",
      "---  ------          --------------  -----  \n",
      " 0   latitude        45937 non-null  float64\n",
      " 1   longitude       45937 non-null  float64\n",
      " 2   area_in_meters  45937 non-null  float64\n",
      " 3   confidence      45937 non-null  float64\n",
      " 4   full_plus_code  45937 non-null  object \n",
      "dtypes: float64(4), object(1)\n",
      "memory usage: 2.1+ MB\n",
      "None\n"
     ]
    },
    {
     "name": "stderr",
     "output_type": "stream",
     "text": [
      "/tmp/ipykernel_5625/3870747852.py:106: SettingWithCopyWarning: \n",
      "A value is trying to be set on a copy of a slice from a DataFrame.\n",
      "Try using .loc[row_indexer,col_indexer] = value instead\n",
      "\n",
      "See the caveats in the documentation: https://pandas.pydata.org/pandas-docs/stable/user_guide/indexing.html#returning-a-view-versus-a-copy\n",
      "  bdb2['dem_name']=row['dem_name']\n",
      "/tmp/ipykernel_5625/3870747852.py:106: SettingWithCopyWarning: \n",
      "A value is trying to be set on a copy of a slice from a DataFrame.\n",
      "Try using .loc[row_indexer,col_indexer] = value instead\n",
      "\n",
      "See the caveats in the documentation: https://pandas.pydata.org/pandas-docs/stable/user_guide/indexing.html#returning-a-view-versus-a-copy\n",
      "  bdb2['dem_name']=row['dem_name']\n"
     ]
    },
    {
     "name": "stdout",
     "output_type": "stream",
     "text": [
      "<class 'pandas.core.frame.DataFrame'>\n",
      "Int64Index: 898550 entries, 0 to 1224769\n",
      "Data columns (total 5 columns):\n",
      " #   Column          Non-Null Count   Dtype  \n",
      "---  ------          --------------   -----  \n",
      " 0   latitude        898550 non-null  float64\n",
      " 1   longitude       898550 non-null  float64\n",
      " 2   area_in_meters  898550 non-null  float64\n",
      " 3   confidence      898550 non-null  float64\n",
      " 4   full_plus_code  898550 non-null  object \n",
      "dtypes: float64(4), object(1)\n",
      "memory usage: 41.1+ MB\n",
      "None\n"
     ]
    },
    {
     "name": "stderr",
     "output_type": "stream",
     "text": [
      "/tmp/ipykernel_5625/3870747852.py:106: SettingWithCopyWarning: \n",
      "A value is trying to be set on a copy of a slice from a DataFrame.\n",
      "Try using .loc[row_indexer,col_indexer] = value instead\n",
      "\n",
      "See the caveats in the documentation: https://pandas.pydata.org/pandas-docs/stable/user_guide/indexing.html#returning-a-view-versus-a-copy\n",
      "  bdb2['dem_name']=row['dem_name']\n"
     ]
    },
    {
     "name": "stdout",
     "output_type": "stream",
     "text": [
      "<class 'pandas.core.frame.DataFrame'>\n",
      "Int64Index: 8 entries, 36799 to 1056150\n",
      "Data columns (total 5 columns):\n",
      " #   Column          Non-Null Count  Dtype  \n",
      "---  ------          --------------  -----  \n",
      " 0   latitude        8 non-null      float64\n",
      " 1   longitude       8 non-null      float64\n",
      " 2   area_in_meters  8 non-null      float64\n",
      " 3   confidence      8 non-null      float64\n",
      " 4   full_plus_code  8 non-null      object \n",
      "dtypes: float64(4), object(1)\n",
      "memory usage: 384.0+ bytes\n",
      "None\n"
     ]
    },
    {
     "name": "stderr",
     "output_type": "stream",
     "text": [
      "/tmp/ipykernel_5625/3870747852.py:106: SettingWithCopyWarning: \n",
      "A value is trying to be set on a copy of a slice from a DataFrame.\n",
      "Try using .loc[row_indexer,col_indexer] = value instead\n",
      "\n",
      "See the caveats in the documentation: https://pandas.pydata.org/pandas-docs/stable/user_guide/indexing.html#returning-a-view-versus-a-copy\n",
      "  bdb2['dem_name']=row['dem_name']\n"
     ]
    },
    {
     "name": "stdout",
     "output_type": "stream",
     "text": [
      "/home/data_folder/points_s2_level_4_gzip/17f_buildings.csv.gz\n"
     ]
    },
    {
     "name": "stderr",
     "output_type": "stream",
     "text": [
      "/root/miniconda3/envs/climada_env/lib/python3.8/site-packages/dask/dataframe/io/csv.py:531: UserWarning: Warning gzip compression does not support breaking apart files\n",
      "Please ensure that each individual file can fit in memory and\n",
      "use the keyword ``blocksize=None to remove this message``\n",
      "Setting ``blocksize=None``\n",
      "  warn(\n"
     ]
    },
    {
     "name": "stdout",
     "output_type": "stream",
     "text": [
      "<class 'pandas.core.frame.DataFrame'>\n",
      "Int64Index: 2292 entries, 63 to 834796\n",
      "Data columns (total 5 columns):\n",
      " #   Column          Non-Null Count  Dtype  \n",
      "---  ------          --------------  -----  \n",
      " 0   latitude        2292 non-null   float64\n",
      " 1   longitude       2292 non-null   float64\n",
      " 2   area_in_meters  2292 non-null   float64\n",
      " 3   confidence      2292 non-null   float64\n",
      " 4   full_plus_code  2292 non-null   object \n",
      "dtypes: float64(4), object(1)\n",
      "memory usage: 107.4+ KB\n",
      "None\n",
      "<class 'pandas.core.frame.DataFrame'>\n",
      "Int64Index: 832348 entries, 0 to 834808\n",
      "Data columns (total 5 columns):\n",
      " #   Column          Non-Null Count   Dtype  \n",
      "---  ------          --------------   -----  \n",
      " 0   latitude        832348 non-null  float64\n",
      " 1   longitude       832348 non-null  float64\n",
      " 2   area_in_meters  832348 non-null  float64\n",
      " 3   confidence      832348 non-null  float64\n",
      " 4   full_plus_code  832348 non-null  object \n",
      "dtypes: float64(4), object(1)\n",
      "memory usage: 38.1+ MB\n",
      "None\n",
      "<class 'pandas.core.frame.DataFrame'>\n",
      "Int64Index: 169 entries, 1968 to 825569\n",
      "Data columns (total 5 columns):\n",
      " #   Column          Non-Null Count  Dtype  \n",
      "---  ------          --------------  -----  \n",
      " 0   latitude        169 non-null    float64\n",
      " 1   longitude       169 non-null    float64\n",
      " 2   area_in_meters  169 non-null    float64\n",
      " 3   confidence      169 non-null    float64\n",
      " 4   full_plus_code  169 non-null    object \n",
      "dtypes: float64(4), object(1)\n",
      "memory usage: 7.9+ KB\n",
      "None\n",
      "/home/data_folder/points_s2_level_4_gzip/181_buildings.csv.gz\n"
     ]
    },
    {
     "name": "stderr",
     "output_type": "stream",
     "text": [
      "/root/miniconda3/envs/climada_env/lib/python3.8/site-packages/dask/dataframe/io/csv.py:531: UserWarning: Warning gzip compression does not support breaking apart files\n",
      "Please ensure that each individual file can fit in memory and\n",
      "use the keyword ``blocksize=None to remove this message``\n",
      "Setting ``blocksize=None``\n",
      "  warn(\n"
     ]
    },
    {
     "name": "stdout",
     "output_type": "stream",
     "text": [
      "<class 'pandas.core.frame.DataFrame'>\n",
      "Int64Index: 724 entries, 8 to 330041\n",
      "Data columns (total 5 columns):\n",
      " #   Column          Non-Null Count  Dtype  \n",
      "---  ------          --------------  -----  \n",
      " 0   latitude        724 non-null    float64\n",
      " 1   longitude       724 non-null    float64\n",
      " 2   area_in_meters  724 non-null    float64\n",
      " 3   confidence      724 non-null    float64\n",
      " 4   full_plus_code  724 non-null    object \n",
      "dtypes: float64(4), object(1)\n",
      "memory usage: 33.9+ KB\n",
      "None\n",
      "<class 'pandas.core.frame.DataFrame'>\n",
      "Int64Index: 11213 entries, 25 to 330175\n",
      "Data columns (total 5 columns):\n",
      " #   Column          Non-Null Count  Dtype  \n",
      "---  ------          --------------  -----  \n",
      " 0   latitude        11213 non-null  float64\n",
      " 1   longitude       11213 non-null  float64\n",
      " 2   area_in_meters  11213 non-null  float64\n",
      " 3   confidence      11213 non-null  float64\n",
      " 4   full_plus_code  11213 non-null  object \n",
      "dtypes: float64(4), object(1)\n",
      "memory usage: 525.6+ KB\n",
      "None\n"
     ]
    },
    {
     "name": "stderr",
     "output_type": "stream",
     "text": [
      "/tmp/ipykernel_5625/3870747852.py:106: SettingWithCopyWarning: \n",
      "A value is trying to be set on a copy of a slice from a DataFrame.\n",
      "Try using .loc[row_indexer,col_indexer] = value instead\n",
      "\n",
      "See the caveats in the documentation: https://pandas.pydata.org/pandas-docs/stable/user_guide/indexing.html#returning-a-view-versus-a-copy\n",
      "  bdb2['dem_name']=row['dem_name']\n"
     ]
    },
    {
     "name": "stdout",
     "output_type": "stream",
     "text": [
      "<class 'pandas.core.frame.DataFrame'>\n",
      "Int64Index: 318256 entries, 0 to 330192\n",
      "Data columns (total 5 columns):\n",
      " #   Column          Non-Null Count   Dtype  \n",
      "---  ------          --------------   -----  \n",
      " 0   latitude        318256 non-null  float64\n",
      " 1   longitude       318256 non-null  float64\n",
      " 2   area_in_meters  318256 non-null  float64\n",
      " 3   confidence      318256 non-null  float64\n",
      " 4   full_plus_code  318256 non-null  object \n",
      "dtypes: float64(4), object(1)\n",
      "memory usage: 14.6+ MB\n",
      "None\n"
     ]
    },
    {
     "name": "stderr",
     "output_type": "stream",
     "text": [
      "/tmp/ipykernel_5625/3870747852.py:106: SettingWithCopyWarning: \n",
      "A value is trying to be set on a copy of a slice from a DataFrame.\n",
      "Try using .loc[row_indexer,col_indexer] = value instead\n",
      "\n",
      "See the caveats in the documentation: https://pandas.pydata.org/pandas-docs/stable/user_guide/indexing.html#returning-a-view-versus-a-copy\n",
      "  bdb2['dem_name']=row['dem_name']\n"
     ]
    },
    {
     "name": "stdout",
     "output_type": "stream",
     "text": [
      "/home/data_folder/points_s2_level_4_gzip/183_buildings.csv.gz\n"
     ]
    },
    {
     "name": "stderr",
     "output_type": "stream",
     "text": [
      "/root/miniconda3/envs/climada_env/lib/python3.8/site-packages/dask/dataframe/io/csv.py:531: UserWarning: Warning gzip compression does not support breaking apart files\n",
      "Please ensure that each individual file can fit in memory and\n",
      "use the keyword ``blocksize=None to remove this message``\n",
      "Setting ``blocksize=None``\n",
      "  warn(\n"
     ]
    },
    {
     "name": "stdout",
     "output_type": "stream",
     "text": [
      "<class 'pandas.core.frame.DataFrame'>\n",
      "Int64Index: 850 entries, 14356 to 18133723\n",
      "Data columns (total 5 columns):\n",
      " #   Column          Non-Null Count  Dtype  \n",
      "---  ------          --------------  -----  \n",
      " 0   latitude        850 non-null    float64\n",
      " 1   longitude       850 non-null    float64\n",
      " 2   area_in_meters  850 non-null    float64\n",
      " 3   confidence      850 non-null    float64\n",
      " 4   full_plus_code  850 non-null    object \n",
      "dtypes: float64(4), object(1)\n",
      "memory usage: 39.8+ KB\n",
      "None\n"
     ]
    },
    {
     "name": "stderr",
     "output_type": "stream",
     "text": [
      "/tmp/ipykernel_5625/3870747852.py:106: SettingWithCopyWarning: \n",
      "A value is trying to be set on a copy of a slice from a DataFrame.\n",
      "Try using .loc[row_indexer,col_indexer] = value instead\n",
      "\n",
      "See the caveats in the documentation: https://pandas.pydata.org/pandas-docs/stable/user_guide/indexing.html#returning-a-view-versus-a-copy\n",
      "  bdb2['dem_name']=row['dem_name']\n"
     ]
    },
    {
     "name": "stdout",
     "output_type": "stream",
     "text": [
      "<class 'pandas.core.frame.DataFrame'>\n",
      "Int64Index: 2394 entries, 919 to 18129321\n",
      "Data columns (total 5 columns):\n",
      " #   Column          Non-Null Count  Dtype  \n",
      "---  ------          --------------  -----  \n",
      " 0   latitude        2394 non-null   float64\n",
      " 1   longitude       2394 non-null   float64\n",
      " 2   area_in_meters  2394 non-null   float64\n",
      " 3   confidence      2394 non-null   float64\n",
      " 4   full_plus_code  2394 non-null   object \n",
      "dtypes: float64(4), object(1)\n",
      "memory usage: 112.2+ KB\n",
      "None\n"
     ]
    },
    {
     "name": "stderr",
     "output_type": "stream",
     "text": [
      "/tmp/ipykernel_5625/3870747852.py:106: SettingWithCopyWarning: \n",
      "A value is trying to be set on a copy of a slice from a DataFrame.\n",
      "Try using .loc[row_indexer,col_indexer] = value instead\n",
      "\n",
      "See the caveats in the documentation: https://pandas.pydata.org/pandas-docs/stable/user_guide/indexing.html#returning-a-view-versus-a-copy\n",
      "  bdb2['dem_name']=row['dem_name']\n"
     ]
    },
    {
     "name": "stdout",
     "output_type": "stream",
     "text": [
      "<class 'pandas.core.frame.DataFrame'>\n",
      "Int64Index: 3004042 entries, 4 to 18138805\n",
      "Data columns (total 5 columns):\n",
      " #   Column          Dtype  \n",
      "---  ------          -----  \n",
      " 0   latitude        float64\n",
      " 1   longitude       float64\n",
      " 2   area_in_meters  float64\n",
      " 3   confidence      float64\n",
      " 4   full_plus_code  object \n",
      "dtypes: float64(4), object(1)\n",
      "memory usage: 137.5+ MB\n",
      "None\n"
     ]
    },
    {
     "name": "stderr",
     "output_type": "stream",
     "text": [
      "/tmp/ipykernel_5625/3870747852.py:106: SettingWithCopyWarning: \n",
      "A value is trying to be set on a copy of a slice from a DataFrame.\n",
      "Try using .loc[row_indexer,col_indexer] = value instead\n",
      "\n",
      "See the caveats in the documentation: https://pandas.pydata.org/pandas-docs/stable/user_guide/indexing.html#returning-a-view-versus-a-copy\n",
      "  bdb2['dem_name']=row['dem_name']\n"
     ]
    },
    {
     "name": "stdout",
     "output_type": "stream",
     "text": [
      "<class 'pandas.core.frame.DataFrame'>\n",
      "Int64Index: 15131520 entries, 0 to 18138804\n",
      "Data columns (total 5 columns):\n",
      " #   Column          Dtype  \n",
      "---  ------          -----  \n",
      " 0   latitude        float64\n",
      " 1   longitude       float64\n",
      " 2   area_in_meters  float64\n",
      " 3   confidence      float64\n",
      " 4   full_plus_code  object \n",
      "dtypes: float64(4), object(1)\n",
      "memory usage: 692.7+ MB\n",
      "None\n"
     ]
    },
    {
     "name": "stderr",
     "output_type": "stream",
     "text": [
      "/tmp/ipykernel_5625/3870747852.py:106: SettingWithCopyWarning: \n",
      "A value is trying to be set on a copy of a slice from a DataFrame.\n",
      "Try using .loc[row_indexer,col_indexer] = value instead\n",
      "\n",
      "See the caveats in the documentation: https://pandas.pydata.org/pandas-docs/stable/user_guide/indexing.html#returning-a-view-versus-a-copy\n",
      "  bdb2['dem_name']=row['dem_name']\n"
     ]
    },
    {
     "name": "stdout",
     "output_type": "stream",
     "text": [
      "/home/data_folder/points_s2_level_4_gzip/185_buildings.csv.gz\n"
     ]
    },
    {
     "name": "stderr",
     "output_type": "stream",
     "text": [
      "/root/miniconda3/envs/climada_env/lib/python3.8/site-packages/dask/dataframe/io/csv.py:531: UserWarning: Warning gzip compression does not support breaking apart files\n",
      "Please ensure that each individual file can fit in memory and\n",
      "use the keyword ``blocksize=None to remove this message``\n",
      "Setting ``blocksize=None``\n",
      "  warn(\n"
     ]
    },
    {
     "name": "stdout",
     "output_type": "stream",
     "text": [
      "<class 'pandas.core.frame.DataFrame'>\n",
      "Int64Index: 361170 entries, 15 to 9091188\n",
      "Data columns (total 5 columns):\n",
      " #   Column          Non-Null Count   Dtype  \n",
      "---  ------          --------------   -----  \n",
      " 0   latitude        361170 non-null  float64\n",
      " 1   longitude       361170 non-null  float64\n",
      " 2   area_in_meters  361170 non-null  float64\n",
      " 3   confidence      361170 non-null  float64\n",
      " 4   full_plus_code  361170 non-null  object \n",
      "dtypes: float64(4), object(1)\n",
      "memory usage: 16.5+ MB\n",
      "None\n"
     ]
    },
    {
     "name": "stderr",
     "output_type": "stream",
     "text": [
      "/tmp/ipykernel_5625/3870747852.py:106: SettingWithCopyWarning: \n",
      "A value is trying to be set on a copy of a slice from a DataFrame.\n",
      "Try using .loc[row_indexer,col_indexer] = value instead\n",
      "\n",
      "See the caveats in the documentation: https://pandas.pydata.org/pandas-docs/stable/user_guide/indexing.html#returning-a-view-versus-a-copy\n",
      "  bdb2['dem_name']=row['dem_name']\n"
     ]
    },
    {
     "name": "stdout",
     "output_type": "stream",
     "text": [
      "<class 'pandas.core.frame.DataFrame'>\n",
      "Int64Index: 1757114 entries, 3 to 9091212\n",
      "Data columns (total 5 columns):\n",
      " #   Column          Dtype  \n",
      "---  ------          -----  \n",
      " 0   latitude        float64\n",
      " 1   longitude       float64\n",
      " 2   area_in_meters  float64\n",
      " 3   confidence      float64\n",
      " 4   full_plus_code  object \n",
      "dtypes: float64(4), object(1)\n",
      "memory usage: 80.4+ MB\n",
      "None\n"
     ]
    },
    {
     "name": "stderr",
     "output_type": "stream",
     "text": [
      "/tmp/ipykernel_5625/3870747852.py:106: SettingWithCopyWarning: \n",
      "A value is trying to be set on a copy of a slice from a DataFrame.\n",
      "Try using .loc[row_indexer,col_indexer] = value instead\n",
      "\n",
      "See the caveats in the documentation: https://pandas.pydata.org/pandas-docs/stable/user_guide/indexing.html#returning-a-view-versus-a-copy\n",
      "  bdb2['dem_name']=row['dem_name']\n"
     ]
    },
    {
     "name": "stdout",
     "output_type": "stream",
     "text": [
      "<class 'pandas.core.frame.DataFrame'>\n",
      "Int64Index: 247572 entries, 31 to 9091204\n",
      "Data columns (total 5 columns):\n",
      " #   Column          Non-Null Count   Dtype  \n",
      "---  ------          --------------   -----  \n",
      " 0   latitude        247572 non-null  float64\n",
      " 1   longitude       247572 non-null  float64\n",
      " 2   area_in_meters  247572 non-null  float64\n",
      " 3   confidence      247572 non-null  float64\n",
      " 4   full_plus_code  247572 non-null  object \n",
      "dtypes: float64(4), object(1)\n",
      "memory usage: 11.3+ MB\n",
      "None\n"
     ]
    },
    {
     "name": "stderr",
     "output_type": "stream",
     "text": [
      "/tmp/ipykernel_5625/3870747852.py:106: SettingWithCopyWarning: \n",
      "A value is trying to be set on a copy of a slice from a DataFrame.\n",
      "Try using .loc[row_indexer,col_indexer] = value instead\n",
      "\n",
      "See the caveats in the documentation: https://pandas.pydata.org/pandas-docs/stable/user_guide/indexing.html#returning-a-view-versus-a-copy\n",
      "  bdb2['dem_name']=row['dem_name']\n"
     ]
    },
    {
     "name": "stdout",
     "output_type": "stream",
     "text": [
      "<class 'pandas.core.frame.DataFrame'>\n",
      "Int64Index: 6725357 entries, 0 to 9091211\n",
      "Data columns (total 5 columns):\n",
      " #   Column          Dtype  \n",
      "---  ------          -----  \n",
      " 0   latitude        float64\n",
      " 1   longitude       float64\n",
      " 2   area_in_meters  float64\n",
      " 3   confidence      float64\n",
      " 4   full_plus_code  object \n",
      "dtypes: float64(4), object(1)\n",
      "memory usage: 307.9+ MB\n",
      "None\n"
     ]
    },
    {
     "name": "stderr",
     "output_type": "stream",
     "text": [
      "/tmp/ipykernel_5625/3870747852.py:106: SettingWithCopyWarning: \n",
      "A value is trying to be set on a copy of a slice from a DataFrame.\n",
      "Try using .loc[row_indexer,col_indexer] = value instead\n",
      "\n",
      "See the caveats in the documentation: https://pandas.pydata.org/pandas-docs/stable/user_guide/indexing.html#returning-a-view-versus-a-copy\n",
      "  bdb2['dem_name']=row['dem_name']\n"
     ]
    },
    {
     "name": "stdout",
     "output_type": "stream",
     "text": [
      "/home/data_folder/points_s2_level_4_gzip/189_buildings.csv.gz\n"
     ]
    },
    {
     "name": "stderr",
     "output_type": "stream",
     "text": [
      "/root/miniconda3/envs/climada_env/lib/python3.8/site-packages/dask/dataframe/io/csv.py:531: UserWarning: Warning gzip compression does not support breaking apart files\n",
      "Please ensure that each individual file can fit in memory and\n",
      "use the keyword ``blocksize=None to remove this message``\n",
      "Setting ``blocksize=None``\n",
      "  warn(\n"
     ]
    },
    {
     "name": "stdout",
     "output_type": "stream",
     "text": [
      "<class 'pandas.core.frame.DataFrame'>\n",
      "Int64Index: 3823 entries, 68 to 256147\n",
      "Data columns (total 5 columns):\n",
      " #   Column          Non-Null Count  Dtype  \n",
      "---  ------          --------------  -----  \n",
      " 0   latitude        3823 non-null   float64\n",
      " 1   longitude       3823 non-null   float64\n",
      " 2   area_in_meters  3823 non-null   float64\n",
      " 3   confidence      3823 non-null   float64\n",
      " 4   full_plus_code  3823 non-null   object \n",
      "dtypes: float64(4), object(1)\n",
      "memory usage: 179.2+ KB\n",
      "None\n",
      "<class 'pandas.core.frame.DataFrame'>\n",
      "Int64Index: 252351 entries, 0 to 256184\n",
      "Data columns (total 5 columns):\n",
      " #   Column          Non-Null Count   Dtype  \n",
      "---  ------          --------------   -----  \n",
      " 0   latitude        252351 non-null  float64\n",
      " 1   longitude       252351 non-null  float64\n",
      " 2   area_in_meters  252351 non-null  float64\n",
      " 3   confidence      252351 non-null  float64\n",
      " 4   full_plus_code  252351 non-null  object \n",
      "dtypes: float64(4), object(1)\n",
      "memory usage: 11.6+ MB\n",
      "None\n"
     ]
    },
    {
     "name": "stderr",
     "output_type": "stream",
     "text": [
      "/tmp/ipykernel_5625/3870747852.py:106: SettingWithCopyWarning: \n",
      "A value is trying to be set on a copy of a slice from a DataFrame.\n",
      "Try using .loc[row_indexer,col_indexer] = value instead\n",
      "\n",
      "See the caveats in the documentation: https://pandas.pydata.org/pandas-docs/stable/user_guide/indexing.html#returning-a-view-versus-a-copy\n",
      "  bdb2['dem_name']=row['dem_name']\n"
     ]
    },
    {
     "name": "stdout",
     "output_type": "stream",
     "text": [
      "/home/data_folder/points_s2_level_4_gzip/18f_buildings.csv.gz\n"
     ]
    },
    {
     "name": "stderr",
     "output_type": "stream",
     "text": [
      "/root/miniconda3/envs/climada_env/lib/python3.8/site-packages/dask/dataframe/io/csv.py:531: UserWarning: Warning gzip compression does not support breaking apart files\n",
      "Please ensure that each individual file can fit in memory and\n",
      "use the keyword ``blocksize=None to remove this message``\n",
      "Setting ``blocksize=None``\n",
      "  warn(\n"
     ]
    },
    {
     "name": "stdout",
     "output_type": "stream",
     "text": [
      "<class 'pandas.core.frame.DataFrame'>\n",
      "Int64Index: 380438 entries, 1 to 3089081\n",
      "Data columns (total 5 columns):\n",
      " #   Column          Non-Null Count   Dtype  \n",
      "---  ------          --------------   -----  \n",
      " 0   latitude        380438 non-null  float64\n",
      " 1   longitude       380438 non-null  float64\n",
      " 2   area_in_meters  380438 non-null  float64\n",
      " 3   confidence      380438 non-null  float64\n",
      " 4   full_plus_code  380438 non-null  object \n",
      "dtypes: float64(4), object(1)\n",
      "memory usage: 17.4+ MB\n",
      "None\n"
     ]
    },
    {
     "name": "stderr",
     "output_type": "stream",
     "text": [
      "/tmp/ipykernel_5625/3870747852.py:106: SettingWithCopyWarning: \n",
      "A value is trying to be set on a copy of a slice from a DataFrame.\n",
      "Try using .loc[row_indexer,col_indexer] = value instead\n",
      "\n",
      "See the caveats in the documentation: https://pandas.pydata.org/pandas-docs/stable/user_guide/indexing.html#returning-a-view-versus-a-copy\n",
      "  bdb2['dem_name']=row['dem_name']\n"
     ]
    },
    {
     "name": "stdout",
     "output_type": "stream",
     "text": [
      "<class 'pandas.core.frame.DataFrame'>\n",
      "Int64Index: 448381 entries, 2 to 3089073\n",
      "Data columns (total 5 columns):\n",
      " #   Column          Non-Null Count   Dtype  \n",
      "---  ------          --------------   -----  \n",
      " 0   latitude        448381 non-null  float64\n",
      " 1   longitude       448381 non-null  float64\n",
      " 2   area_in_meters  448381 non-null  float64\n",
      " 3   confidence      448381 non-null  float64\n",
      " 4   full_plus_code  448381 non-null  object \n",
      "dtypes: float64(4), object(1)\n",
      "memory usage: 20.5+ MB\n",
      "None\n"
     ]
    },
    {
     "name": "stderr",
     "output_type": "stream",
     "text": [
      "/tmp/ipykernel_5625/3870747852.py:106: SettingWithCopyWarning: \n",
      "A value is trying to be set on a copy of a slice from a DataFrame.\n",
      "Try using .loc[row_indexer,col_indexer] = value instead\n",
      "\n",
      "See the caveats in the documentation: https://pandas.pydata.org/pandas-docs/stable/user_guide/indexing.html#returning-a-view-versus-a-copy\n",
      "  bdb2['dem_name']=row['dem_name']\n"
     ]
    },
    {
     "name": "stdout",
     "output_type": "stream",
     "text": [
      "<class 'pandas.core.frame.DataFrame'>\n",
      "Int64Index: 326247 entries, 5 to 3089074\n",
      "Data columns (total 5 columns):\n",
      " #   Column          Non-Null Count   Dtype  \n",
      "---  ------          --------------   -----  \n",
      " 0   latitude        326247 non-null  float64\n",
      " 1   longitude       326247 non-null  float64\n",
      " 2   area_in_meters  326247 non-null  float64\n",
      " 3   confidence      326247 non-null  float64\n",
      " 4   full_plus_code  326247 non-null  object \n",
      "dtypes: float64(4), object(1)\n",
      "memory usage: 14.9+ MB\n",
      "None\n"
     ]
    },
    {
     "name": "stderr",
     "output_type": "stream",
     "text": [
      "/tmp/ipykernel_5625/3870747852.py:106: SettingWithCopyWarning: \n",
      "A value is trying to be set on a copy of a slice from a DataFrame.\n",
      "Try using .loc[row_indexer,col_indexer] = value instead\n",
      "\n",
      "See the caveats in the documentation: https://pandas.pydata.org/pandas-docs/stable/user_guide/indexing.html#returning-a-view-versus-a-copy\n",
      "  bdb2['dem_name']=row['dem_name']\n"
     ]
    },
    {
     "name": "stdout",
     "output_type": "stream",
     "text": [
      "<class 'pandas.core.frame.DataFrame'>\n",
      "Int64Index: 1934016 entries, 0 to 3089080\n",
      "Data columns (total 5 columns):\n",
      " #   Column          Dtype  \n",
      "---  ------          -----  \n",
      " 0   latitude        float64\n",
      " 1   longitude       float64\n",
      " 2   area_in_meters  float64\n",
      " 3   confidence      float64\n",
      " 4   full_plus_code  object \n",
      "dtypes: float64(4), object(1)\n",
      "memory usage: 88.5+ MB\n",
      "None\n"
     ]
    },
    {
     "name": "stderr",
     "output_type": "stream",
     "text": [
      "/tmp/ipykernel_5625/3870747852.py:106: SettingWithCopyWarning: \n",
      "A value is trying to be set on a copy of a slice from a DataFrame.\n",
      "Try using .loc[row_indexer,col_indexer] = value instead\n",
      "\n",
      "See the caveats in the documentation: https://pandas.pydata.org/pandas-docs/stable/user_guide/indexing.html#returning-a-view-versus-a-copy\n",
      "  bdb2['dem_name']=row['dem_name']\n"
     ]
    },
    {
     "name": "stdout",
     "output_type": "stream",
     "text": [
      "/home/data_folder/points_s2_level_4_gzip/191_buildings.csv.gz\n"
     ]
    },
    {
     "name": "stderr",
     "output_type": "stream",
     "text": [
      "/root/miniconda3/envs/climada_env/lib/python3.8/site-packages/dask/dataframe/io/csv.py:531: UserWarning: Warning gzip compression does not support breaking apart files\n",
      "Please ensure that each individual file can fit in memory and\n",
      "use the keyword ``blocksize=None to remove this message``\n",
      "Setting ``blocksize=None``\n",
      "  warn(\n"
     ]
    },
    {
     "name": "stdout",
     "output_type": "stream",
     "text": [
      "<class 'pandas.core.frame.DataFrame'>\n",
      "Int64Index: 99457 entries, 4 to 6987516\n",
      "Data columns (total 5 columns):\n",
      " #   Column          Non-Null Count  Dtype  \n",
      "---  ------          --------------  -----  \n",
      " 0   latitude        99457 non-null  float64\n",
      " 1   longitude       99457 non-null  float64\n",
      " 2   area_in_meters  99457 non-null  float64\n",
      " 3   confidence      99457 non-null  float64\n",
      " 4   full_plus_code  99457 non-null  object \n",
      "dtypes: float64(4), object(1)\n",
      "memory usage: 4.6+ MB\n",
      "None\n"
     ]
    },
    {
     "name": "stderr",
     "output_type": "stream",
     "text": [
      "/tmp/ipykernel_5625/3870747852.py:106: SettingWithCopyWarning: \n",
      "A value is trying to be set on a copy of a slice from a DataFrame.\n",
      "Try using .loc[row_indexer,col_indexer] = value instead\n",
      "\n",
      "See the caveats in the documentation: https://pandas.pydata.org/pandas-docs/stable/user_guide/indexing.html#returning-a-view-versus-a-copy\n",
      "  bdb2['dem_name']=row['dem_name']\n"
     ]
    },
    {
     "name": "stdout",
     "output_type": "stream",
     "text": [
      "<class 'pandas.core.frame.DataFrame'>\n",
      "Int64Index: 1880676 entries, 0 to 6987608\n",
      "Data columns (total 5 columns):\n",
      " #   Column          Dtype  \n",
      "---  ------          -----  \n",
      " 0   latitude        float64\n",
      " 1   longitude       float64\n",
      " 2   area_in_meters  float64\n",
      " 3   confidence      float64\n",
      " 4   full_plus_code  object \n",
      "dtypes: float64(4), object(1)\n",
      "memory usage: 86.1+ MB\n",
      "None\n"
     ]
    },
    {
     "name": "stderr",
     "output_type": "stream",
     "text": [
      "/tmp/ipykernel_5625/3870747852.py:106: SettingWithCopyWarning: \n",
      "A value is trying to be set on a copy of a slice from a DataFrame.\n",
      "Try using .loc[row_indexer,col_indexer] = value instead\n",
      "\n",
      "See the caveats in the documentation: https://pandas.pydata.org/pandas-docs/stable/user_guide/indexing.html#returning-a-view-versus-a-copy\n",
      "  bdb2['dem_name']=row['dem_name']\n"
     ]
    },
    {
     "name": "stdout",
     "output_type": "stream",
     "text": [
      "<class 'pandas.core.frame.DataFrame'>\n",
      "Int64Index: 4392679 entries, 2 to 6987609\n",
      "Data columns (total 5 columns):\n",
      " #   Column          Dtype  \n",
      "---  ------          -----  \n",
      " 0   latitude        float64\n",
      " 1   longitude       float64\n",
      " 2   area_in_meters  float64\n",
      " 3   confidence      float64\n",
      " 4   full_plus_code  object \n",
      "dtypes: float64(4), object(1)\n",
      "memory usage: 201.1+ MB\n",
      "None\n"
     ]
    },
    {
     "name": "stderr",
     "output_type": "stream",
     "text": [
      "/tmp/ipykernel_5625/3870747852.py:106: SettingWithCopyWarning: \n",
      "A value is trying to be set on a copy of a slice from a DataFrame.\n",
      "Try using .loc[row_indexer,col_indexer] = value instead\n",
      "\n",
      "See the caveats in the documentation: https://pandas.pydata.org/pandas-docs/stable/user_guide/indexing.html#returning-a-view-versus-a-copy\n",
      "  bdb2['dem_name']=row['dem_name']\n"
     ]
    },
    {
     "name": "stdout",
     "output_type": "stream",
     "text": [
      "/home/data_folder/points_s2_level_4_gzip/199_buildings.csv.gz\n"
     ]
    },
    {
     "name": "stderr",
     "output_type": "stream",
     "text": [
      "/root/miniconda3/envs/climada_env/lib/python3.8/site-packages/dask/dataframe/io/csv.py:531: UserWarning: Warning gzip compression does not support breaking apart files\n",
      "Please ensure that each individual file can fit in memory and\n",
      "use the keyword ``blocksize=None to remove this message``\n",
      "Setting ``blocksize=None``\n",
      "  warn(\n"
     ]
    },
    {
     "name": "stdout",
     "output_type": "stream",
     "text": [
      "<class 'pandas.core.frame.DataFrame'>\n",
      "Int64Index: 62991 entries, 29 to 2753264\n",
      "Data columns (total 5 columns):\n",
      " #   Column          Non-Null Count  Dtype  \n",
      "---  ------          --------------  -----  \n",
      " 0   latitude        62991 non-null  float64\n",
      " 1   longitude       62991 non-null  float64\n",
      " 2   area_in_meters  62991 non-null  float64\n",
      " 3   confidence      62991 non-null  float64\n",
      " 4   full_plus_code  62991 non-null  object \n",
      "dtypes: float64(4), object(1)\n",
      "memory usage: 2.9+ MB\n",
      "None\n"
     ]
    },
    {
     "name": "stderr",
     "output_type": "stream",
     "text": [
      "/tmp/ipykernel_5625/3870747852.py:106: SettingWithCopyWarning: \n",
      "A value is trying to be set on a copy of a slice from a DataFrame.\n",
      "Try using .loc[row_indexer,col_indexer] = value instead\n",
      "\n",
      "See the caveats in the documentation: https://pandas.pydata.org/pandas-docs/stable/user_guide/indexing.html#returning-a-view-versus-a-copy\n",
      "  bdb2['dem_name']=row['dem_name']\n"
     ]
    },
    {
     "name": "stdout",
     "output_type": "stream",
     "text": [
      "<class 'pandas.core.frame.DataFrame'>\n",
      "Int64Index: 1050097 entries, 0 to 2753268\n",
      "Data columns (total 5 columns):\n",
      " #   Column          Non-Null Count    Dtype  \n",
      "---  ------          --------------    -----  \n",
      " 0   latitude        1050097 non-null  float64\n",
      " 1   longitude       1050097 non-null  float64\n",
      " 2   area_in_meters  1050097 non-null  float64\n",
      " 3   confidence      1050097 non-null  float64\n",
      " 4   full_plus_code  1050097 non-null  object \n",
      "dtypes: float64(4), object(1)\n",
      "memory usage: 48.1+ MB\n",
      "None\n"
     ]
    },
    {
     "name": "stderr",
     "output_type": "stream",
     "text": [
      "/tmp/ipykernel_5625/3870747852.py:106: SettingWithCopyWarning: \n",
      "A value is trying to be set on a copy of a slice from a DataFrame.\n",
      "Try using .loc[row_indexer,col_indexer] = value instead\n",
      "\n",
      "See the caveats in the documentation: https://pandas.pydata.org/pandas-docs/stable/user_guide/indexing.html#returning-a-view-versus-a-copy\n",
      "  bdb2['dem_name']=row['dem_name']\n"
     ]
    },
    {
     "name": "stdout",
     "output_type": "stream",
     "text": [
      "/home/data_folder/points_s2_level_4_gzip/19b_buildings.csv.gz\n"
     ]
    },
    {
     "name": "stderr",
     "output_type": "stream",
     "text": [
      "/root/miniconda3/envs/climada_env/lib/python3.8/site-packages/dask/dataframe/io/csv.py:531: UserWarning: Warning gzip compression does not support breaking apart files\n",
      "Please ensure that each individual file can fit in memory and\n",
      "use the keyword ``blocksize=None to remove this message``\n",
      "Setting ``blocksize=None``\n",
      "  warn(\n"
     ]
    },
    {
     "name": "stdout",
     "output_type": "stream",
     "text": [
      "<class 'pandas.core.frame.DataFrame'>\n",
      "Int64Index: 283343 entries, 22 to 4528493\n",
      "Data columns (total 5 columns):\n",
      " #   Column          Non-Null Count   Dtype  \n",
      "---  ------          --------------   -----  \n",
      " 0   latitude        283343 non-null  float64\n",
      " 1   longitude       283343 non-null  float64\n",
      " 2   area_in_meters  283343 non-null  float64\n",
      " 3   confidence      283343 non-null  float64\n",
      " 4   full_plus_code  283343 non-null  object \n",
      "dtypes: float64(4), object(1)\n",
      "memory usage: 13.0+ MB\n",
      "None\n"
     ]
    },
    {
     "name": "stderr",
     "output_type": "stream",
     "text": [
      "/tmp/ipykernel_5625/3870747852.py:106: SettingWithCopyWarning: \n",
      "A value is trying to be set on a copy of a slice from a DataFrame.\n",
      "Try using .loc[row_indexer,col_indexer] = value instead\n",
      "\n",
      "See the caveats in the documentation: https://pandas.pydata.org/pandas-docs/stable/user_guide/indexing.html#returning-a-view-versus-a-copy\n",
      "  bdb2['dem_name']=row['dem_name']\n"
     ]
    },
    {
     "name": "stdout",
     "output_type": "stream",
     "text": [
      "<class 'pandas.core.frame.DataFrame'>\n",
      "Int64Index: 1088350 entries, 0 to 4528503\n",
      "Data columns (total 5 columns):\n",
      " #   Column          Non-Null Count    Dtype  \n",
      "---  ------          --------------    -----  \n",
      " 0   latitude        1088350 non-null  float64\n",
      " 1   longitude       1088350 non-null  float64\n",
      " 2   area_in_meters  1088350 non-null  float64\n",
      " 3   confidence      1088350 non-null  float64\n",
      " 4   full_plus_code  1088350 non-null  object \n",
      "dtypes: float64(4), object(1)\n",
      "memory usage: 49.8+ MB\n",
      "None\n"
     ]
    },
    {
     "name": "stderr",
     "output_type": "stream",
     "text": [
      "/tmp/ipykernel_5625/3870747852.py:106: SettingWithCopyWarning: \n",
      "A value is trying to be set on a copy of a slice from a DataFrame.\n",
      "Try using .loc[row_indexer,col_indexer] = value instead\n",
      "\n",
      "See the caveats in the documentation: https://pandas.pydata.org/pandas-docs/stable/user_guide/indexing.html#returning-a-view-versus-a-copy\n",
      "  bdb2['dem_name']=row['dem_name']\n"
     ]
    },
    {
     "name": "stdout",
     "output_type": "stream",
     "text": [
      "<class 'pandas.core.frame.DataFrame'>\n",
      "Int64Index: 558607 entries, 5 to 4528502\n",
      "Data columns (total 5 columns):\n",
      " #   Column          Non-Null Count   Dtype  \n",
      "---  ------          --------------   -----  \n",
      " 0   latitude        558607 non-null  float64\n",
      " 1   longitude       558607 non-null  float64\n",
      " 2   area_in_meters  558607 non-null  float64\n",
      " 3   confidence      558607 non-null  float64\n",
      " 4   full_plus_code  558607 non-null  object \n",
      "dtypes: float64(4), object(1)\n",
      "memory usage: 25.6+ MB\n",
      "None\n"
     ]
    },
    {
     "name": "stderr",
     "output_type": "stream",
     "text": [
      "/tmp/ipykernel_5625/3870747852.py:106: SettingWithCopyWarning: \n",
      "A value is trying to be set on a copy of a slice from a DataFrame.\n",
      "Try using .loc[row_indexer,col_indexer] = value instead\n",
      "\n",
      "See the caveats in the documentation: https://pandas.pydata.org/pandas-docs/stable/user_guide/indexing.html#returning-a-view-versus-a-copy\n",
      "  bdb2['dem_name']=row['dem_name']\n"
     ]
    },
    {
     "name": "stdout",
     "output_type": "stream",
     "text": [
      "<class 'pandas.core.frame.DataFrame'>\n",
      "Int64Index: 2598204 entries, 1 to 4528501\n",
      "Data columns (total 5 columns):\n",
      " #   Column          Dtype  \n",
      "---  ------          -----  \n",
      " 0   latitude        float64\n",
      " 1   longitude       float64\n",
      " 2   area_in_meters  float64\n",
      " 3   confidence      float64\n",
      " 4   full_plus_code  object \n",
      "dtypes: float64(4), object(1)\n",
      "memory usage: 118.9+ MB\n",
      "None\n"
     ]
    },
    {
     "name": "stderr",
     "output_type": "stream",
     "text": [
      "/tmp/ipykernel_5625/3870747852.py:106: SettingWithCopyWarning: \n",
      "A value is trying to be set on a copy of a slice from a DataFrame.\n",
      "Try using .loc[row_indexer,col_indexer] = value instead\n",
      "\n",
      "See the caveats in the documentation: https://pandas.pydata.org/pandas-docs/stable/user_guide/indexing.html#returning-a-view-versus-a-copy\n",
      "  bdb2['dem_name']=row['dem_name']\n"
     ]
    },
    {
     "name": "stdout",
     "output_type": "stream",
     "text": [
      "/home/data_folder/points_s2_level_4_gzip/19d_buildings.csv.gz\n"
     ]
    },
    {
     "name": "stderr",
     "output_type": "stream",
     "text": [
      "/root/miniconda3/envs/climada_env/lib/python3.8/site-packages/dask/dataframe/io/csv.py:531: UserWarning: Warning gzip compression does not support breaking apart files\n",
      "Please ensure that each individual file can fit in memory and\n",
      "use the keyword ``blocksize=None to remove this message``\n",
      "Setting ``blocksize=None``\n",
      "  warn(\n"
     ]
    },
    {
     "name": "stdout",
     "output_type": "stream",
     "text": [
      "<class 'pandas.core.frame.DataFrame'>\n",
      "Int64Index: 350 entries, 231803 to 19875352\n",
      "Data columns (total 5 columns):\n",
      " #   Column          Non-Null Count  Dtype  \n",
      "---  ------          --------------  -----  \n",
      " 0   latitude        350 non-null    float64\n",
      " 1   longitude       350 non-null    float64\n",
      " 2   area_in_meters  350 non-null    float64\n",
      " 3   confidence      350 non-null    float64\n",
      " 4   full_plus_code  350 non-null    object \n",
      "dtypes: float64(4), object(1)\n",
      "memory usage: 16.4+ KB\n",
      "None\n"
     ]
    },
    {
     "name": "stderr",
     "output_type": "stream",
     "text": [
      "/tmp/ipykernel_5625/3870747852.py:106: SettingWithCopyWarning: \n",
      "A value is trying to be set on a copy of a slice from a DataFrame.\n",
      "Try using .loc[row_indexer,col_indexer] = value instead\n",
      "\n",
      "See the caveats in the documentation: https://pandas.pydata.org/pandas-docs/stable/user_guide/indexing.html#returning-a-view-versus-a-copy\n",
      "  bdb2['dem_name']=row['dem_name']\n"
     ]
    },
    {
     "name": "stdout",
     "output_type": "stream",
     "text": [
      "<class 'pandas.core.frame.DataFrame'>\n",
      "Int64Index: 1098 entries, 1679 to 20062562\n",
      "Data columns (total 5 columns):\n",
      " #   Column          Non-Null Count  Dtype  \n",
      "---  ------          --------------  -----  \n",
      " 0   latitude        1098 non-null   float64\n",
      " 1   longitude       1098 non-null   float64\n",
      " 2   area_in_meters  1098 non-null   float64\n",
      " 3   confidence      1098 non-null   float64\n",
      " 4   full_plus_code  1098 non-null   object \n",
      "dtypes: float64(4), object(1)\n",
      "memory usage: 51.5+ KB\n",
      "None\n"
     ]
    },
    {
     "name": "stderr",
     "output_type": "stream",
     "text": [
      "/tmp/ipykernel_5625/3870747852.py:106: SettingWithCopyWarning: \n",
      "A value is trying to be set on a copy of a slice from a DataFrame.\n",
      "Try using .loc[row_indexer,col_indexer] = value instead\n",
      "\n",
      "See the caveats in the documentation: https://pandas.pydata.org/pandas-docs/stable/user_guide/indexing.html#returning-a-view-versus-a-copy\n",
      "  bdb2['dem_name']=row['dem_name']\n"
     ]
    },
    {
     "name": "stdout",
     "output_type": "stream",
     "text": [
      "<class 'pandas.core.frame.DataFrame'>\n",
      "Int64Index: 6764711 entries, 0 to 20065295\n",
      "Data columns (total 5 columns):\n",
      " #   Column          Dtype  \n",
      "---  ------          -----  \n",
      " 0   latitude        float64\n",
      " 1   longitude       float64\n",
      " 2   area_in_meters  float64\n",
      " 3   confidence      float64\n",
      " 4   full_plus_code  object \n",
      "dtypes: float64(4), object(1)\n",
      "memory usage: 309.7+ MB\n",
      "None\n"
     ]
    },
    {
     "name": "stderr",
     "output_type": "stream",
     "text": [
      "/tmp/ipykernel_5625/3870747852.py:106: SettingWithCopyWarning: \n",
      "A value is trying to be set on a copy of a slice from a DataFrame.\n",
      "Try using .loc[row_indexer,col_indexer] = value instead\n",
      "\n",
      "See the caveats in the documentation: https://pandas.pydata.org/pandas-docs/stable/user_guide/indexing.html#returning-a-view-versus-a-copy\n",
      "  bdb2['dem_name']=row['dem_name']\n"
     ]
    },
    {
     "name": "stdout",
     "output_type": "stream",
     "text": [
      "<class 'pandas.core.frame.DataFrame'>\n",
      "Int64Index: 13299137 entries, 1 to 20065294\n",
      "Data columns (total 5 columns):\n",
      " #   Column          Dtype  \n",
      "---  ------          -----  \n",
      " 0   latitude        float64\n",
      " 1   longitude       float64\n",
      " 2   area_in_meters  float64\n",
      " 3   confidence      float64\n",
      " 4   full_plus_code  object \n",
      "dtypes: float64(4), object(1)\n",
      "memory usage: 608.8+ MB\n",
      "None\n"
     ]
    },
    {
     "name": "stderr",
     "output_type": "stream",
     "text": [
      "/tmp/ipykernel_5625/3870747852.py:106: SettingWithCopyWarning: \n",
      "A value is trying to be set on a copy of a slice from a DataFrame.\n",
      "Try using .loc[row_indexer,col_indexer] = value instead\n",
      "\n",
      "See the caveats in the documentation: https://pandas.pydata.org/pandas-docs/stable/user_guide/indexing.html#returning-a-view-versus-a-copy\n",
      "  bdb2['dem_name']=row['dem_name']\n"
     ]
    },
    {
     "name": "stdout",
     "output_type": "stream",
     "text": [
      "/home/data_folder/points_s2_level_4_gzip/19f_buildings.csv.gz\n"
     ]
    },
    {
     "name": "stderr",
     "output_type": "stream",
     "text": [
      "/root/miniconda3/envs/climada_env/lib/python3.8/site-packages/dask/dataframe/io/csv.py:531: UserWarning: Warning gzip compression does not support breaking apart files\n",
      "Please ensure that each individual file can fit in memory and\n",
      "use the keyword ``blocksize=None to remove this message``\n",
      "Setting ``blocksize=None``\n",
      "  warn(\n"
     ]
    },
    {
     "name": "stdout",
     "output_type": "stream",
     "text": [
      "<class 'pandas.core.frame.DataFrame'>\n",
      "Int64Index: 20 entries, 46290 to 1229300\n",
      "Data columns (total 5 columns):\n",
      " #   Column          Non-Null Count  Dtype  \n",
      "---  ------          --------------  -----  \n",
      " 0   latitude        20 non-null     float64\n",
      " 1   longitude       20 non-null     float64\n",
      " 2   area_in_meters  20 non-null     float64\n",
      " 3   confidence      20 non-null     float64\n",
      " 4   full_plus_code  20 non-null     object \n",
      "dtypes: float64(4), object(1)\n",
      "memory usage: 960.0+ bytes\n",
      "None\n"
     ]
    },
    {
     "name": "stderr",
     "output_type": "stream",
     "text": [
      "/tmp/ipykernel_5625/3870747852.py:106: SettingWithCopyWarning: \n",
      "A value is trying to be set on a copy of a slice from a DataFrame.\n",
      "Try using .loc[row_indexer,col_indexer] = value instead\n",
      "\n",
      "See the caveats in the documentation: https://pandas.pydata.org/pandas-docs/stable/user_guide/indexing.html#returning-a-view-versus-a-copy\n",
      "  bdb2['dem_name']=row['dem_name']\n"
     ]
    },
    {
     "name": "stdout",
     "output_type": "stream",
     "text": [
      "<class 'pandas.core.frame.DataFrame'>\n",
      "Int64Index: 947204 entries, 2 to 1411602\n",
      "Data columns (total 5 columns):\n",
      " #   Column          Non-Null Count   Dtype  \n",
      "---  ------          --------------   -----  \n",
      " 0   latitude        947204 non-null  float64\n",
      " 1   longitude       947204 non-null  float64\n",
      " 2   area_in_meters  947204 non-null  float64\n",
      " 3   confidence      947204 non-null  float64\n",
      " 4   full_plus_code  947204 non-null  object \n",
      "dtypes: float64(4), object(1)\n",
      "memory usage: 43.4+ MB\n",
      "None\n"
     ]
    },
    {
     "name": "stderr",
     "output_type": "stream",
     "text": [
      "/tmp/ipykernel_5625/3870747852.py:106: SettingWithCopyWarning: \n",
      "A value is trying to be set on a copy of a slice from a DataFrame.\n",
      "Try using .loc[row_indexer,col_indexer] = value instead\n",
      "\n",
      "See the caveats in the documentation: https://pandas.pydata.org/pandas-docs/stable/user_guide/indexing.html#returning-a-view-versus-a-copy\n",
      "  bdb2['dem_name']=row['dem_name']\n"
     ]
    },
    {
     "name": "stdout",
     "output_type": "stream",
     "text": [
      "/home/data_folder/points_s2_level_4_gzip/3d5_buildings.csv.gz\n"
     ]
    },
    {
     "name": "stderr",
     "output_type": "stream",
     "text": [
      "/root/miniconda3/envs/climada_env/lib/python3.8/site-packages/dask/dataframe/io/csv.py:531: UserWarning: Warning gzip compression does not support breaking apart files\n",
      "Please ensure that each individual file can fit in memory and\n",
      "use the keyword ``blocksize=None to remove this message``\n",
      "Setting ``blocksize=None``\n",
      "  warn(\n"
     ]
    },
    {
     "name": "stdout",
     "output_type": "stream",
     "text": [
      "<class 'pandas.core.frame.DataFrame'>\n",
      "Int64Index: 928098 entries, 0 to 928097\n",
      "Data columns (total 5 columns):\n",
      " #   Column          Non-Null Count   Dtype  \n",
      "---  ------          --------------   -----  \n",
      " 0   latitude        928098 non-null  float64\n",
      " 1   longitude       928098 non-null  float64\n",
      " 2   area_in_meters  928098 non-null  float64\n",
      " 3   confidence      928098 non-null  float64\n",
      " 4   full_plus_code  928098 non-null  object \n",
      "dtypes: float64(4), object(1)\n",
      "memory usage: 42.5+ MB\n",
      "None\n",
      "/home/data_folder/points_s2_level_4_gzip/3d7_buildings.csv.gz\n"
     ]
    },
    {
     "name": "stderr",
     "output_type": "stream",
     "text": [
      "/root/miniconda3/envs/climada_env/lib/python3.8/site-packages/dask/dataframe/io/csv.py:531: UserWarning: Warning gzip compression does not support breaking apart files\n",
      "Please ensure that each individual file can fit in memory and\n",
      "use the keyword ``blocksize=None to remove this message``\n",
      "Setting ``blocksize=None``\n",
      "  warn(\n"
     ]
    },
    {
     "name": "stdout",
     "output_type": "stream",
     "text": [
      "<class 'pandas.core.frame.DataFrame'>\n",
      "Int64Index: 163351 entries, 0 to 477750\n",
      "Data columns (total 5 columns):\n",
      " #   Column          Non-Null Count   Dtype  \n",
      "---  ------          --------------   -----  \n",
      " 0   latitude        163351 non-null  float64\n",
      " 1   longitude       163351 non-null  float64\n",
      " 2   area_in_meters  163351 non-null  float64\n",
      " 3   confidence      163351 non-null  float64\n",
      " 4   full_plus_code  163351 non-null  object \n",
      "dtypes: float64(4), object(1)\n",
      "memory usage: 7.5+ MB\n",
      "None\n"
     ]
    },
    {
     "name": "stderr",
     "output_type": "stream",
     "text": [
      "/tmp/ipykernel_5625/3870747852.py:106: SettingWithCopyWarning: \n",
      "A value is trying to be set on a copy of a slice from a DataFrame.\n",
      "Try using .loc[row_indexer,col_indexer] = value instead\n",
      "\n",
      "See the caveats in the documentation: https://pandas.pydata.org/pandas-docs/stable/user_guide/indexing.html#returning-a-view-versus-a-copy\n",
      "  bdb2['dem_name']=row['dem_name']\n"
     ]
    },
    {
     "name": "stdout",
     "output_type": "stream",
     "text": [
      "<class 'pandas.core.frame.DataFrame'>\n",
      "Int64Index: 314399 entries, 1 to 477751\n",
      "Data columns (total 5 columns):\n",
      " #   Column          Non-Null Count   Dtype  \n",
      "---  ------          --------------   -----  \n",
      " 0   latitude        314399 non-null  float64\n",
      " 1   longitude       314399 non-null  float64\n",
      " 2   area_in_meters  314399 non-null  float64\n",
      " 3   confidence      314399 non-null  float64\n",
      " 4   full_plus_code  314399 non-null  object \n",
      "dtypes: float64(4), object(1)\n",
      "memory usage: 14.4+ MB\n",
      "None\n"
     ]
    },
    {
     "name": "stderr",
     "output_type": "stream",
     "text": [
      "/tmp/ipykernel_5625/3870747852.py:106: SettingWithCopyWarning: \n",
      "A value is trying to be set on a copy of a slice from a DataFrame.\n",
      "Try using .loc[row_indexer,col_indexer] = value instead\n",
      "\n",
      "See the caveats in the documentation: https://pandas.pydata.org/pandas-docs/stable/user_guide/indexing.html#returning-a-view-versus-a-copy\n",
      "  bdb2['dem_name']=row['dem_name']\n"
     ]
    },
    {
     "name": "stdout",
     "output_type": "stream",
     "text": [
      "<class 'pandas.core.frame.DataFrame'>\n",
      "Int64Index: 2 entries, 29356 to 451557\n",
      "Data columns (total 5 columns):\n",
      " #   Column          Non-Null Count  Dtype  \n",
      "---  ------          --------------  -----  \n",
      " 0   latitude        2 non-null      float64\n",
      " 1   longitude       2 non-null      float64\n",
      " 2   area_in_meters  2 non-null      float64\n",
      " 3   confidence      2 non-null      float64\n",
      " 4   full_plus_code  2 non-null      object \n",
      "dtypes: float64(4), object(1)\n",
      "memory usage: 96.0+ bytes\n",
      "None\n",
      "/home/data_folder/points_s2_level_4_gzip/3d9_buildings.csv.gz\n"
     ]
    },
    {
     "name": "stderr",
     "output_type": "stream",
     "text": [
      "/root/miniconda3/envs/climada_env/lib/python3.8/site-packages/dask/dataframe/io/csv.py:531: UserWarning: Warning gzip compression does not support breaking apart files\n",
      "Please ensure that each individual file can fit in memory and\n",
      "use the keyword ``blocksize=None to remove this message``\n",
      "Setting ``blocksize=None``\n",
      "  warn(\n"
     ]
    },
    {
     "name": "stdout",
     "output_type": "stream",
     "text": [
      "<class 'pandas.core.frame.DataFrame'>\n",
      "Int64Index: 348533 entries, 0 to 484216\n",
      "Data columns (total 5 columns):\n",
      " #   Column          Non-Null Count   Dtype  \n",
      "---  ------          --------------   -----  \n",
      " 0   latitude        348533 non-null  float64\n",
      " 1   longitude       348533 non-null  float64\n",
      " 2   area_in_meters  348533 non-null  float64\n",
      " 3   confidence      348533 non-null  float64\n",
      " 4   full_plus_code  348533 non-null  object \n",
      "dtypes: float64(4), object(1)\n",
      "memory usage: 16.0+ MB\n",
      "None\n"
     ]
    },
    {
     "name": "stderr",
     "output_type": "stream",
     "text": [
      "/tmp/ipykernel_5625/3870747852.py:106: SettingWithCopyWarning: \n",
      "A value is trying to be set on a copy of a slice from a DataFrame.\n",
      "Try using .loc[row_indexer,col_indexer] = value instead\n",
      "\n",
      "See the caveats in the documentation: https://pandas.pydata.org/pandas-docs/stable/user_guide/indexing.html#returning-a-view-versus-a-copy\n",
      "  bdb2['dem_name']=row['dem_name']\n"
     ]
    },
    {
     "name": "stdout",
     "output_type": "stream",
     "text": [
      "<class 'pandas.core.frame.DataFrame'>\n",
      "Int64Index: 23 entries, 9656 to 477402\n",
      "Data columns (total 5 columns):\n",
      " #   Column          Non-Null Count  Dtype  \n",
      "---  ------          --------------  -----  \n",
      " 0   latitude        23 non-null     float64\n",
      " 1   longitude       23 non-null     float64\n",
      " 2   area_in_meters  23 non-null     float64\n",
      " 3   confidence      23 non-null     float64\n",
      " 4   full_plus_code  23 non-null     object \n",
      "dtypes: float64(4), object(1)\n",
      "memory usage: 1.1+ KB\n",
      "None\n",
      "<class 'pandas.core.frame.DataFrame'>\n",
      "Int64Index: 135569 entries, 3 to 484205\n",
      "Data columns (total 5 columns):\n",
      " #   Column          Non-Null Count   Dtype  \n",
      "---  ------          --------------   -----  \n",
      " 0   latitude        135569 non-null  float64\n",
      " 1   longitude       135569 non-null  float64\n",
      " 2   area_in_meters  135569 non-null  float64\n",
      " 3   confidence      135569 non-null  float64\n",
      " 4   full_plus_code  135569 non-null  object \n",
      "dtypes: float64(4), object(1)\n",
      "memory usage: 6.2+ MB\n",
      "None\n"
     ]
    },
    {
     "name": "stderr",
     "output_type": "stream",
     "text": [
      "/tmp/ipykernel_5625/3870747852.py:106: SettingWithCopyWarning: \n",
      "A value is trying to be set on a copy of a slice from a DataFrame.\n",
      "Try using .loc[row_indexer,col_indexer] = value instead\n",
      "\n",
      "See the caveats in the documentation: https://pandas.pydata.org/pandas-docs/stable/user_guide/indexing.html#returning-a-view-versus-a-copy\n",
      "  bdb2['dem_name']=row['dem_name']\n",
      "/tmp/ipykernel_5625/3870747852.py:106: SettingWithCopyWarning: \n",
      "A value is trying to be set on a copy of a slice from a DataFrame.\n",
      "Try using .loc[row_indexer,col_indexer] = value instead\n",
      "\n",
      "See the caveats in the documentation: https://pandas.pydata.org/pandas-docs/stable/user_guide/indexing.html#returning-a-view-versus-a-copy\n",
      "  bdb2['dem_name']=row['dem_name']\n"
     ]
    },
    {
     "name": "stdout",
     "output_type": "stream",
     "text": [
      "<class 'pandas.core.frame.DataFrame'>\n",
      "Int64Index: 92 entries, 7577 to 480157\n",
      "Data columns (total 5 columns):\n",
      " #   Column          Non-Null Count  Dtype  \n",
      "---  ------          --------------  -----  \n",
      " 0   latitude        92 non-null     float64\n",
      " 1   longitude       92 non-null     float64\n",
      " 2   area_in_meters  92 non-null     float64\n",
      " 3   confidence      92 non-null     float64\n",
      " 4   full_plus_code  92 non-null     object \n",
      "dtypes: float64(4), object(1)\n",
      "memory usage: 4.3+ KB\n",
      "None\n",
      "/home/data_folder/points_s2_level_4_gzip/3db_buildings.csv.gz\n",
      "<class 'pandas.core.frame.DataFrame'>\n",
      "Int64Index: 5266 entries, 2 to 22251\n",
      "Data columns (total 5 columns):\n",
      " #   Column          Non-Null Count  Dtype  \n",
      "---  ------          --------------  -----  \n",
      " 0   latitude        5266 non-null   float64\n",
      " 1   longitude       5266 non-null   float64\n",
      " 2   area_in_meters  5266 non-null   float64\n",
      " 3   confidence      5266 non-null   float64\n",
      " 4   full_plus_code  5266 non-null   object \n",
      "dtypes: float64(4), object(1)\n",
      "memory usage: 246.8+ KB\n",
      "None\n"
     ]
    },
    {
     "name": "stderr",
     "output_type": "stream",
     "text": [
      "/tmp/ipykernel_5625/3870747852.py:106: SettingWithCopyWarning: \n",
      "A value is trying to be set on a copy of a slice from a DataFrame.\n",
      "Try using .loc[row_indexer,col_indexer] = value instead\n",
      "\n",
      "See the caveats in the documentation: https://pandas.pydata.org/pandas-docs/stable/user_guide/indexing.html#returning-a-view-versus-a-copy\n",
      "  bdb2['dem_name']=row['dem_name']\n",
      "/root/miniconda3/envs/climada_env/lib/python3.8/site-packages/dask/dataframe/io/csv.py:531: UserWarning: Warning gzip compression does not support breaking apart files\n",
      "Please ensure that each individual file can fit in memory and\n",
      "use the keyword ``blocksize=None to remove this message``\n",
      "Setting ``blocksize=None``\n",
      "  warn(\n",
      "/tmp/ipykernel_5625/3870747852.py:106: SettingWithCopyWarning: \n",
      "A value is trying to be set on a copy of a slice from a DataFrame.\n",
      "Try using .loc[row_indexer,col_indexer] = value instead\n",
      "\n",
      "See the caveats in the documentation: https://pandas.pydata.org/pandas-docs/stable/user_guide/indexing.html#returning-a-view-versus-a-copy\n",
      "  bdb2['dem_name']=row['dem_name']\n"
     ]
    },
    {
     "name": "stdout",
     "output_type": "stream",
     "text": [
      "<class 'pandas.core.frame.DataFrame'>\n",
      "Int64Index: 16988 entries, 0 to 22253\n",
      "Data columns (total 5 columns):\n",
      " #   Column          Non-Null Count  Dtype  \n",
      "---  ------          --------------  -----  \n",
      " 0   latitude        16988 non-null  float64\n",
      " 1   longitude       16988 non-null  float64\n",
      " 2   area_in_meters  16988 non-null  float64\n",
      " 3   confidence      16988 non-null  float64\n",
      " 4   full_plus_code  16988 non-null  object \n",
      "dtypes: float64(4), object(1)\n",
      "memory usage: 796.3+ KB\n",
      "None\n"
     ]
    },
    {
     "name": "stderr",
     "output_type": "stream",
     "text": [
      "/tmp/ipykernel_5625/3870747852.py:106: SettingWithCopyWarning: \n",
      "A value is trying to be set on a copy of a slice from a DataFrame.\n",
      "Try using .loc[row_indexer,col_indexer] = value instead\n",
      "\n",
      "See the caveats in the documentation: https://pandas.pydata.org/pandas-docs/stable/user_guide/indexing.html#returning-a-view-versus-a-copy\n",
      "  bdb2['dem_name']=row['dem_name']\n"
     ]
    }
   ],
   "source": [
    "import glob\n",
    "import geopandas as gp\n",
    "import pandas as pd\n",
    "import ntpath\n",
    "import gc\n",
    "import dask_geopandas\n",
    "\n",
    "import dask.dataframe as dd\n",
    "\n",
    "gzfiles=glob.glob('/home/data_folder/points_s2_level_4_gzip/*.csv.gz')\n",
    "\n",
    "grid_db=gp.read_file('/home/data_folder/osm_data/ea_5x5_grid.shp')\n",
    "\n",
    "# for gzfl in gzfiles:\n",
    "#     print(gzfl)\n",
    "#     bdb=pd.read_csv(gzfl)\n",
    "#     gbdb = gp.GeoDataFrame(bdb, geometry=gp.points_from_xy(bdb.longitude, bdb.latitude))\n",
    "#     dgdf = dask_geopandas.from_geopandas(gbdb, npartitions=4)\n",
    "#     db = dgdf.sjoin(grid_db, how=\"left\")\n",
    "#     db.drop(columns=['geometry', 'index_right','sno'], inplace=True)\n",
    "#     db.fillna('out_of_ea', inplace=True)\n",
    "#     dem_db=db.drop_duplicates('dem_name')\n",
    "#     dem_name_list=dem_db['dem_name'].tolist()\n",
    "#     dem_name_list=[i for i in dem_name_list if not i in 'out_of_ea']\n",
    "#     outputname=ntpath.basename(gzfl).split('.')[0]\n",
    "#     del [[bdb,gbdb,dem_db]]\n",
    "#     gc.collect()\n",
    "#     bdb=pd.DataFrame()\n",
    "#     gbdb=pd.DataFrame()\n",
    "#     dem_db=pd.DataFrame()\n",
    "#     for dem_name in dem_name_list:\n",
    "#         db1=db[db['dem_name']==dem_name]\n",
    "#         db1.to_csv(f'/home/data_folder/points_s2_level_4_gzip/ea_grid_filter/{dem_name}_{outputname}.csv.gz', compression='gzip')\n",
    "#         del [[db1]]\n",
    "#         gc.collect()\n",
    "#         db1=pd.DataFrame()\n",
    "\n",
    "\n",
    "# for gzfl in gzfiles[8:]:\n",
    "#     print(gzfl)\n",
    "#     #bdb=pd.read_csv(gzfl)\n",
    "#     do_dask_compute0 = dd.read_csv(gzfl, compression='gzip')\n",
    "#     bdb=do_dask_compute0.compute()\n",
    "#     gbdb = gp.GeoDataFrame(bdb, geometry=gp.points_from_xy(bdb.longitude, bdb.latitude))\n",
    "#     dgdf = dask_geopandas.from_geopandas(gbdb, npartitions=4)\n",
    "#     do_dask_compute = dgdf.sjoin(grid_db, how=\"inner\")\n",
    "#     db = do_dask_compute.compute()\n",
    "#     print(db.info())\n",
    "#     if db.empty:\n",
    "#         pass\n",
    "#     else:\n",
    "#         db.drop(columns=['geometry', 'index_right','sno'], inplace=True)\n",
    "#         dem_db=db.drop_duplicates('dem_name')\n",
    "#         print(dem_db)\n",
    "#         dem_name_list=dem_db['dem_name'].tolist()\n",
    "#         outputname=ntpath.basename(gzfl).split('.')[0]\n",
    "#         del [[bdb,gbdb,dem_db]]\n",
    "#         gc.collect()\n",
    "#         bdb=pd.DataFrame()\n",
    "#         gbdb=pd.DataFrame()\n",
    "#         dem_db=pd.DataFrame()\n",
    "#         print('###########')\n",
    "#         for dem_name in dem_name_list:\n",
    "#             print(dem_name)\n",
    "#             print(db.info())\n",
    "#             db1=db[db['dem_name']==dem_name]\n",
    "#             db1.to_csv(f'/home/data_folder/points_s2_level_4_gzip/ea_grid_filter/{dem_name}_{outputname}.csv.gz', compression='gzip')\n",
    "#     del [[db1,db]]\n",
    "#     gc.collect()\n",
    "#     db1=pd.DataFrame()\n",
    "#     db=pd.DataFrame()\n",
    "\n",
    "\n",
    "# for gzfl in gzfiles:\n",
    "#     print(gzfl)\n",
    "#     #bdb=pd.read_csv(gzfl)\n",
    "#     do_dask_compute0 = dd.read_csv(gzfl, compression='gzip')\n",
    "#     bdb=do_dask_compute0.compute()\n",
    "#     outputname=ntpath.basename(gzfl).split('.')[0]\n",
    "#     for idx, row in grid_db.iterrows():\n",
    "#         min_long,min_lat,max_long,max_lat=row['geometry'].bounds\n",
    "#         bdb = bdb.query(f'{min_long} < longitude < {max_long}')\n",
    "#         bdb = bdb.query(f'{min_lat} < latitude < {max_lat}')\n",
    "#         if not bdb.empty:\n",
    "#             print(bdb.info())\n",
    "#             bdb['dem_name']=row['dem_name']\n",
    "#             dem_name=row['dem_name']\n",
    "#             bdb.to_csv(f'/home/data_folder/points_s2_level_4_gzip/ea_grid_filter/{dem_name}_{outputname}.csv.gz', compression='gzip',index=False)\n",
    "#     gc.collect()\n",
    "#     del [[bdb]]\n",
    "#     bdb=pd.DataFrame()\n",
    "\n",
    "\n",
    "for gzfl in gzfiles:\n",
    "    print(gzfl)\n",
    "    #bdb=pd.read_csv(gzfl)\n",
    "    do_dask_compute0 = dd.read_csv(gzfl, compression='gzip')\n",
    "    bdb=do_dask_compute0.compute()\n",
    "    outputname=ntpath.basename(gzfl).split('.')[0]\n",
    "    for idx, row in grid_db.iterrows():\n",
    "        min_long,min_lat,max_long,max_lat=row['geometry'].bounds\n",
    "        bdb1=bdb.loc[(bdb['longitude'] >=min_long ) & (bdb['longitude'] <= max_long)]\n",
    "        bdb2=bdb1.loc[(bdb1['latitude'] >=min_lat ) & (bdb1['latitude'] <= max_lat)]\n",
    "        if not bdb2.empty:\n",
    "            print(bdb2.info())\n",
    "            bdb2['dem_name']=row['dem_name']\n",
    "            dem_name=row['dem_name']\n",
    "            bdb2.to_csv(f'/home/data_folder/points_s2_level_4_gzip/ea_grid_filter_t2/{dem_name}_{outputname}.csv.gz', compression='gzip',index=False)\n",
    "            del [[bdb1,bdb2]]\n",
    "    gc.collect()\n",
    "    del [[bdb]]\n",
    "    bdb=pd.DataFrame()"
   ]
  },
  {
   "cell_type": "markdown",
   "id": "456c3eb3",
   "metadata": {},
   "source": [
    "## do 1km intersection"
   ]
  },
  {
   "cell_type": "code",
   "execution_count": 3,
   "id": "c95cbd9f",
   "metadata": {},
   "outputs": [
    {
     "name": "stderr",
     "output_type": "stream",
     "text": [
      "/root/miniconda3/envs/climada_env/lib/python3.8/site-packages/dask/dataframe/io/csv.py:531: UserWarning: Warning gzip compression does not support breaking apart files\n",
      "Please ensure that each individual file can fit in memory and\n",
      "use the keyword ``blocksize=None to remove this message``\n",
      "Setting ``blocksize=None``\n",
      "  warn(\n"
     ]
    }
   ],
   "source": [
    "gzfl='/home/data_folder/points_s2_level_4_gzip/ea_grid_filter_t2/n00e030_dem_177_buildings.csv.gz'\n",
    "\n",
    "do_dask_compute0 = dd.read_csv(gzfl, compression='gzip')\n",
    "bdb=do_dask_compute0.compute()\n",
    "gbdb = gp.GeoDataFrame(bdb, geometry=gp.points_from_xy(bdb.longitude, bdb.latitude))\n",
    "\n"
   ]
  },
  {
   "cell_type": "code",
   "execution_count": null,
   "id": "dd73469d",
   "metadata": {},
   "outputs": [],
   "source": [
    "grid_db=gp.read_file('/home/data_folder/osm_data/5x5_1km_grids_ea/n00e030_dem.shp')\n",
    "dgdf = dask_geopandas.from_geopandas(gbdb, npartitions=4)\n",
    "do_dask_compute = dgdf.sjoin(grid_db, how=\"inner\")\n",
    "db = do_dask_compute.compute()"
   ]
  },
  {
   "cell_type": "markdown",
   "id": "8543d88b",
   "metadata": {},
   "source": [
    "## Using non gis filtering method for 1km grid as well"
   ]
  },
  {
   "cell_type": "code",
   "execution_count": 3,
   "id": "a27426a3",
   "metadata": {},
   "outputs": [
    {
     "name": "stderr",
     "output_type": "stream",
     "text": [
      "/root/miniconda3/envs/climada_env/lib/python3.8/site-packages/dask/dataframe/io/csv.py:531: UserWarning: Warning gzip compression does not support breaking apart files\n",
      "Please ensure that each individual file can fit in memory and\n",
      "use the keyword ``blocksize=None to remove this message``\n",
      "Setting ``blocksize=None``\n",
      "  warn(\n"
     ]
    },
    {
     "ename": "KeyboardInterrupt",
     "evalue": "",
     "output_type": "error",
     "traceback": [
      "\u001b[0;31m---------------------------------------------------------------------------\u001b[0m",
      "\u001b[0;31mKeyboardInterrupt\u001b[0m                         Traceback (most recent call last)",
      "Cell \u001b[0;32mIn [3], line 17\u001b[0m\n\u001b[1;32m     15\u001b[0m \u001b[38;5;28;01mfor\u001b[39;00m idx, row \u001b[38;5;129;01min\u001b[39;00m grid_db\u001b[38;5;241m.\u001b[39miterrows():\n\u001b[1;32m     16\u001b[0m     min_long,min_lat,max_long,max_lat\u001b[38;5;241m=\u001b[39mrow[\u001b[38;5;124m'\u001b[39m\u001b[38;5;124mgeometry\u001b[39m\u001b[38;5;124m'\u001b[39m]\u001b[38;5;241m.\u001b[39mbounds\n\u001b[0;32m---> 17\u001b[0m     bdb1\u001b[38;5;241m=\u001b[39mbdb\u001b[38;5;241m.\u001b[39mloc[(\u001b[43mbdb\u001b[49m\u001b[43m[\u001b[49m\u001b[38;5;124;43m'\u001b[39;49m\u001b[38;5;124;43mlongitude\u001b[39;49m\u001b[38;5;124;43m'\u001b[39;49m\u001b[43m]\u001b[49m\u001b[43m \u001b[49m\u001b[38;5;241;43m>\u001b[39;49m\u001b[38;5;241;43m=\u001b[39;49m\u001b[43mmin_long\u001b[49m ) \u001b[38;5;241m&\u001b[39m (bdb[\u001b[38;5;124m'\u001b[39m\u001b[38;5;124mlongitude\u001b[39m\u001b[38;5;124m'\u001b[39m] \u001b[38;5;241m<\u001b[39m\u001b[38;5;241m=\u001b[39m max_long)]\n\u001b[1;32m     18\u001b[0m     bdb2\u001b[38;5;241m=\u001b[39mbdb1\u001b[38;5;241m.\u001b[39mloc[(bdb1[\u001b[38;5;124m'\u001b[39m\u001b[38;5;124mlatitude\u001b[39m\u001b[38;5;124m'\u001b[39m] \u001b[38;5;241m>\u001b[39m\u001b[38;5;241m=\u001b[39mmin_lat ) \u001b[38;5;241m&\u001b[39m (bdb1[\u001b[38;5;124m'\u001b[39m\u001b[38;5;124mlatitude\u001b[39m\u001b[38;5;124m'\u001b[39m] \u001b[38;5;241m<\u001b[39m\u001b[38;5;241m=\u001b[39m max_lat)]\n\u001b[1;32m     19\u001b[0m     \u001b[38;5;28;01mif\u001b[39;00m \u001b[38;5;129;01mnot\u001b[39;00m bdb2\u001b[38;5;241m.\u001b[39mempty:\n",
      "File \u001b[0;32m~/miniconda3/envs/climada_env/lib/python3.8/site-packages/pandas/core/ops/common.py:70\u001b[0m, in \u001b[0;36m_unpack_zerodim_and_defer.<locals>.new_method\u001b[0;34m(self, other)\u001b[0m\n\u001b[1;32m     66\u001b[0m             \u001b[38;5;28;01mreturn\u001b[39;00m \u001b[38;5;28mNotImplemented\u001b[39m\n\u001b[1;32m     68\u001b[0m other \u001b[38;5;241m=\u001b[39m item_from_zerodim(other)\n\u001b[0;32m---> 70\u001b[0m \u001b[38;5;28;01mreturn\u001b[39;00m \u001b[43mmethod\u001b[49m\u001b[43m(\u001b[49m\u001b[38;5;28;43mself\u001b[39;49m\u001b[43m,\u001b[49m\u001b[43m \u001b[49m\u001b[43mother\u001b[49m\u001b[43m)\u001b[49m\n",
      "File \u001b[0;32m~/miniconda3/envs/climada_env/lib/python3.8/site-packages/pandas/core/arraylike.py:60\u001b[0m, in \u001b[0;36mOpsMixin.__ge__\u001b[0;34m(self, other)\u001b[0m\n\u001b[1;32m     58\u001b[0m \u001b[38;5;129m@unpack_zerodim_and_defer\u001b[39m(\u001b[38;5;124m\"\u001b[39m\u001b[38;5;124m__ge__\u001b[39m\u001b[38;5;124m\"\u001b[39m)\n\u001b[1;32m     59\u001b[0m \u001b[38;5;28;01mdef\u001b[39;00m \u001b[38;5;21m__ge__\u001b[39m(\u001b[38;5;28mself\u001b[39m, other):\n\u001b[0;32m---> 60\u001b[0m     \u001b[38;5;28;01mreturn\u001b[39;00m \u001b[38;5;28;43mself\u001b[39;49m\u001b[38;5;241;43m.\u001b[39;49m\u001b[43m_cmp_method\u001b[49m\u001b[43m(\u001b[49m\u001b[43mother\u001b[49m\u001b[43m,\u001b[49m\u001b[43m \u001b[49m\u001b[43moperator\u001b[49m\u001b[38;5;241;43m.\u001b[39;49m\u001b[43mge\u001b[49m\u001b[43m)\u001b[49m\n",
      "File \u001b[0;32m~/miniconda3/envs/climada_env/lib/python3.8/site-packages/pandas/core/series.py:5623\u001b[0m, in \u001b[0;36mSeries._cmp_method\u001b[0;34m(self, other, op)\u001b[0m\n\u001b[1;32m   5620\u001b[0m rvalues \u001b[38;5;241m=\u001b[39m extract_array(other, extract_numpy\u001b[38;5;241m=\u001b[39m\u001b[38;5;28;01mTrue\u001b[39;00m, extract_range\u001b[38;5;241m=\u001b[39m\u001b[38;5;28;01mTrue\u001b[39;00m)\n\u001b[1;32m   5622\u001b[0m \u001b[38;5;28;01mwith\u001b[39;00m np\u001b[38;5;241m.\u001b[39merrstate(\u001b[38;5;28mall\u001b[39m\u001b[38;5;241m=\u001b[39m\u001b[38;5;124m\"\u001b[39m\u001b[38;5;124mignore\u001b[39m\u001b[38;5;124m\"\u001b[39m):\n\u001b[0;32m-> 5623\u001b[0m     res_values \u001b[38;5;241m=\u001b[39m \u001b[43mops\u001b[49m\u001b[38;5;241;43m.\u001b[39;49m\u001b[43mcomparison_op\u001b[49m\u001b[43m(\u001b[49m\u001b[43mlvalues\u001b[49m\u001b[43m,\u001b[49m\u001b[43m \u001b[49m\u001b[43mrvalues\u001b[49m\u001b[43m,\u001b[49m\u001b[43m \u001b[49m\u001b[43mop\u001b[49m\u001b[43m)\u001b[49m\n\u001b[1;32m   5625\u001b[0m \u001b[38;5;28;01mreturn\u001b[39;00m \u001b[38;5;28mself\u001b[39m\u001b[38;5;241m.\u001b[39m_construct_result(res_values, name\u001b[38;5;241m=\u001b[39mres_name)\n",
      "File \u001b[0;32m~/miniconda3/envs/climada_env/lib/python3.8/site-packages/pandas/core/ops/array_ops.py:286\u001b[0m, in \u001b[0;36mcomparison_op\u001b[0;34m(left, right, op)\u001b[0m\n\u001b[1;32m    283\u001b[0m     res_values \u001b[38;5;241m=\u001b[39m comp_method_OBJECT_ARRAY(op, lvalues, rvalues)\n\u001b[1;32m    285\u001b[0m \u001b[38;5;28;01melse\u001b[39;00m:\n\u001b[0;32m--> 286\u001b[0m     res_values \u001b[38;5;241m=\u001b[39m \u001b[43m_na_arithmetic_op\u001b[49m\u001b[43m(\u001b[49m\u001b[43mlvalues\u001b[49m\u001b[43m,\u001b[49m\u001b[43m \u001b[49m\u001b[43mrvalues\u001b[49m\u001b[43m,\u001b[49m\u001b[43m \u001b[49m\u001b[43mop\u001b[49m\u001b[43m,\u001b[49m\u001b[43m \u001b[49m\u001b[43mis_cmp\u001b[49m\u001b[38;5;241;43m=\u001b[39;49m\u001b[38;5;28;43;01mTrue\u001b[39;49;00m\u001b[43m)\u001b[49m\n\u001b[1;32m    288\u001b[0m \u001b[38;5;28;01mreturn\u001b[39;00m res_values\n",
      "File \u001b[0;32m~/miniconda3/envs/climada_env/lib/python3.8/site-packages/pandas/core/ops/array_ops.py:163\u001b[0m, in \u001b[0;36m_na_arithmetic_op\u001b[0;34m(left, right, op, is_cmp)\u001b[0m\n\u001b[1;32m    160\u001b[0m     func \u001b[38;5;241m=\u001b[39m partial(expressions\u001b[38;5;241m.\u001b[39mevaluate, op)\n\u001b[1;32m    162\u001b[0m \u001b[38;5;28;01mtry\u001b[39;00m:\n\u001b[0;32m--> 163\u001b[0m     result \u001b[38;5;241m=\u001b[39m \u001b[43mfunc\u001b[49m\u001b[43m(\u001b[49m\u001b[43mleft\u001b[49m\u001b[43m,\u001b[49m\u001b[43m \u001b[49m\u001b[43mright\u001b[49m\u001b[43m)\u001b[49m\n\u001b[1;32m    164\u001b[0m \u001b[38;5;28;01mexcept\u001b[39;00m \u001b[38;5;167;01mTypeError\u001b[39;00m:\n\u001b[1;32m    165\u001b[0m     \u001b[38;5;28;01mif\u001b[39;00m \u001b[38;5;129;01mnot\u001b[39;00m is_cmp \u001b[38;5;129;01mand\u001b[39;00m (is_object_dtype(left\u001b[38;5;241m.\u001b[39mdtype) \u001b[38;5;129;01mor\u001b[39;00m is_object_dtype(right)):\n\u001b[1;32m    166\u001b[0m         \u001b[38;5;66;03m# For object dtype, fallback to a masked operation (only operating\u001b[39;00m\n\u001b[1;32m    167\u001b[0m         \u001b[38;5;66;03m#  on the non-missing values)\u001b[39;00m\n\u001b[1;32m    168\u001b[0m         \u001b[38;5;66;03m# Don't do this for comparisons, as that will handle complex numbers\u001b[39;00m\n\u001b[1;32m    169\u001b[0m         \u001b[38;5;66;03m#  incorrectly, see GH#32047\u001b[39;00m\n",
      "File \u001b[0;32m~/miniconda3/envs/climada_env/lib/python3.8/site-packages/pandas/core/computation/expressions.py:239\u001b[0m, in \u001b[0;36mevaluate\u001b[0;34m(op, a, b, use_numexpr)\u001b[0m\n\u001b[1;32m    236\u001b[0m \u001b[38;5;28;01mif\u001b[39;00m op_str \u001b[38;5;129;01mis\u001b[39;00m \u001b[38;5;129;01mnot\u001b[39;00m \u001b[38;5;28;01mNone\u001b[39;00m:\n\u001b[1;32m    237\u001b[0m     \u001b[38;5;28;01mif\u001b[39;00m use_numexpr:\n\u001b[1;32m    238\u001b[0m         \u001b[38;5;66;03m# error: \"None\" not callable\u001b[39;00m\n\u001b[0;32m--> 239\u001b[0m         \u001b[38;5;28;01mreturn\u001b[39;00m \u001b[43m_evaluate\u001b[49m\u001b[43m(\u001b[49m\u001b[43mop\u001b[49m\u001b[43m,\u001b[49m\u001b[43m \u001b[49m\u001b[43mop_str\u001b[49m\u001b[43m,\u001b[49m\u001b[43m \u001b[49m\u001b[43ma\u001b[49m\u001b[43m,\u001b[49m\u001b[43m \u001b[49m\u001b[43mb\u001b[49m\u001b[43m)\u001b[49m  \u001b[38;5;66;03m# type: ignore[misc]\u001b[39;00m\n\u001b[1;32m    240\u001b[0m \u001b[38;5;28;01mreturn\u001b[39;00m _evaluate_standard(op, op_str, a, b)\n",
      "File \u001b[0;32m~/miniconda3/envs/climada_env/lib/python3.8/site-packages/pandas/core/computation/expressions.py:69\u001b[0m, in \u001b[0;36m_evaluate_standard\u001b[0;34m(op, op_str, a, b)\u001b[0m\n\u001b[1;32m     67\u001b[0m \u001b[38;5;28;01mif\u001b[39;00m _TEST_MODE:\n\u001b[1;32m     68\u001b[0m     _store_test_result(\u001b[38;5;28;01mFalse\u001b[39;00m)\n\u001b[0;32m---> 69\u001b[0m \u001b[38;5;28;01mreturn\u001b[39;00m \u001b[43mop\u001b[49m\u001b[43m(\u001b[49m\u001b[43ma\u001b[49m\u001b[43m,\u001b[49m\u001b[43m \u001b[49m\u001b[43mb\u001b[49m\u001b[43m)\u001b[49m\n",
      "\u001b[0;31mKeyboardInterrupt\u001b[0m: "
     ]
    }
   ],
   "source": [
    "import geopandas as gp\n",
    "import dask.dataframe as dd\n",
    "import time\n",
    "\n",
    "grid_db=gp.read_file('/home/data_folder/osm_data/5x5_1km_grids_ea/n00e030_dem.shp')\n",
    "\n",
    "gzfl='/home/data_folder/points_s2_level_4_gzip/ea_grid_filter_t2/n00e030_dem_177_buildings.csv.gz'\n",
    "\n",
    "do_dask_compute0 = dd.read_csv(gzfl, compression='gzip')\n",
    "bdb=do_dask_compute0.compute()\n",
    "\n",
    "start_time = time.time()\n",
    "\n",
    "cont_bc=[]\n",
    "for idx, row in grid_db.iterrows():\n",
    "    min_long,min_lat,max_long,max_lat=row['geometry'].bounds\n",
    "    bdb1=bdb.loc[(bdb['longitude'] >=min_long ) & (bdb['longitude'] <= max_long)]\n",
    "    bdb2=bdb1.loc[(bdb1['latitude'] >=min_lat ) & (bdb1['latitude'] <= max_lat)]\n",
    "    if not bdb2.empty:\n",
    "        build_count=len(bdb2.index)\n",
    "    else:\n",
    "        build_count=0\n",
    "    cont_bc.append(build_count)\n",
    "    \n",
    "print(\"--- %s seconds ---\" % (time.time() - start_time)) "
   ]
  },
  {
   "cell_type": "code",
   "execution_count": 3,
   "id": "0d4a67d8",
   "metadata": {},
   "outputs": [
    {
     "name": "stderr",
     "output_type": "stream",
     "text": [
      "/root/miniconda3/envs/climada_env/lib/python3.8/site-packages/dask/dataframe/io/csv.py:531: UserWarning: Warning gzip compression does not support breaking apart files\n",
      "Please ensure that each individual file can fit in memory and\n",
      "use the keyword ``blocksize=None to remove this message``\n",
      "Setting ``blocksize=None``\n",
      "  warn(\n"
     ]
    }
   ],
   "source": [
    "## keranl getting killed if th following file is read in pandas, so using dask\n",
    "\n",
    "#import pandas as pd\n",
    "#db=pd.read_csv('/home/data_folder/points_s2_level_4_gzip/165_buildings.csv.gz')\n",
    "\n",
    "import dask.dataframe as dd\n",
    "df = dd.read_csv('/home/data_folder/points_s2_level_4_gzip/165_buildings.csv.gz', compression='gzip')"
   ]
  },
  {
   "cell_type": "code",
   "execution_count": 10,
   "id": "42e90350",
   "metadata": {},
   "outputs": [
    {
     "data": {
      "text/html": [
       "<div>\n",
       "<style scoped>\n",
       "    .dataframe tbody tr th:only-of-type {\n",
       "        vertical-align: middle;\n",
       "    }\n",
       "\n",
       "    .dataframe tbody tr th {\n",
       "        vertical-align: top;\n",
       "    }\n",
       "\n",
       "    .dataframe thead th {\n",
       "        text-align: right;\n",
       "    }\n",
       "</style>\n",
       "<table border=\"1\" class=\"dataframe\">\n",
       "  <thead>\n",
       "    <tr style=\"text-align: right;\">\n",
       "      <th></th>\n",
       "      <th>latitude</th>\n",
       "      <th>longitude</th>\n",
       "      <th>area_in_meters</th>\n",
       "      <th>confidence</th>\n",
       "      <th>full_plus_code</th>\n",
       "      <th>geometry</th>\n",
       "      <th>index_right</th>\n",
       "      <th>sno</th>\n",
       "      <th>dem_name</th>\n",
       "    </tr>\n",
       "  </thead>\n",
       "  <tbody>\n",
       "    <tr>\n",
       "      <th>0</th>\n",
       "      <td>5.826111</td>\n",
       "      <td>20.728984</td>\n",
       "      <td>10.8597</td>\n",
       "      <td>0.6836</td>\n",
       "      <td>6GQ2RPGH+CHXF</td>\n",
       "      <td>POINT (20.72898 5.82611)</td>\n",
       "      <td>5</td>\n",
       "      <td>7</td>\n",
       "      <td>n05e020_dem</td>\n",
       "    </tr>\n",
       "    <tr>\n",
       "      <th>1</th>\n",
       "      <td>5.981590</td>\n",
       "      <td>21.254595</td>\n",
       "      <td>22.5085</td>\n",
       "      <td>0.7586</td>\n",
       "      <td>6GQ3X7J3+JRQJ</td>\n",
       "      <td>POINT (21.25459 5.98159)</td>\n",
       "      <td>5</td>\n",
       "      <td>7</td>\n",
       "      <td>n05e020_dem</td>\n",
       "    </tr>\n",
       "    <tr>\n",
       "      <th>2</th>\n",
       "      <td>6.029738</td>\n",
       "      <td>20.793992</td>\n",
       "      <td>331.9449</td>\n",
       "      <td>0.8251</td>\n",
       "      <td>6GR22QHV+VHXG</td>\n",
       "      <td>POINT (20.79399 6.02974)</td>\n",
       "      <td>5</td>\n",
       "      <td>7</td>\n",
       "      <td>n05e020_dem</td>\n",
       "    </tr>\n",
       "    <tr>\n",
       "      <th>4</th>\n",
       "      <td>8.436696</td>\n",
       "      <td>20.637175</td>\n",
       "      <td>24.3509</td>\n",
       "      <td>0.7856</td>\n",
       "      <td>6GW2CJPP+MVFW</td>\n",
       "      <td>POINT (20.63718 8.43670)</td>\n",
       "      <td>5</td>\n",
       "      <td>7</td>\n",
       "      <td>n05e020_dem</td>\n",
       "    </tr>\n",
       "    <tr>\n",
       "      <th>8</th>\n",
       "      <td>8.412125</td>\n",
       "      <td>20.647561</td>\n",
       "      <td>44.8085</td>\n",
       "      <td>0.7229</td>\n",
       "      <td>6GW2CJ6X+V235</td>\n",
       "      <td>POINT (20.64756 8.41213)</td>\n",
       "      <td>5</td>\n",
       "      <td>7</td>\n",
       "      <td>n05e020_dem</td>\n",
       "    </tr>\n",
       "    <tr>\n",
       "      <th>...</th>\n",
       "      <td>...</td>\n",
       "      <td>...</td>\n",
       "      <td>...</td>\n",
       "      <td>...</td>\n",
       "      <td>...</td>\n",
       "      <td>...</td>\n",
       "      <td>...</td>\n",
       "      <td>...</td>\n",
       "      <td>...</td>\n",
       "    </tr>\n",
       "    <tr>\n",
       "      <th>641165</th>\n",
       "      <td>5.850854</td>\n",
       "      <td>20.514157</td>\n",
       "      <td>54.5573</td>\n",
       "      <td>0.8347</td>\n",
       "      <td>6GQ2VG27+8MV2</td>\n",
       "      <td>POINT (20.51416 5.85085)</td>\n",
       "      <td>5</td>\n",
       "      <td>7</td>\n",
       "      <td>n05e020_dem</td>\n",
       "    </tr>\n",
       "    <tr>\n",
       "      <th>641166</th>\n",
       "      <td>5.032283</td>\n",
       "      <td>21.220177</td>\n",
       "      <td>18.2322</td>\n",
       "      <td>0.7968</td>\n",
       "      <td>6GQ326JC+W378</td>\n",
       "      <td>POINT (21.22018 5.03228)</td>\n",
       "      <td>5</td>\n",
       "      <td>7</td>\n",
       "      <td>n05e020_dem</td>\n",
       "    </tr>\n",
       "    <tr>\n",
       "      <th>641169</th>\n",
       "      <td>6.246464</td>\n",
       "      <td>21.199276</td>\n",
       "      <td>20.2457</td>\n",
       "      <td>0.7347</td>\n",
       "      <td>6GR365WX+HPJH</td>\n",
       "      <td>POINT (21.19928 6.24646)</td>\n",
       "      <td>5</td>\n",
       "      <td>7</td>\n",
       "      <td>n05e020_dem</td>\n",
       "    </tr>\n",
       "    <tr>\n",
       "      <th>641170</th>\n",
       "      <td>5.784635</td>\n",
       "      <td>20.678093</td>\n",
       "      <td>13.6965</td>\n",
       "      <td>0.6839</td>\n",
       "      <td>6GQ2QMMH+V649</td>\n",
       "      <td>POINT (20.67809 5.78463)</td>\n",
       "      <td>5</td>\n",
       "      <td>7</td>\n",
       "      <td>n05e020_dem</td>\n",
       "    </tr>\n",
       "    <tr>\n",
       "      <th>641174</th>\n",
       "      <td>6.537495</td>\n",
       "      <td>21.981599</td>\n",
       "      <td>43.8757</td>\n",
       "      <td>0.7582</td>\n",
       "      <td>6GR3GXPJ+XJXJ</td>\n",
       "      <td>POINT (21.98160 6.53749)</td>\n",
       "      <td>5</td>\n",
       "      <td>7</td>\n",
       "      <td>n05e020_dem</td>\n",
       "    </tr>\n",
       "  </tbody>\n",
       "</table>\n",
       "<p>244044 rows × 9 columns</p>\n",
       "</div>"
      ],
      "text/plain": [
       "        latitude  longitude  area_in_meters  confidence full_plus_code  \\\n",
       "0       5.826111  20.728984         10.8597      0.6836  6GQ2RPGH+CHXF   \n",
       "1       5.981590  21.254595         22.5085      0.7586  6GQ3X7J3+JRQJ   \n",
       "2       6.029738  20.793992        331.9449      0.8251  6GR22QHV+VHXG   \n",
       "4       8.436696  20.637175         24.3509      0.7856  6GW2CJPP+MVFW   \n",
       "8       8.412125  20.647561         44.8085      0.7229  6GW2CJ6X+V235   \n",
       "...          ...        ...             ...         ...            ...   \n",
       "641165  5.850854  20.514157         54.5573      0.8347  6GQ2VG27+8MV2   \n",
       "641166  5.032283  21.220177         18.2322      0.7968  6GQ326JC+W378   \n",
       "641169  6.246464  21.199276         20.2457      0.7347  6GR365WX+HPJH   \n",
       "641170  5.784635  20.678093         13.6965      0.6839  6GQ2QMMH+V649   \n",
       "641174  6.537495  21.981599         43.8757      0.7582  6GR3GXPJ+XJXJ   \n",
       "\n",
       "                        geometry  index_right  sno     dem_name  \n",
       "0       POINT (20.72898 5.82611)            5    7  n05e020_dem  \n",
       "1       POINT (21.25459 5.98159)            5    7  n05e020_dem  \n",
       "2       POINT (20.79399 6.02974)            5    7  n05e020_dem  \n",
       "4       POINT (20.63718 8.43670)            5    7  n05e020_dem  \n",
       "8       POINT (20.64756 8.41213)            5    7  n05e020_dem  \n",
       "...                          ...          ...  ...          ...  \n",
       "641165  POINT (20.51416 5.85085)            5    7  n05e020_dem  \n",
       "641166  POINT (21.22018 5.03228)            5    7  n05e020_dem  \n",
       "641169  POINT (21.19928 6.24646)            5    7  n05e020_dem  \n",
       "641170  POINT (20.67809 5.78463)            5    7  n05e020_dem  \n",
       "641174  POINT (21.98160 6.53749)            5    7  n05e020_dem  \n",
       "\n",
       "[244044 rows x 9 columns]"
      ]
     },
     "execution_count": 10,
     "metadata": {},
     "output_type": "execute_result"
    }
   ],
   "source": [
    "db = dgdf.sjoin(grid_db, how=\"inner\")\n",
    "db1 = db.compute()\n",
    "#db.drop(columns=['geometry', 'index_right','sno'])\n",
    "#db.fillna('out_of_ea')\n",
    "#dem_db=db.drop_duplicates('dem_name')\n",
    "#dem_name_list=dem_db['dem_name'].tolist()\n",
    "#dem_db\n",
    "db1"
   ]
  },
  {
   "cell_type": "code",
   "execution_count": 13,
   "id": "95b13201",
   "metadata": {},
   "outputs": [
    {
     "data": {
      "text/html": [
       "<div>\n",
       "<style scoped>\n",
       "    .dataframe tbody tr th:only-of-type {\n",
       "        vertical-align: middle;\n",
       "    }\n",
       "\n",
       "    .dataframe tbody tr th {\n",
       "        vertical-align: top;\n",
       "    }\n",
       "\n",
       "    .dataframe thead th {\n",
       "        text-align: right;\n",
       "    }\n",
       "</style>\n",
       "<table border=\"1\" class=\"dataframe\">\n",
       "  <thead>\n",
       "    <tr style=\"text-align: right;\">\n",
       "      <th></th>\n",
       "      <th>latitude</th>\n",
       "      <th>longitude</th>\n",
       "      <th>area_in_meters</th>\n",
       "      <th>confidence</th>\n",
       "      <th>full_plus_code</th>\n",
       "      <th>geometry</th>\n",
       "      <th>index_right</th>\n",
       "      <th>sno</th>\n",
       "      <th>dem_name</th>\n",
       "    </tr>\n",
       "  </thead>\n",
       "  <tbody>\n",
       "    <tr>\n",
       "      <th>0</th>\n",
       "      <td>5.826111</td>\n",
       "      <td>20.728984</td>\n",
       "      <td>10.8597</td>\n",
       "      <td>0.6836</td>\n",
       "      <td>6GQ2RPGH+CHXF</td>\n",
       "      <td>POINT (20.72898 5.82611)</td>\n",
       "      <td>5.0</td>\n",
       "      <td>7.0</td>\n",
       "      <td>n05e020_dem</td>\n",
       "    </tr>\n",
       "    <tr>\n",
       "      <th>1</th>\n",
       "      <td>5.981590</td>\n",
       "      <td>21.254595</td>\n",
       "      <td>22.5085</td>\n",
       "      <td>0.7586</td>\n",
       "      <td>6GQ3X7J3+JRQJ</td>\n",
       "      <td>POINT (21.25459 5.98159)</td>\n",
       "      <td>5.0</td>\n",
       "      <td>7.0</td>\n",
       "      <td>n05e020_dem</td>\n",
       "    </tr>\n",
       "    <tr>\n",
       "      <th>2</th>\n",
       "      <td>6.029738</td>\n",
       "      <td>20.793992</td>\n",
       "      <td>331.9449</td>\n",
       "      <td>0.8251</td>\n",
       "      <td>6GR22QHV+VHXG</td>\n",
       "      <td>POINT (20.79399 6.02974)</td>\n",
       "      <td>5.0</td>\n",
       "      <td>7.0</td>\n",
       "      <td>n05e020_dem</td>\n",
       "    </tr>\n",
       "    <tr>\n",
       "      <th>4</th>\n",
       "      <td>8.436696</td>\n",
       "      <td>20.637175</td>\n",
       "      <td>24.3509</td>\n",
       "      <td>0.7856</td>\n",
       "      <td>6GW2CJPP+MVFW</td>\n",
       "      <td>POINT (20.63718 8.43670)</td>\n",
       "      <td>5.0</td>\n",
       "      <td>7.0</td>\n",
       "      <td>n05e020_dem</td>\n",
       "    </tr>\n",
       "    <tr>\n",
       "      <th>8</th>\n",
       "      <td>8.412125</td>\n",
       "      <td>20.647561</td>\n",
       "      <td>44.8085</td>\n",
       "      <td>0.7229</td>\n",
       "      <td>6GW2CJ6X+V235</td>\n",
       "      <td>POINT (20.64756 8.41213)</td>\n",
       "      <td>5.0</td>\n",
       "      <td>7.0</td>\n",
       "      <td>n05e020_dem</td>\n",
       "    </tr>\n",
       "    <tr>\n",
       "      <th>...</th>\n",
       "      <td>...</td>\n",
       "      <td>...</td>\n",
       "      <td>...</td>\n",
       "      <td>...</td>\n",
       "      <td>...</td>\n",
       "      <td>...</td>\n",
       "      <td>...</td>\n",
       "      <td>...</td>\n",
       "      <td>...</td>\n",
       "    </tr>\n",
       "    <tr>\n",
       "      <th>641165</th>\n",
       "      <td>5.850854</td>\n",
       "      <td>20.514157</td>\n",
       "      <td>54.5573</td>\n",
       "      <td>0.8347</td>\n",
       "      <td>6GQ2VG27+8MV2</td>\n",
       "      <td>POINT (20.51416 5.85085)</td>\n",
       "      <td>5.0</td>\n",
       "      <td>7.0</td>\n",
       "      <td>n05e020_dem</td>\n",
       "    </tr>\n",
       "    <tr>\n",
       "      <th>641166</th>\n",
       "      <td>5.032283</td>\n",
       "      <td>21.220177</td>\n",
       "      <td>18.2322</td>\n",
       "      <td>0.7968</td>\n",
       "      <td>6GQ326JC+W378</td>\n",
       "      <td>POINT (21.22018 5.03228)</td>\n",
       "      <td>5.0</td>\n",
       "      <td>7.0</td>\n",
       "      <td>n05e020_dem</td>\n",
       "    </tr>\n",
       "    <tr>\n",
       "      <th>641169</th>\n",
       "      <td>6.246464</td>\n",
       "      <td>21.199276</td>\n",
       "      <td>20.2457</td>\n",
       "      <td>0.7347</td>\n",
       "      <td>6GR365WX+HPJH</td>\n",
       "      <td>POINT (21.19928 6.24646)</td>\n",
       "      <td>5.0</td>\n",
       "      <td>7.0</td>\n",
       "      <td>n05e020_dem</td>\n",
       "    </tr>\n",
       "    <tr>\n",
       "      <th>641170</th>\n",
       "      <td>5.784635</td>\n",
       "      <td>20.678093</td>\n",
       "      <td>13.6965</td>\n",
       "      <td>0.6839</td>\n",
       "      <td>6GQ2QMMH+V649</td>\n",
       "      <td>POINT (20.67809 5.78463)</td>\n",
       "      <td>5.0</td>\n",
       "      <td>7.0</td>\n",
       "      <td>n05e020_dem</td>\n",
       "    </tr>\n",
       "    <tr>\n",
       "      <th>641174</th>\n",
       "      <td>6.537495</td>\n",
       "      <td>21.981599</td>\n",
       "      <td>43.8757</td>\n",
       "      <td>0.7582</td>\n",
       "      <td>6GR3GXPJ+XJXJ</td>\n",
       "      <td>POINT (21.98160 6.53749)</td>\n",
       "      <td>5.0</td>\n",
       "      <td>7.0</td>\n",
       "      <td>n05e020_dem</td>\n",
       "    </tr>\n",
       "  </tbody>\n",
       "</table>\n",
       "<p>244044 rows × 9 columns</p>\n",
       "</div>"
      ],
      "text/plain": [
       "        latitude  longitude  area_in_meters  confidence full_plus_code  \\\n",
       "0       5.826111  20.728984         10.8597      0.6836  6GQ2RPGH+CHXF   \n",
       "1       5.981590  21.254595         22.5085      0.7586  6GQ3X7J3+JRQJ   \n",
       "2       6.029738  20.793992        331.9449      0.8251  6GR22QHV+VHXG   \n",
       "4       8.436696  20.637175         24.3509      0.7856  6GW2CJPP+MVFW   \n",
       "8       8.412125  20.647561         44.8085      0.7229  6GW2CJ6X+V235   \n",
       "...          ...        ...             ...         ...            ...   \n",
       "641165  5.850854  20.514157         54.5573      0.8347  6GQ2VG27+8MV2   \n",
       "641166  5.032283  21.220177         18.2322      0.7968  6GQ326JC+W378   \n",
       "641169  6.246464  21.199276         20.2457      0.7347  6GR365WX+HPJH   \n",
       "641170  5.784635  20.678093         13.6965      0.6839  6GQ2QMMH+V649   \n",
       "641174  6.537495  21.981599         43.8757      0.7582  6GR3GXPJ+XJXJ   \n",
       "\n",
       "                        geometry  index_right  sno     dem_name  \n",
       "0       POINT (20.72898 5.82611)          5.0  7.0  n05e020_dem  \n",
       "1       POINT (21.25459 5.98159)          5.0  7.0  n05e020_dem  \n",
       "2       POINT (20.79399 6.02974)          5.0  7.0  n05e020_dem  \n",
       "4       POINT (20.63718 8.43670)          5.0  7.0  n05e020_dem  \n",
       "8       POINT (20.64756 8.41213)          5.0  7.0  n05e020_dem  \n",
       "...                          ...          ...  ...          ...  \n",
       "641165  POINT (20.51416 5.85085)          5.0  7.0  n05e020_dem  \n",
       "641166  POINT (21.22018 5.03228)          5.0  7.0  n05e020_dem  \n",
       "641169  POINT (21.19928 6.24646)          5.0  7.0  n05e020_dem  \n",
       "641170  POINT (20.67809 5.78463)          5.0  7.0  n05e020_dem  \n",
       "641174  POINT (21.98160 6.53749)          5.0  7.0  n05e020_dem  \n",
       "\n",
       "[244044 rows x 9 columns]"
      ]
     },
     "execution_count": 13,
     "metadata": {},
     "output_type": "execute_result"
    }
   ],
   "source": [
    "db = gbdb.sjoin(grid_db, how=\"left\")\n",
    "dba=db.dropna()\n",
    "dba"
   ]
  },
  {
   "cell_type": "code",
   "execution_count": 18,
   "id": "d0f8f87d",
   "metadata": {},
   "outputs": [
    {
     "data": {
      "text/plain": [
       "['n05e020_dem', 'n10e020_dem']"
      ]
     },
     "execution_count": 18,
     "metadata": {},
     "output_type": "execute_result"
    }
   ],
   "source": [
    "dem_name_list=['n05e020_dem','out_of_ea', 'n10e020_dem']\n",
    "\n",
    "[i for i in dem_name_list if not i in 'out_of_ea']"
   ]
  },
  {
   "cell_type": "code",
   "execution_count": 9,
   "id": "7084819a",
   "metadata": {},
   "outputs": [
    {
     "name": "stderr",
     "output_type": "stream",
     "text": [
      "/tmp/ipykernel_2517/3368655684.py:2: SettingWithCopyWarning: \n",
      "A value is trying to be set on a copy of a slice from a DataFrame\n",
      "\n",
      "See the caveats in the documentation: https://pandas.pydata.org/pandas-docs/stable/user_guide/indexing.html#returning-a-view-versus-a-copy\n",
      "  dem_db.fillna('out_of_ea', inplace=True)\n"
     ]
    },
    {
     "data": {
      "text/html": [
       "<div>\n",
       "<style scoped>\n",
       "    .dataframe tbody tr th:only-of-type {\n",
       "        vertical-align: middle;\n",
       "    }\n",
       "\n",
       "    .dataframe tbody tr th {\n",
       "        vertical-align: top;\n",
       "    }\n",
       "\n",
       "    .dataframe thead th {\n",
       "        text-align: right;\n",
       "    }\n",
       "</style>\n",
       "<table border=\"1\" class=\"dataframe\">\n",
       "  <thead>\n",
       "    <tr style=\"text-align: right;\">\n",
       "      <th></th>\n",
       "      <th>latitude</th>\n",
       "      <th>longitude</th>\n",
       "      <th>area_in_meters</th>\n",
       "      <th>confidence</th>\n",
       "      <th>full_plus_code</th>\n",
       "      <th>dem_name</th>\n",
       "    </tr>\n",
       "  </thead>\n",
       "  <tbody>\n",
       "    <tr>\n",
       "      <th>0</th>\n",
       "      <td>5.826111</td>\n",
       "      <td>20.728984</td>\n",
       "      <td>10.8597</td>\n",
       "      <td>0.6836</td>\n",
       "      <td>6GQ2RPGH+CHXF</td>\n",
       "      <td>n05e020_dem</td>\n",
       "    </tr>\n",
       "    <tr>\n",
       "      <th>3</th>\n",
       "      <td>7.171450</td>\n",
       "      <td>17.298062</td>\n",
       "      <td>11.4237</td>\n",
       "      <td>0.6847</td>\n",
       "      <td>6FVV57CX+H6FX</td>\n",
       "      <td>out_of_ea</td>\n",
       "    </tr>\n",
       "  </tbody>\n",
       "</table>\n",
       "</div>"
      ],
      "text/plain": [
       "   latitude  longitude  area_in_meters  confidence full_plus_code     dem_name\n",
       "0  5.826111  20.728984         10.8597      0.6836  6GQ2RPGH+CHXF  n05e020_dem\n",
       "3  7.171450  17.298062         11.4237      0.6847  6FVV57CX+H6FX    out_of_ea"
      ]
     },
     "execution_count": 9,
     "metadata": {},
     "output_type": "execute_result"
    }
   ],
   "source": [
    "dem_db=db.drop_duplicates('dem_name')\n",
    "dem_db.fillna('out_of_ea', inplace=True)\n",
    "dem_db"
   ]
  },
  {
   "cell_type": "code",
   "execution_count": 4,
   "id": "aa27cbb2",
   "metadata": {},
   "outputs": [
    {
     "data": {
      "text/html": [
       "<div>\n",
       "<style scoped>\n",
       "    .dataframe tbody tr th:only-of-type {\n",
       "        vertical-align: middle;\n",
       "    }\n",
       "\n",
       "    .dataframe tbody tr th {\n",
       "        vertical-align: top;\n",
       "    }\n",
       "\n",
       "    .dataframe thead th {\n",
       "        text-align: right;\n",
       "    }\n",
       "</style>\n",
       "<table border=\"1\" class=\"dataframe\">\n",
       "  <thead>\n",
       "    <tr style=\"text-align: right;\">\n",
       "      <th></th>\n",
       "      <th>latitude</th>\n",
       "      <th>longitude</th>\n",
       "      <th>area_in_meters</th>\n",
       "      <th>confidence</th>\n",
       "      <th>full_plus_code</th>\n",
       "    </tr>\n",
       "  </thead>\n",
       "  <tbody>\n",
       "    <tr>\n",
       "      <th>0</th>\n",
       "      <td>2.594276</td>\n",
       "      <td>45.374220</td>\n",
       "      <td>12.9729</td>\n",
       "      <td>0.7560</td>\n",
       "      <td>6HJ7H9VF+PM92</td>\n",
       "    </tr>\n",
       "    <tr>\n",
       "      <th>1</th>\n",
       "      <td>2.016380</td>\n",
       "      <td>45.264297</td>\n",
       "      <td>56.9999</td>\n",
       "      <td>0.7819</td>\n",
       "      <td>6HJ72787+HP37</td>\n",
       "    </tr>\n",
       "    <tr>\n",
       "      <th>2</th>\n",
       "      <td>2.104140</td>\n",
       "      <td>45.364583</td>\n",
       "      <td>25.8912</td>\n",
       "      <td>0.6304</td>\n",
       "      <td>6HJ74937+MR4G</td>\n",
       "    </tr>\n",
       "    <tr>\n",
       "      <th>3</th>\n",
       "      <td>2.048299</td>\n",
       "      <td>45.364611</td>\n",
       "      <td>73.5123</td>\n",
       "      <td>0.6091</td>\n",
       "      <td>6HJ729X7+8R9W</td>\n",
       "    </tr>\n",
       "    <tr>\n",
       "      <th>4</th>\n",
       "      <td>2.023368</td>\n",
       "      <td>45.311238</td>\n",
       "      <td>49.2868</td>\n",
       "      <td>0.6763</td>\n",
       "      <td>6HJ728F6+8FXP</td>\n",
       "    </tr>\n",
       "    <tr>\n",
       "      <th>...</th>\n",
       "      <td>...</td>\n",
       "      <td>...</td>\n",
       "      <td>...</td>\n",
       "      <td>...</td>\n",
       "      <td>...</td>\n",
       "    </tr>\n",
       "    <tr>\n",
       "      <th>928093</th>\n",
       "      <td>2.009822</td>\n",
       "      <td>45.272287</td>\n",
       "      <td>3.5485</td>\n",
       "      <td>0.6901</td>\n",
       "      <td>6HJ7275C+WWFR</td>\n",
       "    </tr>\n",
       "    <tr>\n",
       "      <th>928094</th>\n",
       "      <td>2.140334</td>\n",
       "      <td>45.117049</td>\n",
       "      <td>129.7858</td>\n",
       "      <td>0.6494</td>\n",
       "      <td>6HJ744R8+4RM8</td>\n",
       "    </tr>\n",
       "    <tr>\n",
       "      <th>928095</th>\n",
       "      <td>2.727209</td>\n",
       "      <td>46.050974</td>\n",
       "      <td>17.8907</td>\n",
       "      <td>0.6802</td>\n",
       "      <td>6HJ8P3G2+V9Q6</td>\n",
       "    </tr>\n",
       "    <tr>\n",
       "      <th>928096</th>\n",
       "      <td>2.102565</td>\n",
       "      <td>45.208381</td>\n",
       "      <td>223.8580</td>\n",
       "      <td>0.8493</td>\n",
       "      <td>6HJ74635+29CC</td>\n",
       "    </tr>\n",
       "    <tr>\n",
       "      <th>928097</th>\n",
       "      <td>2.048168</td>\n",
       "      <td>45.284429</td>\n",
       "      <td>3.6773</td>\n",
       "      <td>0.7381</td>\n",
       "      <td>6HJ727XM+7Q7P</td>\n",
       "    </tr>\n",
       "  </tbody>\n",
       "</table>\n",
       "<p>928098 rows × 5 columns</p>\n",
       "</div>"
      ],
      "text/plain": [
       "        latitude  longitude  area_in_meters  confidence full_plus_code\n",
       "0       2.594276  45.374220         12.9729      0.7560  6HJ7H9VF+PM92\n",
       "1       2.016380  45.264297         56.9999      0.7819  6HJ72787+HP37\n",
       "2       2.104140  45.364583         25.8912      0.6304  6HJ74937+MR4G\n",
       "3       2.048299  45.364611         73.5123      0.6091  6HJ729X7+8R9W\n",
       "4       2.023368  45.311238         49.2868      0.6763  6HJ728F6+8FXP\n",
       "...          ...        ...             ...         ...            ...\n",
       "928093  2.009822  45.272287          3.5485      0.6901  6HJ7275C+WWFR\n",
       "928094  2.140334  45.117049        129.7858      0.6494  6HJ744R8+4RM8\n",
       "928095  2.727209  46.050974         17.8907      0.6802  6HJ8P3G2+V9Q6\n",
       "928096  2.102565  45.208381        223.8580      0.8493  6HJ74635+29CC\n",
       "928097  2.048168  45.284429          3.6773      0.7381  6HJ727XM+7Q7P\n",
       "\n",
       "[928098 rows x 5 columns]"
      ]
     },
     "execution_count": 4,
     "metadata": {},
     "output_type": "execute_result"
    }
   ],
   "source": [
    "\n",
    "\n",
    "for idx, row in grd_db.iterrows():\n",
    "    min_long,min_lat,max_long,max_lat=row['geometry'].bounds\n",
    "    for gzfl in gzfiles:\n",
    "        bdb=pd.read_csv(gzfl)\n",
    "        bdb1=bdb.loc[(bdb['latitude'] >=min_lat ) & (bdb['latitude'] <= max_lat)]\n",
    "# bdb.loc[(bdb['longitude'] >=min_lon ) & (bdb['longitude'] <= max_lon)]\n",
    "    "
   ]
  },
  {
   "cell_type": "markdown",
   "id": "ff6a7e74",
   "metadata": {},
   "source": [
    "## make all 1km grid into single shape file"
   ]
  },
  {
   "cell_type": "code",
   "execution_count": 2,
   "id": "28f8d94a",
   "metadata": {},
   "outputs": [],
   "source": [
    "import geopandas as gp\n",
    "\n",
    "grid_db=gp.read_file('/home/data_folder/osm_data/ea_5x5_grid.shp')\n",
    "\n",
    "\n",
    "db_cont=[]\n",
    "for idx,row in grid_db.iterrows():\n",
    "    grid_name=row['dem_name']\n",
    "    db=gp.read_file(f'/home/data_folder/osm_data/5x5_1km_grids_ea/{grid_name}.shp')\n",
    "    db_cont.append(db)"
   ]
  },
  {
   "cell_type": "code",
   "execution_count": 3,
   "id": "7e3fd13a",
   "metadata": {},
   "outputs": [
    {
     "name": "stdout",
     "output_type": "stream",
     "text": [
      "<class 'geopandas.geodataframe.GeoDataFrame'>\n",
      "Int64Index: 9000000 entries, 0 to 249999\n",
      "Data columns (total 5 columns):\n",
      " #   Column    Dtype   \n",
      "---  ------    -----   \n",
      " 0   gn        int64   \n",
      " 1   Maille    int64   \n",
      " 2   Maille_Y  int64   \n",
      " 3   Maille_X  int64   \n",
      " 4   geometry  geometry\n",
      "dtypes: geometry(1), int64(4)\n",
      "memory usage: 412.0 MB\n"
     ]
    }
   ],
   "source": [
    "import pandas as pd\n",
    "\n",
    "db=pd.concat(db_cont)\n",
    "db.info()"
   ]
  },
  {
   "cell_type": "code",
   "execution_count": null,
   "id": "5bc71a7b",
   "metadata": {},
   "outputs": [],
   "source": [
    "db1=gp.GeoDataFrame(db)\n",
    "db1.to_file('/home/data_folder/osm_data/ea_5x5_1km_grids.shp',index=False)"
   ]
  },
  {
   "cell_type": "code",
   "execution_count": 11,
   "id": "351d3944",
   "metadata": {},
   "outputs": [],
   "source": [
    "min_long,min_lat,max_long,max_lat=grid_db['geometry'][0].bounds\n",
    "\n",
    "# bdb.loc[(bdb['latitude'] >=min_lat ) & (bdb['latitude'] <= max_lat)]\n",
    "# bdb.loc[(bdb['longitude'] >=min_lon ) & (bdb['longitude'] <= max_lon)]"
   ]
  },
  {
   "cell_type": "code",
   "execution_count": 12,
   "id": "47cbc972",
   "metadata": {},
   "outputs": [
    {
     "data": {
      "text/plain": [
       "(24.999583333333334,\n",
       " -0.0004166666666662877,\n",
       " 29.999583333333334,\n",
       " 4.999583333333334)"
      ]
     },
     "execution_count": 12,
     "metadata": {},
     "output_type": "execute_result"
    }
   ],
   "source": [
    "min_long,min_lat,max_long,max_lat"
   ]
  },
  {
   "cell_type": "code",
   "execution_count": null,
   "id": "5c054a40",
   "metadata": {},
   "outputs": [],
   "source": []
  }
 ],
 "metadata": {
  "kernelspec": {
   "display_name": "Python 3 (ipykernel)",
   "language": "python",
   "name": "python3"
  },
  "language_info": {
   "codemirror_mode": {
    "name": "ipython",
    "version": 3
   },
   "file_extension": ".py",
   "mimetype": "text/x-python",
   "name": "python",
   "nbconvert_exporter": "python",
   "pygments_lexer": "ipython3",
   "version": "3.8.13"
  }
 },
 "nbformat": 4,
 "nbformat_minor": 5
}

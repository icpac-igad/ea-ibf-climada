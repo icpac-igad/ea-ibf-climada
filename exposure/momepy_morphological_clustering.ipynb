{
 "cells": [
  {
   "cell_type": "markdown",
   "id": "b1ea9fee",
   "metadata": {},
   "source": [
    "https://link.springer.com/article/10.1007/s11069-022-05612-4\n",
    "    \n",
    "Mapping and characterising buildings for flood exposure analysis using open-source data and artificial intelligence"
   ]
  }
 ],
 "metadata": {
  "kernelspec": {
   "display_name": "Python 3 (ipykernel)",
   "language": "python",
   "name": "python3"
  },
  "language_info": {
   "codemirror_mode": {
    "name": "ipython",
    "version": 3
   },
   "file_extension": ".py",
   "mimetype": "text/x-python",
   "name": "python",
   "nbconvert_exporter": "python",
   "pygments_lexer": "ipython3",
   "version": "3.8.13"
  }
 },
 "nbformat": 4,
 "nbformat_minor": 5
}
